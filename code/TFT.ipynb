{
 "cells": [
  {
   "cell_type": "code",
   "execution_count": 86,
   "id": "17c217da-4877-4d92-a038-c550a9587a0c",
   "metadata": {},
   "outputs": [],
   "source": [
    "%matplotlib inline\n",
    "import numpy as np\n",
    "import pandas as pd\n",
    "import matplotlib.pyplot as plt\n",
    "import seaborn as sns\n",
    "import os\n",
    "import sys\n",
    "import missingno as mno\n",
    "\n",
    "import warnings\n",
    "warnings.filterwarnings(\"ignore\")\n",
    "import logging\n",
    "logging.disable(logging.CRITICAL)\n",
    "\n",
    "\n",
    "from darts import TimeSeries, concatenate\n",
    "from darts.dataprocessing.transformers import Scaler\n",
    "from darts.models import TFTModel\n",
    "from darts.metrics import mape, rmse\n",
    "from darts.utils.timeseries_generation import datetime_attribute_timeseries\n",
    "from darts.utils.likelihood_models import QuantileRegression\n",
    "\n",
    "\n",
    "pd.set_option(\"display.precision\",2)\n",
    "np.set_printoptions(precision=2, suppress=True)\n",
    "pd.options.display.float_format = '{:,.2f}'.format"
   ]
  },
  {
   "cell_type": "code",
   "execution_count": 87,
   "id": "a96bcbdb-1513-4005-9728-52faff8a1515",
   "metadata": {},
   "outputs": [],
   "source": [
    "\n",
    "LOAD = False         # True = load previously saved model from disk?  False = (re)train the model\n",
    "SAVE = \"\\_TFT_model_02.pth.tar\"   # file name to save the model under\n",
    "\n",
    "EPOCHS = 50\n",
    "INLEN = 8          # input size\n",
    "HIDDEN = 32         # hidden layers    \n",
    "LSTMLAYERS = 2      # recurrent layers\n",
    "ATTH = 4            # attention heads\n",
    "BATCH = 8          # batch size\n",
    "LEARN = 1e-4        # learning rate\n",
    "DROPOUT = 0.1       # dropout rate\n",
    "VALWAIT = 1         # epochs to wait before evaluating the loss on the test/validation set\n",
    "N_FC = 1            # output size\n",
    "\n",
    "RAND = 42           # random seed\n",
    "N_SAMPLES = 100     # number of times a prediction is sampled from a probabilistic model\n",
    "N_JOBS = -1          # parallel processors to use;  -1 = all processors\n",
    "\n",
    "# default quantiles for QuantileRegression\n",
    "QUANTILES = [0.1, 0.2, 0.3, 0.4, 0.5, 0.6, 0.7, 0.8, 0.9]\n",
    "\n",
    "SPLIT = pd.to_datetime('2022-08')         # train/test %\n",
    "\n",
    "FIGSIZE = (9, 6)\n",
    "\n",
    "\n",
    "qL1, qL2 = 0.01, 0.10        # percentiles of predictions: lower bounds\n",
    "qU1, qU2 = 1-qL1, 1-qL2,     # upper bounds derived from lower bounds\n",
    "label_q1 = f'{int(qU1 * 100)} / {int(qL1 * 100)} percentile band'\n",
    "label_q2 = f'{int(qU2 * 100)} / {int(qL2 * 100)} percentile band'\n",
    "\n",
    "mpath = os.path.abspath(os.getcwd()) + SAVE     # path and file name to save the model"
   ]
  },
  {
   "cell_type": "code",
   "execution_count": 88,
   "id": "a0309bba-4edc-42cb-af7f-11a82a9aea34",
   "metadata": {},
   "outputs": [],
   "source": [
    "def import_csv_dateindex(csv_file):\n",
    "    df = pd.read_csv(f'../data/{csv_file}')\n",
    "    df['date'] = pd.to_datetime(df['date'])\n",
    "    df = df.set_index('date').asfreq('B')\n",
    "    return df"
   ]
  },
  {
   "cell_type": "code",
   "execution_count": 89,
   "id": "d660df11-a0c4-44d0-8e93-d6104d29d94c",
   "metadata": {},
   "outputs": [],
   "source": [
    "rubber = import_csv_dateindex('../data/rubber.csv')"
   ]
  },
  {
   "cell_type": "code",
   "execution_count": 90,
   "id": "f056a398-309a-45a2-bca0-55a417c9557a",
   "metadata": {},
   "outputs": [
    {
     "data": {
      "text/html": [
       "<div>\n",
       "<style scoped>\n",
       "    .dataframe tbody tr th:only-of-type {\n",
       "        vertical-align: middle;\n",
       "    }\n",
       "\n",
       "    .dataframe tbody tr th {\n",
       "        vertical-align: top;\n",
       "    }\n",
       "\n",
       "    .dataframe thead th {\n",
       "        text-align: right;\n",
       "    }\n",
       "</style>\n",
       "<table border=\"1\" class=\"dataframe\">\n",
       "  <thead>\n",
       "    <tr style=\"text-align: right;\">\n",
       "      <th></th>\n",
       "      <th>cup_lump</th>\n",
       "      <th>rubber_sheet</th>\n",
       "      <th>ribbed_smoked_sheet</th>\n",
       "      <th>latex</th>\n",
       "      <th>fob</th>\n",
       "      <th>tocom</th>\n",
       "      <th>sicom</th>\n",
       "      <th>jpy</th>\n",
       "      <th>sgd</th>\n",
       "      <th>usd</th>\n",
       "      <th>crude_oil</th>\n",
       "    </tr>\n",
       "    <tr>\n",
       "      <th>date</th>\n",
       "      <th></th>\n",
       "      <th></th>\n",
       "      <th></th>\n",
       "      <th></th>\n",
       "      <th></th>\n",
       "      <th></th>\n",
       "      <th></th>\n",
       "      <th></th>\n",
       "      <th></th>\n",
       "      <th></th>\n",
       "      <th></th>\n",
       "    </tr>\n",
       "  </thead>\n",
       "  <tbody>\n",
       "    <tr>\n",
       "      <th>2017-09-19</th>\n",
       "      <td>NaN</td>\n",
       "      <td>52.56</td>\n",
       "      <td>55.04</td>\n",
       "      <td>51.50</td>\n",
       "      <td>60.10</td>\n",
       "      <td>208.80</td>\n",
       "      <td>174.30</td>\n",
       "      <td>3.37</td>\n",
       "      <td>24.56</td>\n",
       "      <td>0.03</td>\n",
       "      <td>51.77</td>\n",
       "    </tr>\n",
       "    <tr>\n",
       "      <th>2017-09-20</th>\n",
       "      <td>NaN</td>\n",
       "      <td>51.51</td>\n",
       "      <td>53.28</td>\n",
       "      <td>50.50</td>\n",
       "      <td>59.70</td>\n",
       "      <td>210.00</td>\n",
       "      <td>178.20</td>\n",
       "      <td>3.39</td>\n",
       "      <td>24.54</td>\n",
       "      <td>0.03</td>\n",
       "      <td>51.79</td>\n",
       "    </tr>\n",
       "    <tr>\n",
       "      <th>2017-09-21</th>\n",
       "      <td>NaN</td>\n",
       "      <td>51.51</td>\n",
       "      <td>53.14</td>\n",
       "      <td>50.00</td>\n",
       "      <td>59.70</td>\n",
       "      <td>207.80</td>\n",
       "      <td>175.30</td>\n",
       "      <td>3.40</td>\n",
       "      <td>24.53</td>\n",
       "      <td>0.03</td>\n",
       "      <td>51.63</td>\n",
       "    </tr>\n",
       "    <tr>\n",
       "      <th>2017-09-22</th>\n",
       "      <td>NaN</td>\n",
       "      <td>51.78</td>\n",
       "      <td>53.30</td>\n",
       "      <td>50.00</td>\n",
       "      <td>58.70</td>\n",
       "      <td>207.00</td>\n",
       "      <td>176.50</td>\n",
       "      <td>3.39</td>\n",
       "      <td>24.58</td>\n",
       "      <td>0.03</td>\n",
       "      <td>51.67</td>\n",
       "    </tr>\n",
       "    <tr>\n",
       "      <th>2017-09-25</th>\n",
       "      <td>NaN</td>\n",
       "      <td>50.58</td>\n",
       "      <td>53.22</td>\n",
       "      <td>50.00</td>\n",
       "      <td>58.70</td>\n",
       "      <td>207.00</td>\n",
       "      <td>178.00</td>\n",
       "      <td>3.38</td>\n",
       "      <td>24.50</td>\n",
       "      <td>0.03</td>\n",
       "      <td>51.41</td>\n",
       "    </tr>\n",
       "  </tbody>\n",
       "</table>\n",
       "</div>"
      ],
      "text/plain": [
       "            cup_lump  rubber_sheet  ribbed_smoked_sheet  latex   fob  tocom  \\\n",
       "date                                                                          \n",
       "2017-09-19       NaN         52.56                55.04  51.50 60.10 208.80   \n",
       "2017-09-20       NaN         51.51                53.28  50.50 59.70 210.00   \n",
       "2017-09-21       NaN         51.51                53.14  50.00 59.70 207.80   \n",
       "2017-09-22       NaN         51.78                53.30  50.00 58.70 207.00   \n",
       "2017-09-25       NaN         50.58                53.22  50.00 58.70 207.00   \n",
       "\n",
       "            sicom  jpy   sgd  usd  crude_oil  \n",
       "date                                          \n",
       "2017-09-19 174.30 3.37 24.56 0.03      51.77  \n",
       "2017-09-20 178.20 3.39 24.54 0.03      51.79  \n",
       "2017-09-21 175.30 3.40 24.53 0.03      51.63  \n",
       "2017-09-22 176.50 3.39 24.58 0.03      51.67  \n",
       "2017-09-25 178.00 3.38 24.50 0.03      51.41  "
      ]
     },
     "execution_count": 90,
     "metadata": {},
     "output_type": "execute_result"
    }
   ],
   "source": [
    "rubber.head()"
   ]
  },
  {
   "cell_type": "code",
   "execution_count": 91,
   "id": "95c0a867-658c-4123-aace-fcbd1488cb38",
   "metadata": {},
   "outputs": [],
   "source": [
    "rubber.drop(['cup_lump', 'usd'], axis=1, inplace=True)"
   ]
  },
  {
   "cell_type": "code",
   "execution_count": 92,
   "id": "409ce474-fe96-483b-8334-18523241a356",
   "metadata": {},
   "outputs": [
    {
     "name": "stdout",
     "output_type": "stream",
     "text": [
      "components: Index(['ribbed_smoked_sheet'], dtype='object', name='component')\n",
      "duration: 1868 days 00:00:00\n",
      "frequency: <BusinessDay>\n",
      "frequency: B\n",
      "has date time index? (or else, it must have an integer index): True\n",
      "deterministic: True\n",
      "univariate: True\n"
     ]
    }
   ],
   "source": [
    "# create time series object for target variable\n",
    "ts_P = TimeSeries.from_series(rubber[\"ribbed_smoked_sheet\"], freq='B') \n",
    "\n",
    "# check attributes of the time series\n",
    "print(\"components:\", ts_P.components)\n",
    "print(\"duration:\",ts_P.duration)\n",
    "print(\"frequency:\",ts_P.freq)\n",
    "print(\"frequency:\",ts_P.freq_str)\n",
    "print(\"has date time index? (or else, it must have an integer index):\",ts_P.has_datetime_index)\n",
    "print(\"deterministic:\",ts_P.is_deterministic)\n",
    "print(\"univariate:\",ts_P.is_univariate)"
   ]
  },
  {
   "cell_type": "code",
   "execution_count": 93,
   "id": "18f4a233-2557-4a3c-873c-b53fe12d5bce",
   "metadata": {},
   "outputs": [
    {
     "name": "stdout",
     "output_type": "stream",
     "text": [
      "components (columns) of feature time series: Index(['rubber_sheet', 'latex', 'fob', 'tocom', 'sicom', 'jpy', 'sgd',\n",
      "       'crude_oil'],\n",
      "      dtype='object', name='component')\n",
      "duration: 1868 days 00:00:00\n",
      "frequency: <BusinessDay>\n",
      "frequency: B\n",
      "has date time index? (or else, it must have an integer index): True\n",
      "deterministic: True\n",
      "univariate: False\n"
     ]
    }
   ],
   "source": [
    "# create time series object for the feature columns\n",
    "df_covF = rubber.loc[:, rubber.columns != \"ribbed_smoked_sheet\"]\n",
    "ts_covF = TimeSeries.from_dataframe(df_covF)\n",
    "\n",
    "# check attributes of the time series\n",
    "print(\"components (columns) of feature time series:\", ts_covF.components)\n",
    "print(\"duration:\",ts_covF.duration)\n",
    "print(\"frequency:\",ts_covF.freq)\n",
    "print(\"frequency:\",ts_covF.freq_str)\n",
    "print(\"has date time index? (or else, it must have an integer index):\",ts_covF.has_datetime_index)\n",
    "print(\"deterministic:\",ts_covF.is_deterministic)\n",
    "print(\"univariate:\",ts_covF.is_univariate)"
   ]
  },
  {
   "cell_type": "code",
   "execution_count": 94,
   "id": "13d170d7-9809-488b-a7cd-aa86823779c1",
   "metadata": {},
   "outputs": [
    {
     "name": "stdout",
     "output_type": "stream",
     "text": [
      "training start: 2017-09-19 00:00:00\n",
      "training end: 2022-08-01 00:00:00\n",
      "training duration: 1777 days 00:00:00\n",
      "test start: 2022-08-02 00:00:00\n",
      "test end: 2022-10-31 00:00:00\n",
      "test duration: 90 days 00:00:00\n",
      "first and last row of scaled price time series:\n"
     ]
    },
    {
     "data": {
      "text/html": [
       "<div>\n",
       "<style scoped>\n",
       "    .dataframe tbody tr th:only-of-type {\n",
       "        vertical-align: middle;\n",
       "    }\n",
       "\n",
       "    .dataframe tbody tr th {\n",
       "        vertical-align: top;\n",
       "    }\n",
       "\n",
       "    .dataframe thead th {\n",
       "        text-align: right;\n",
       "    }\n",
       "</style>\n",
       "<table border=\"1\" class=\"dataframe\">\n",
       "  <thead>\n",
       "    <tr style=\"text-align: right;\">\n",
       "      <th>component</th>\n",
       "      <th>ribbed_smoked_sheet</th>\n",
       "    </tr>\n",
       "    <tr>\n",
       "      <th>date</th>\n",
       "      <th></th>\n",
       "    </tr>\n",
       "  </thead>\n",
       "  <tbody>\n",
       "    <tr>\n",
       "      <th>2017-09-19</th>\n",
       "      <td>0.41</td>\n",
       "    </tr>\n",
       "    <tr>\n",
       "      <th>2022-10-31</th>\n",
       "      <td>0.29</td>\n",
       "    </tr>\n",
       "  </tbody>\n",
       "</table>\n",
       "</div>"
      ],
      "text/plain": [
       "component   ribbed_smoked_sheet\n",
       "date                           \n",
       "2017-09-19                 0.41\n",
       "2022-10-31                 0.29"
      ]
     },
     "execution_count": 94,
     "metadata": {},
     "output_type": "execute_result"
    }
   ],
   "source": [
    "# train/test split and scaling of target variable\n",
    "ts_train, ts_test = ts_P.split_after(split_point=SPLIT)\n",
    "print(\"training start:\", ts_train.start_time())\n",
    "print(\"training end:\", ts_train.end_time())\n",
    "print(\"training duration:\",ts_train.duration)\n",
    "print(\"test start:\", ts_test.start_time())\n",
    "print(\"test end:\", ts_test.end_time())\n",
    "print(\"test duration:\", ts_test.duration)\n",
    "\n",
    "\n",
    "scalerP = Scaler()\n",
    "scalerP.fit_transform(ts_train)\n",
    "ts_ttrain = scalerP.transform(ts_train)\n",
    "ts_ttest = scalerP.transform(ts_test)    \n",
    "ts_t = scalerP.transform(ts_P)\n",
    "\n",
    "# make sure data are of type float\n",
    "ts_t = ts_t.astype(np.float32)\n",
    "ts_ttrain = ts_ttrain.astype(np.float32)\n",
    "ts_ttest = ts_ttest.astype(np.float32)\n",
    "\n",
    "print(\"first and last row of scaled price time series:\")\n",
    "pd.options.display.float_format = '{:,.2f}'.format\n",
    "ts_t.pd_dataframe().iloc[[0,-1]]"
   ]
  },
  {
   "cell_type": "code",
   "execution_count": 95,
   "id": "1962d40f-df5c-4061-9fe0-39b4a7c5f4bc",
   "metadata": {},
   "outputs": [
    {
     "name": "stdout",
     "output_type": "stream",
     "text": [
      "first and last row of scaled feature covariates:\n"
     ]
    },
    {
     "data": {
      "text/html": [
       "<div>\n",
       "<style scoped>\n",
       "    .dataframe tbody tr th:only-of-type {\n",
       "        vertical-align: middle;\n",
       "    }\n",
       "\n",
       "    .dataframe tbody tr th {\n",
       "        vertical-align: top;\n",
       "    }\n",
       "\n",
       "    .dataframe thead th {\n",
       "        text-align: right;\n",
       "    }\n",
       "</style>\n",
       "<table border=\"1\" class=\"dataframe\">\n",
       "  <thead>\n",
       "    <tr style=\"text-align: right;\">\n",
       "      <th>component</th>\n",
       "      <th>rubber_sheet</th>\n",
       "      <th>latex</th>\n",
       "      <th>fob</th>\n",
       "      <th>tocom</th>\n",
       "      <th>sicom</th>\n",
       "      <th>jpy</th>\n",
       "      <th>sgd</th>\n",
       "      <th>crude_oil</th>\n",
       "    </tr>\n",
       "    <tr>\n",
       "      <th>date</th>\n",
       "      <th></th>\n",
       "      <th></th>\n",
       "      <th></th>\n",
       "      <th></th>\n",
       "      <th></th>\n",
       "      <th></th>\n",
       "      <th></th>\n",
       "      <th></th>\n",
       "    </tr>\n",
       "  </thead>\n",
       "  <tbody>\n",
       "    <tr>\n",
       "      <th>2017-09-19</th>\n",
       "      <td>0.41</td>\n",
       "      <td>0.45</td>\n",
       "      <td>0.40</td>\n",
       "      <td>0.38</td>\n",
       "      <td>0.29</td>\n",
       "      <td>0.21</td>\n",
       "      <td>0.57</td>\n",
       "      <td>0.21</td>\n",
       "    </tr>\n",
       "    <tr>\n",
       "      <th>2022-10-31</th>\n",
       "      <td>0.27</td>\n",
       "      <td>0.35</td>\n",
       "      <td>0.36</td>\n",
       "      <td>0.41</td>\n",
       "      <td>0.14</td>\n",
       "      <td>1.03</td>\n",
       "      <td>1.08</td>\n",
       "      <td>0.63</td>\n",
       "    </tr>\n",
       "  </tbody>\n",
       "</table>\n",
       "</div>"
      ],
      "text/plain": [
       "component   rubber_sheet  latex  fob  tocom  sicom  jpy  sgd  crude_oil\n",
       "date                                                                   \n",
       "2017-09-19          0.41   0.45 0.40   0.38   0.29 0.21 0.57       0.21\n",
       "2022-10-31          0.27   0.35 0.36   0.41   0.14 1.03 1.08       0.63"
      ]
     },
     "execution_count": 95,
     "metadata": {},
     "output_type": "execute_result"
    }
   ],
   "source": [
    "# train/test split and scaling of feature covariates\n",
    "covF_train, covF_test = ts_covF.split_after(SPLIT)\n",
    "\n",
    "scalerF = Scaler()\n",
    "scalerF.fit_transform(covF_train)\n",
    "covF_ttrain = scalerF.transform(covF_train) \n",
    "covF_ttest = scalerF.transform(covF_test)   \n",
    "covF_t = scalerF.transform(ts_covF)  \n",
    "\n",
    "# make sure data are of type float\n",
    "covF_ttrain = covF_ttrain.astype(np.float32)\n",
    "covF_ttest = covF_ttest.astype(np.float32)\n",
    "\n",
    "pd.options.display.float_format = '{:.2f}'.format\n",
    "print(\"first and last row of scaled feature covariates:\")\n",
    "covF_t.pd_dataframe().iloc[[0,-1]]"
   ]
  },
  {
   "cell_type": "code",
   "execution_count": 96,
   "id": "f6cee205-cf52-4c96-9532-a0e59358e6fa",
   "metadata": {},
   "outputs": [
    {
     "name": "stdout",
     "output_type": "stream",
     "text": [
      "first and last row of unscaled time covariates:\n"
     ]
    },
    {
     "data": {
      "text/html": [
       "<div>\n",
       "<style scoped>\n",
       "    .dataframe tbody tr th:only-of-type {\n",
       "        vertical-align: middle;\n",
       "    }\n",
       "\n",
       "    .dataframe tbody tr th {\n",
       "        vertical-align: top;\n",
       "    }\n",
       "\n",
       "    .dataframe thead th {\n",
       "        text-align: right;\n",
       "    }\n",
       "</style>\n",
       "<table border=\"1\" class=\"dataframe\">\n",
       "  <thead>\n",
       "    <tr style=\"text-align: right;\">\n",
       "      <th>component</th>\n",
       "      <th>day</th>\n",
       "      <th>day_of_week</th>\n",
       "      <th>month</th>\n",
       "      <th>quarter</th>\n",
       "      <th>year</th>\n",
       "    </tr>\n",
       "    <tr>\n",
       "      <th>time</th>\n",
       "      <th></th>\n",
       "      <th></th>\n",
       "      <th></th>\n",
       "      <th></th>\n",
       "      <th></th>\n",
       "    </tr>\n",
       "  </thead>\n",
       "  <tbody>\n",
       "    <tr>\n",
       "      <th>2017-09-19</th>\n",
       "      <td>19</td>\n",
       "      <td>1</td>\n",
       "      <td>9</td>\n",
       "      <td>3</td>\n",
       "      <td>2017</td>\n",
       "    </tr>\n",
       "    <tr>\n",
       "      <th>2022-11-29</th>\n",
       "      <td>29</td>\n",
       "      <td>1</td>\n",
       "      <td>11</td>\n",
       "      <td>4</td>\n",
       "      <td>2022</td>\n",
       "    </tr>\n",
       "  </tbody>\n",
       "</table>\n",
       "</div>"
      ],
      "text/plain": [
       "component   day  day_of_week  month  quarter  year\n",
       "time                                              \n",
       "2017-09-19   19            1      9        3  2017\n",
       "2022-11-29   29            1     11        4  2022"
      ]
     },
     "execution_count": 96,
     "metadata": {},
     "output_type": "execute_result"
    }
   ],
   "source": [
    "# feature engineering - create time covariates: hour, weekday, month, year, country-specific holidays\n",
    "covT = datetime_attribute_timeseries( ts_P.time_index, attribute=\"day\", add_length=21)   # 48 hours beyond end of test set to prepare for out-of-sample forecasting\n",
    "covT = covT.stack(  datetime_attribute_timeseries(covT.time_index, attribute=\"day_of_week\")  )\n",
    "covT = covT.stack(  datetime_attribute_timeseries(covT.time_index, attribute=\"month\")  )\n",
    "covT = covT.stack(  datetime_attribute_timeseries(covT.time_index, attribute=\"quarter\")  )\n",
    "covT = covT.stack(  datetime_attribute_timeseries(covT.time_index, attribute=\"year\")  )\n",
    "\n",
    "covT = covT.astype(np.float32)\n",
    "\n",
    "\n",
    "# train/test split\n",
    "covT_train, covT_test = covT.split_after(ts_train.end_time())\n",
    "\n",
    "\n",
    "# rescale the covariates: fitting on the training set\n",
    "scalerT = Scaler()\n",
    "scalerT.fit(covT_train)\n",
    "covT_ttrain = scalerT.transform(covT_train)\n",
    "covT_ttest = scalerT.transform(covT_test)\n",
    "covT_t = scalerT.transform(covT)\n",
    "\n",
    "covT_t = covT_t.astype(np.float32)\n",
    "\n",
    "\n",
    "pd.options.display.float_format = '{:.0f}'.format\n",
    "print(\"first and last row of unscaled time covariates:\")\n",
    "covT.pd_dataframe().iloc[[0,-1]]"
   ]
  },
  {
   "cell_type": "code",
   "execution_count": 97,
   "id": "2dbc07c6-078c-4c77-8e01-3cfc6508e7a7",
   "metadata": {},
   "outputs": [
    {
     "name": "stdout",
     "output_type": "stream",
     "text": [
      "first and last row of unscaled covariates:\n"
     ]
    },
    {
     "data": {
      "text/html": [
       "<div>\n",
       "<style scoped>\n",
       "    .dataframe tbody tr th:only-of-type {\n",
       "        vertical-align: middle;\n",
       "    }\n",
       "\n",
       "    .dataframe tbody tr th {\n",
       "        vertical-align: top;\n",
       "    }\n",
       "\n",
       "    .dataframe thead th {\n",
       "        text-align: right;\n",
       "    }\n",
       "</style>\n",
       "<table border=\"1\" class=\"dataframe\">\n",
       "  <thead>\n",
       "    <tr style=\"text-align: right;\">\n",
       "      <th>component</th>\n",
       "      <th>rubber_sheet</th>\n",
       "      <th>latex</th>\n",
       "      <th>fob</th>\n",
       "      <th>tocom</th>\n",
       "      <th>sicom</th>\n",
       "      <th>jpy</th>\n",
       "      <th>sgd</th>\n",
       "      <th>crude_oil</th>\n",
       "      <th>day</th>\n",
       "      <th>day_of_week</th>\n",
       "      <th>month</th>\n",
       "      <th>quarter</th>\n",
       "      <th>year</th>\n",
       "    </tr>\n",
       "    <tr>\n",
       "      <th>date</th>\n",
       "      <th></th>\n",
       "      <th></th>\n",
       "      <th></th>\n",
       "      <th></th>\n",
       "      <th></th>\n",
       "      <th></th>\n",
       "      <th></th>\n",
       "      <th></th>\n",
       "      <th></th>\n",
       "      <th></th>\n",
       "      <th></th>\n",
       "      <th></th>\n",
       "      <th></th>\n",
       "    </tr>\n",
       "  </thead>\n",
       "  <tbody>\n",
       "    <tr>\n",
       "      <th>2017-09-19</th>\n",
       "      <td>52.56</td>\n",
       "      <td>51.50</td>\n",
       "      <td>60.10</td>\n",
       "      <td>208.80</td>\n",
       "      <td>174.30</td>\n",
       "      <td>3.37</td>\n",
       "      <td>24.56</td>\n",
       "      <td>51.77</td>\n",
       "      <td>19.00</td>\n",
       "      <td>1.00</td>\n",
       "      <td>9.00</td>\n",
       "      <td>3.00</td>\n",
       "      <td>2017.00</td>\n",
       "    </tr>\n",
       "    <tr>\n",
       "      <th>2022-10-31</th>\n",
       "      <td>47.03</td>\n",
       "      <td>47.00</td>\n",
       "      <td>58.15</td>\n",
       "      <td>215.70</td>\n",
       "      <td>149.90</td>\n",
       "      <td>3.91</td>\n",
       "      <td>26.87</td>\n",
       "      <td>86.53</td>\n",
       "      <td>31.00</td>\n",
       "      <td>0.00</td>\n",
       "      <td>10.00</td>\n",
       "      <td>4.00</td>\n",
       "      <td>2022.00</td>\n",
       "    </tr>\n",
       "  </tbody>\n",
       "</table>\n",
       "</div>"
      ],
      "text/plain": [
       "component   rubber_sheet  latex   fob  tocom  sicom  jpy   sgd  crude_oil  \\\n",
       "date                                                                        \n",
       "2017-09-19         52.56  51.50 60.10 208.80 174.30 3.37 24.56      51.77   \n",
       "2022-10-31         47.03  47.00 58.15 215.70 149.90 3.91 26.87      86.53   \n",
       "\n",
       "component    day  day_of_week  month  quarter    year  \n",
       "date                                                   \n",
       "2017-09-19 19.00         1.00   9.00     3.00 2017.00  \n",
       "2022-10-31 31.00         0.00  10.00     4.00 2022.00  "
      ]
     },
     "execution_count": 97,
     "metadata": {},
     "output_type": "execute_result"
    }
   ],
   "source": [
    "# combine feature and time covariates along component dimension: axis=1\n",
    "ts_cov = ts_covF.concatenate( covT.slice_intersect(ts_covF), axis=1 )                      # unscaled F+T\n",
    "cov_t = covF_t.concatenate( covT_t.slice_intersect(covF_t), axis=1 )                       # scaled F+T\n",
    "cov_ttrain = covF_ttrain.concatenate( covT_ttrain.slice_intersect(covF_ttrain), axis=1 )   # scaled F+T training set\n",
    "cov_ttest = covF_ttest.concatenate( covT_ttest.slice_intersect(covF_ttest), axis=1 )       # scaled F+T test set\n",
    "cov_t = cov_t.astype(np.float32)\n",
    "\n",
    "pd.options.display.float_format = '{:.2f}'.format\n",
    "print(\"first and last row of unscaled covariates:\")\n",
    "ts_cov.pd_dataframe().iloc[[0,-1]]"
   ]
  },
  {
   "cell_type": "code",
   "execution_count": 98,
   "id": "042799bd-1b95-46d5-a5af-0259c06fb3a1",
   "metadata": {},
   "outputs": [],
   "source": [
    "model = TFTModel(   input_chunk_length=INLEN,\n",
    "                    output_chunk_length=N_FC,\n",
    "                    hidden_size=HIDDEN,\n",
    "                    lstm_layers=LSTMLAYERS,\n",
    "                    num_attention_heads=ATTH,\n",
    "                    dropout=DROPOUT,\n",
    "                    batch_size=BATCH,\n",
    "                    n_epochs=EPOCHS,                        \n",
    "                    nr_epochs_val_period=VALWAIT, \n",
    "                    likelihood=QuantileRegression(QUANTILES), \n",
    "                    optimizer_kwargs={\"lr\": LEARN}, \n",
    "                    model_name=\"TFT_EnergyES\",\n",
    "                    log_tensorboard=True,\n",
    "                    random_state=RAND,\n",
    "                    force_reset=True,\n",
    "                    save_checkpoints=True\n",
    "                )"
   ]
  },
  {
   "cell_type": "code",
   "execution_count": null,
   "id": "10f01b3f-e3cb-40f6-87c3-d2b0a275565a",
   "metadata": {},
   "outputs": [
    {
     "data": {
      "application/vnd.jupyter.widget-view+json": {
       "model_id": "",
       "version_major": 2,
       "version_minor": 0
      },
      "text/plain": [
       "Sanity Checking: 0it [00:00, ?it/s]"
      ]
     },
     "metadata": {},
     "output_type": "display_data"
    },
    {
     "data": {
      "application/vnd.jupyter.widget-view+json": {
       "model_id": "704d74956c2849ed86052d278e1717d9",
       "version_major": 2,
       "version_minor": 0
      },
      "text/plain": [
       "Training: 0it [00:00, ?it/s]"
      ]
     },
     "metadata": {},
     "output_type": "display_data"
    },
    {
     "data": {
      "application/vnd.jupyter.widget-view+json": {
       "model_id": "",
       "version_major": 2,
       "version_minor": 0
      },
      "text/plain": [
       "Validation: 0it [00:00, ?it/s]"
      ]
     },
     "metadata": {},
     "output_type": "display_data"
    },
    {
     "data": {
      "application/vnd.jupyter.widget-view+json": {
       "model_id": "",
       "version_major": 2,
       "version_minor": 0
      },
      "text/plain": [
       "Validation: 0it [00:00, ?it/s]"
      ]
     },
     "metadata": {},
     "output_type": "display_data"
    },
    {
     "data": {
      "application/vnd.jupyter.widget-view+json": {
       "model_id": "",
       "version_major": 2,
       "version_minor": 0
      },
      "text/plain": [
       "Validation: 0it [00:00, ?it/s]"
      ]
     },
     "metadata": {},
     "output_type": "display_data"
    },
    {
     "data": {
      "application/vnd.jupyter.widget-view+json": {
       "model_id": "",
       "version_major": 2,
       "version_minor": 0
      },
      "text/plain": [
       "Validation: 0it [00:00, ?it/s]"
      ]
     },
     "metadata": {},
     "output_type": "display_data"
    },
    {
     "data": {
      "application/vnd.jupyter.widget-view+json": {
       "model_id": "",
       "version_major": 2,
       "version_minor": 0
      },
      "text/plain": [
       "Validation: 0it [00:00, ?it/s]"
      ]
     },
     "metadata": {},
     "output_type": "display_data"
    },
    {
     "data": {
      "application/vnd.jupyter.widget-view+json": {
       "model_id": "",
       "version_major": 2,
       "version_minor": 0
      },
      "text/plain": [
       "Validation: 0it [00:00, ?it/s]"
      ]
     },
     "metadata": {},
     "output_type": "display_data"
    },
    {
     "data": {
      "application/vnd.jupyter.widget-view+json": {
       "model_id": "",
       "version_major": 2,
       "version_minor": 0
      },
      "text/plain": [
       "Validation: 0it [00:00, ?it/s]"
      ]
     },
     "metadata": {},
     "output_type": "display_data"
    },
    {
     "data": {
      "application/vnd.jupyter.widget-view+json": {
       "model_id": "",
       "version_major": 2,
       "version_minor": 0
      },
      "text/plain": [
       "Validation: 0it [00:00, ?it/s]"
      ]
     },
     "metadata": {},
     "output_type": "display_data"
    },
    {
     "data": {
      "application/vnd.jupyter.widget-view+json": {
       "model_id": "",
       "version_major": 2,
       "version_minor": 0
      },
      "text/plain": [
       "Validation: 0it [00:00, ?it/s]"
      ]
     },
     "metadata": {},
     "output_type": "display_data"
    },
    {
     "data": {
      "application/vnd.jupyter.widget-view+json": {
       "model_id": "",
       "version_major": 2,
       "version_minor": 0
      },
      "text/plain": [
       "Validation: 0it [00:00, ?it/s]"
      ]
     },
     "metadata": {},
     "output_type": "display_data"
    },
    {
     "data": {
      "application/vnd.jupyter.widget-view+json": {
       "model_id": "",
       "version_major": 2,
       "version_minor": 0
      },
      "text/plain": [
       "Validation: 0it [00:00, ?it/s]"
      ]
     },
     "metadata": {},
     "output_type": "display_data"
    },
    {
     "data": {
      "application/vnd.jupyter.widget-view+json": {
       "model_id": "",
       "version_major": 2,
       "version_minor": 0
      },
      "text/plain": [
       "Validation: 0it [00:00, ?it/s]"
      ]
     },
     "metadata": {},
     "output_type": "display_data"
    },
    {
     "data": {
      "application/vnd.jupyter.widget-view+json": {
       "model_id": "",
       "version_major": 2,
       "version_minor": 0
      },
      "text/plain": [
       "Validation: 0it [00:00, ?it/s]"
      ]
     },
     "metadata": {},
     "output_type": "display_data"
    },
    {
     "data": {
      "application/vnd.jupyter.widget-view+json": {
       "model_id": "",
       "version_major": 2,
       "version_minor": 0
      },
      "text/plain": [
       "Validation: 0it [00:00, ?it/s]"
      ]
     },
     "metadata": {},
     "output_type": "display_data"
    },
    {
     "data": {
      "application/vnd.jupyter.widget-view+json": {
       "model_id": "",
       "version_major": 2,
       "version_minor": 0
      },
      "text/plain": [
       "Validation: 0it [00:00, ?it/s]"
      ]
     },
     "metadata": {},
     "output_type": "display_data"
    },
    {
     "data": {
      "application/vnd.jupyter.widget-view+json": {
       "model_id": "",
       "version_major": 2,
       "version_minor": 0
      },
      "text/plain": [
       "Validation: 0it [00:00, ?it/s]"
      ]
     },
     "metadata": {},
     "output_type": "display_data"
    }
   ],
   "source": [
    "# training: load a saved model or (re)train\n",
    "if LOAD:\n",
    "    print(\"have loaded a previously saved model from disk:\" + mpath)\n",
    "    model = TFTModel.load_model(mpath)                            # load previously model from disk \n",
    "else:\n",
    "    model.fit(  series=ts_ttrain, \n",
    "                future_covariates=cov_t, \n",
    "                val_series=ts_ttest, \n",
    "                val_future_covariates=cov_t, \n",
    "                verbose=True)\n",
    "    print(\"have saved the model after training:\", mpath)\n",
    "    model.save_model(mpath)"
   ]
  },
  {
   "cell_type": "code",
   "execution_count": null,
   "id": "b5332805-07d1-4b97-87bc-e9b3f6cbdebe",
   "metadata": {},
   "outputs": [],
   "source": [
    "# testing: generate predictions\n",
    "ts_tpred = model.predict(   n=len(ts_ttest), \n",
    "                            num_samples=N_SAMPLES,   \n",
    "                            n_jobs=N_JOBS, \n",
    "                            verbose=True)\n",
    "                            \n",
    "                            \n",
    "                            \n",
    "# retrieve forecast series for chosen quantiles, \n",
    "# inverse-transform each series,\n",
    "# insert them as columns in a new dataframe dfY\n",
    "q50_RMSE = np.inf\n",
    "q50_MAPE = np.inf\n",
    "ts_q50 = None\n",
    "pd.options.display.float_format = '{:,.2f}'.format\n",
    "dfY = pd.DataFrame()\n",
    "dfY[\"Actual\"] = TimeSeries.pd_series(ts_test)\n",
    "\n",
    "\n",
    "# helper function: get forecast values for selected quantile q and insert them in dataframe dfY\n",
    "def predQ(ts_t, q):\n",
    "    ts_tq = ts_t.quantile_timeseries(q)\n",
    "    ts_q = scalerP.inverse_transform(ts_tq)\n",
    "    s = TimeSeries.pd_series(ts_q)\n",
    "    header = \"Q\" + format(int(q*100), \"02d\")\n",
    "    dfY[header] = s\n",
    "    if q==0.5:\n",
    "        ts_q50 = ts_q\n",
    "        q50_RMSE = rmse(ts_q50, ts_test)\n",
    "        q50_MAPE = mape(ts_test, ts_q50) \n",
    "        print(\"RMSE:\", f'{q50_RMSE:.2f}')\n",
    "        print(\"MAPE:\", f'{q50_MAPE:.2f}')\n",
    "  \n",
    "    \n",
    "# call helper function predQ, once for every quantile\n",
    "_ = [predQ(ts_tpred, q) for q in QUANTILES]\n",
    "\n",
    "# move Q50 column to the left of the Actual column\n",
    "col = dfY.pop(\"Q50\")\n",
    "dfY.insert(1, col.name, col)\n",
    "dfY.iloc[np.r_[0:2, -2:0]]"
   ]
  },
  {
   "cell_type": "code",
   "execution_count": null,
   "id": "45b2f564-2c30-4387-812c-e3051465a234",
   "metadata": {},
   "outputs": [],
   "source": [
    "for col in dfY.columns:\n",
    "    print(f\"mape {col} {mape(TimeSeries.from_series(dfY['Actual'], freq='B'), TimeSeries.from_series(dfY[col], freq='W'))}\")"
   ]
  },
  {
   "cell_type": "code",
   "execution_count": null,
   "id": "60a89131-9bbc-489d-95fc-20820a13bafa",
   "metadata": {},
   "outputs": [],
   "source": [
    "# plot the forecast\n",
    "plt.figure(100, figsize=(20, 7))\n",
    "sns.set(font_scale=1.3)\n",
    "p = sns.lineplot(x = \"date\", y = \"Q50\", data = dfY, palette=\"coolwarm\")\n",
    "sns.lineplot(x = \"date\", y = \"Actual\", data = dfY, palette=\"coolwarm\")\n",
    "plt.legend(labels=[\"forecast median price Q50\", \"actual price\"])\n",
    "p.set_ylabel(\"price\")\n",
    "p.set_xlabel(\"\")\n",
    "p.set_title(\"energy price (test set)\");"
   ]
  },
  {
   "cell_type": "code",
   "execution_count": null,
   "id": "7a2351d5-2924-41f8-8c30-c375fba7ddbc",
   "metadata": {},
   "outputs": [],
   "source": [
    "# choose forecast horizon: k hours beyond end of test set\n",
    "k = 21   \n",
    "\n",
    "n_FC = k + len(ts_ttest)   # length of test set + k hours\n",
    "print(\"forecast beyond end of training set:\", n_FC, \n",
    "      \"hours beyond\", ts_ttrain.end_time())\n",
    "\n",
    "# last 24 hours of feature covariates available => copy them to future 24 hours:\n",
    "covF_t_fut = covF_t.concatenate(other=covF_t.tail(size=21), ignore_time_axis=True)\n",
    "# combine feature and time covariates:\n",
    "cov_t_fut = covF_t_fut.concatenate(covT_t.slice_intersect(covF_t_fut), axis=1) \n",
    "cov_t_fut = cov_t_fut.astype(np.float32)\n",
    "cov_t_fut.pd_dataframe().iloc[[0,-1]]"
   ]
  },
  {
   "cell_type": "code",
   "execution_count": null,
   "id": "efe63f27-603e-40c1-aab2-1a9d31d5d804",
   "metadata": {},
   "outputs": [],
   "source": [
    "# forecast from end of training set until k hours beyond end of test set\n",
    "ts_tpred = model.predict(   n=n_FC, \n",
    "                            future_covariates=cov_t_fut, \n",
    "                            num_samples=N_SAMPLES, \n",
    "                            verbose=True, \n",
    "                            n_jobs=N_JOBS)\n",
    "print(\"start:\", ts_tpred.start_time(), \"; end:\",ts_tpred.end_time())"
   ]
  },
  {
   "cell_type": "code",
   "execution_count": null,
   "id": "d30a7ad3-1dc8-48ab-8d93-a870d8ad5c84",
   "metadata": {},
   "outputs": [],
   "source": [
    "# retrieve forecast series for chosen quantiles, \n",
    "# inverse-transform each series,\n",
    "# insert them as columns in a new dataframe dfY\n",
    "q50_RMSE = np.inf\n",
    "q50_MAPE = np.inf\n",
    "ts_q50 = None\n",
    "pd.options.display.float_format = '{:,.2f}'.format\n",
    "dfY = pd.DataFrame()\n",
    "#dfY[\"Actual\"] = TimeSeries.pd_series(ts_test)\n",
    " \n",
    "# call helper function predQ, once for every quantile\n",
    "_ = [predQ(ts_tpred, q) for q in QUANTILES]\n",
    "\n",
    "# move Q50 column to the left, then insert Actual column\n",
    "col = dfY.pop(\"Q50\")\n",
    "dfY.insert(0, col.name, col)\n",
    "dfY.insert(0, \"Actual\", TimeSeries.pd_series(ts_test))\n",
    "\n",
    "# show first and last 13 timestamps of forecast\n",
    "dfY.iloc[np.r_[0:1, -13:0]]  "
   ]
  },
  {
   "cell_type": "code",
   "execution_count": null,
   "id": "aea7d45c-43a0-420d-8273-85d59821ff96",
   "metadata": {},
   "outputs": [],
   "source": [
    "# plot the forecast\n",
    "plt.figure(100, figsize=(20, 7))\n",
    "sns.set(font_scale=1.3)\n",
    "p = sns.lineplot(x = \"date\", y = \"Q50\", data = dfY, palette=\"coolwarm\")\n",
    "sns.lineplot(x = \"date\", y = \"Actual\", data = dfY, palette=\"coolwarm\")\n",
    "plt.legend(labels=[\"forecast median price Q50\", \"actual price\"])\n",
    "p.set_ylabel(\"price\")\n",
    "p.set_xlabel(\"\")\n",
    "end = ts_tpred.end_time()\n",
    "p.set_title(\"energy price until {} (test set + {} hours out-of-sample)\".format(end, k));"
   ]
  },
  {
   "cell_type": "code",
   "execution_count": null,
   "id": "0a90d44f-e78d-41fa-82bd-b0265a959de1",
   "metadata": {},
   "outputs": [],
   "source": []
  }
 ],
 "metadata": {
  "kernelspec": {
   "display_name": "Python 3 (ipykernel)",
   "language": "python",
   "name": "python3"
  },
  "language_info": {
   "codemirror_mode": {
    "name": "ipython",
    "version": 3
   },
   "file_extension": ".py",
   "mimetype": "text/x-python",
   "name": "python",
   "nbconvert_exporter": "python",
   "pygments_lexer": "ipython3",
   "version": "3.9.12"
  }
 },
 "nbformat": 4,
 "nbformat_minor": 5
}
