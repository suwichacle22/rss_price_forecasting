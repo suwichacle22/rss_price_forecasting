{
 "cells": [
  {
   "cell_type": "markdown",
   "id": "764d86ae-a7eb-48c0-8221-401de6eeee6f",
   "metadata": {},
   "source": [
    "# Part 5 (extra): N-BEATS with data only in year 2021 - 2022\n",
    "source and code: [N-BEATS Unleashed](https://towardsdatascience.com/n-beats-unleashed-deep-forecasting-using-neural-basis-expansion-analysis-in-python-343dd6307010)"
   ]
  },
  {
   "cell_type": "code",
   "execution_count": 9,
   "id": "17c217da-4877-4d92-a038-c550a9587a0c",
   "metadata": {},
   "outputs": [],
   "source": [
    "# import package\n",
    "import numpy as np\n",
    "import pandas as pd\n",
    "import matplotlib.pyplot as plt\n",
    "import seaborn as sns\n",
    "import os\n",
    "import sys\n",
    "import missingno as mno\n",
    "\n",
    "import warnings\n",
    "warnings.filterwarnings(\"ignore\")\n",
    "import logging\n",
    "logging.disable(logging.CRITICAL)\n",
    "\n",
    "\n",
    "from darts import TimeSeries, concatenate\n",
    "from darts.dataprocessing.transformers import Scaler\n",
    "from darts.models import NBEATSModel\n",
    "from darts.metrics import mape, rmse\n",
    "from darts.utils.timeseries_generation import datetime_attribute_timeseries\n",
    "from darts.utils.likelihood_models import QuantileRegression\n",
    "from darts.utils.statistics import check_seasonality\n",
    "\n",
    "\n",
    "pd.set_option(\"display.precision\",2)\n",
    "np.set_printoptions(precision=2, suppress=True)\n",
    "pd.options.display.float_format = '{:,.2f}'.format"
   ]
  },
  {
   "cell_type": "code",
   "execution_count": 10,
   "id": "a96bcbdb-1513-4005-9728-52faff8a1515",
   "metadata": {},
   "outputs": [],
   "source": [
    "LOAD = False         # True = load previously saved model from disk?  False = (re)train the model\n",
    "SAVE = \".\\..\\model\\_NBEATS_rss_model.pth.tar\"   # file name to save the model under\n",
    "\n",
    "EPOCHS = 20\n",
    "INLEN = 16        # input size\n",
    "BLOCKS = 16         \n",
    "LWIDTH = 32\n",
    "BATCH = 4          # batch size\n",
    "LEARN = 1e-4        # learning rate\n",
    "VALWAIT = 1         # epochs to wait before evaluating the loss on the test/validation set\n",
    "N_FC = 1            # output size\n",
    "\n",
    "RAND = 42           # random seed\n",
    "N_SAMPLES = 100     # number of times a prediction is sampled from a probabilistic model\n",
    "N_JOBS = -1          # parallel processors to use;  -1 = all processors\n",
    "\n",
    "# default quantiles for QuantileRegression\n",
    "QUANTILES = [0.01, 0.1, 0.2, 0.5, 0.8, 0.9, 0.99]\n",
    "\n",
    "SPLIT = 0.9        # train/test %\n",
    "\n",
    "FIGSIZE = (9, 6)\n",
    "\n",
    "\n",
    "qL1, qL2 = 0.01, 0.10        # percentiles of predictions: lower bounds\n",
    "qU1, qU2 = 1-qL1, 1-qL2,     # upper bounds derived from lower bounds\n",
    "label_q1 = f'{int(qU1 * 100)} / {int(qL1 * 100)} percentile band'\n",
    "label_q2 = f'{int(qU2 * 100)} / {int(qL2 * 100)} percentile band'\n",
    "\n",
    "mpath = os.path.abspath(os.getcwd()) + SAVE     # path and file name to save the model"
   ]
  },
  {
   "cell_type": "markdown",
   "id": "6fb46186-f087-475c-a873-e2d43cedf1aa",
   "metadata": {},
   "source": [
    "## Data Preparation"
   ]
  },
  {
   "cell_type": "code",
   "execution_count": 11,
   "id": "a0309bba-4edc-42cb-af7f-11a82a9aea34",
   "metadata": {},
   "outputs": [],
   "source": [
    "# create function for import dataset and set date as index\n",
    "def import_csv_dateindex(csv_file):\n",
    "    \"\"\"\n",
    "    take path of csv file and return df which date col as index\n",
    "    \"\"\"\n",
    "    df = pd.read_csv(f'../data/{csv_file}')\n",
    "    df['date'] = pd.to_datetime(df['date'])\n",
    "    df = df.set_index('date').asfreq('B')\n",
    "    return df"
   ]
  },
  {
   "cell_type": "code",
   "execution_count": 12,
   "id": "d660df11-a0c4-44d0-8e93-d6104d29d94c",
   "metadata": {},
   "outputs": [],
   "source": [
    "# import dataset\n",
    "rubber = import_csv_dateindex('../data/rubber.csv')\n",
    "rubber.drop('usd', axis=1, inplace=True)"
   ]
  },
  {
   "cell_type": "code",
   "execution_count": 13,
   "id": "11b859cd-49f4-4a7f-8fb4-58382a04145d",
   "metadata": {},
   "outputs": [],
   "source": [
    "rubber['cup_lump'].fillna(method='bfill', inplace=True)"
   ]
  },
  {
   "cell_type": "code",
   "execution_count": 14,
   "id": "f056a398-309a-45a2-bca0-55a417c9557a",
   "metadata": {},
   "outputs": [
    {
     "data": {
      "text/html": [
       "<div>\n",
       "<style scoped>\n",
       "    .dataframe tbody tr th:only-of-type {\n",
       "        vertical-align: middle;\n",
       "    }\n",
       "\n",
       "    .dataframe tbody tr th {\n",
       "        vertical-align: top;\n",
       "    }\n",
       "\n",
       "    .dataframe thead th {\n",
       "        text-align: right;\n",
       "    }\n",
       "</style>\n",
       "<table border=\"1\" class=\"dataframe\">\n",
       "  <thead>\n",
       "    <tr style=\"text-align: right;\">\n",
       "      <th></th>\n",
       "      <th>cup_lump</th>\n",
       "      <th>rubber_sheet</th>\n",
       "      <th>ribbed_smoked_sheet</th>\n",
       "      <th>latex</th>\n",
       "      <th>fob</th>\n",
       "      <th>tocom</th>\n",
       "      <th>sicom</th>\n",
       "      <th>jpy</th>\n",
       "      <th>sgd</th>\n",
       "      <th>crude_oil</th>\n",
       "    </tr>\n",
       "    <tr>\n",
       "      <th>date</th>\n",
       "      <th></th>\n",
       "      <th></th>\n",
       "      <th></th>\n",
       "      <th></th>\n",
       "      <th></th>\n",
       "      <th></th>\n",
       "      <th></th>\n",
       "      <th></th>\n",
       "      <th></th>\n",
       "      <th></th>\n",
       "    </tr>\n",
       "  </thead>\n",
       "  <tbody>\n",
       "    <tr>\n",
       "      <th>2017-09-19</th>\n",
       "      <td>36.00</td>\n",
       "      <td>52.56</td>\n",
       "      <td>55.04</td>\n",
       "      <td>51.50</td>\n",
       "      <td>60.10</td>\n",
       "      <td>208.80</td>\n",
       "      <td>174.30</td>\n",
       "      <td>3.37</td>\n",
       "      <td>24.56</td>\n",
       "      <td>51.77</td>\n",
       "    </tr>\n",
       "    <tr>\n",
       "      <th>2017-09-20</th>\n",
       "      <td>36.00</td>\n",
       "      <td>51.51</td>\n",
       "      <td>53.28</td>\n",
       "      <td>50.50</td>\n",
       "      <td>59.70</td>\n",
       "      <td>210.00</td>\n",
       "      <td>178.20</td>\n",
       "      <td>3.39</td>\n",
       "      <td>24.54</td>\n",
       "      <td>51.79</td>\n",
       "    </tr>\n",
       "    <tr>\n",
       "      <th>2017-09-21</th>\n",
       "      <td>36.00</td>\n",
       "      <td>51.51</td>\n",
       "      <td>53.14</td>\n",
       "      <td>50.00</td>\n",
       "      <td>59.70</td>\n",
       "      <td>207.80</td>\n",
       "      <td>175.30</td>\n",
       "      <td>3.40</td>\n",
       "      <td>24.53</td>\n",
       "      <td>51.63</td>\n",
       "    </tr>\n",
       "    <tr>\n",
       "      <th>2017-09-22</th>\n",
       "      <td>36.00</td>\n",
       "      <td>51.78</td>\n",
       "      <td>53.30</td>\n",
       "      <td>50.00</td>\n",
       "      <td>58.70</td>\n",
       "      <td>207.00</td>\n",
       "      <td>176.50</td>\n",
       "      <td>3.39</td>\n",
       "      <td>24.58</td>\n",
       "      <td>51.67</td>\n",
       "    </tr>\n",
       "    <tr>\n",
       "      <th>2017-09-25</th>\n",
       "      <td>36.00</td>\n",
       "      <td>50.58</td>\n",
       "      <td>53.22</td>\n",
       "      <td>50.00</td>\n",
       "      <td>58.70</td>\n",
       "      <td>207.00</td>\n",
       "      <td>178.00</td>\n",
       "      <td>3.38</td>\n",
       "      <td>24.50</td>\n",
       "      <td>51.41</td>\n",
       "    </tr>\n",
       "  </tbody>\n",
       "</table>\n",
       "</div>"
      ],
      "text/plain": [
       "            cup_lump  rubber_sheet  ribbed_smoked_sheet  latex   fob  tocom  \\\n",
       "date                                                                          \n",
       "2017-09-19     36.00         52.56                55.04  51.50 60.10 208.80   \n",
       "2017-09-20     36.00         51.51                53.28  50.50 59.70 210.00   \n",
       "2017-09-21     36.00         51.51                53.14  50.00 59.70 207.80   \n",
       "2017-09-22     36.00         51.78                53.30  50.00 58.70 207.00   \n",
       "2017-09-25     36.00         50.58                53.22  50.00 58.70 207.00   \n",
       "\n",
       "            sicom  jpy   sgd  crude_oil  \n",
       "date                                     \n",
       "2017-09-19 174.30 3.37 24.56      51.77  \n",
       "2017-09-20 178.20 3.39 24.54      51.79  \n",
       "2017-09-21 175.30 3.40 24.53      51.63  \n",
       "2017-09-22 176.50 3.39 24.58      51.67  \n",
       "2017-09-25 178.00 3.38 24.50      51.41  "
      ]
     },
     "execution_count": 14,
     "metadata": {},
     "output_type": "execute_result"
    }
   ],
   "source": [
    "rubber.head()"
   ]
  },
  {
   "cell_type": "code",
   "execution_count": 15,
   "id": "df4ec6f7-799b-4531-905c-ed174a31705e",
   "metadata": {},
   "outputs": [],
   "source": [
    "rubber_lag = rubber.shift(21).copy()"
   ]
  },
  {
   "cell_type": "code",
   "execution_count": 16,
   "id": "9302c4a3-ff62-471f-80be-ac127cf293db",
   "metadata": {},
   "outputs": [],
   "source": [
    "rubber_train = pd.concat([rubber[['ribbed_smoked_sheet']], rubber_lag.drop('ribbed_smoked_sheet', axis=1)], axis=1)\n",
    "rubber_train.dropna(inplace=True)\n",
    "rubber_train = rubber_train.loc['2021':]"
   ]
  },
  {
   "cell_type": "code",
   "execution_count": 17,
   "id": "409ce474-fe96-483b-8334-18523241a356",
   "metadata": {},
   "outputs": [
    {
     "name": "stdout",
     "output_type": "stream",
     "text": [
      "components: Index(['ribbed_smoked_sheet'], dtype='object', name='component')\n",
      "duration: 668 days 00:00:00\n",
      "frequency: <BusinessDay>\n",
      "frequency: B\n",
      "has date time index? (or else, it must have an integer index): True\n",
      "deterministic: True\n",
      "univariate: True\n"
     ]
    }
   ],
   "source": [
    "# create time series object for target variable\n",
    "ts_P = TimeSeries.from_series(rubber_train[\"ribbed_smoked_sheet\"], freq='B') \n",
    "\n",
    "# check attributes of the time series\n",
    "print(\"components:\", ts_P.components)\n",
    "print(\"duration:\",ts_P.duration)\n",
    "print(\"frequency:\",ts_P.freq)\n",
    "print(\"frequency:\",ts_P.freq_str)\n",
    "print(\"has date time index? (or else, it must have an integer index):\",ts_P.has_datetime_index)\n",
    "print(\"deterministic:\",ts_P.is_deterministic)\n",
    "print(\"univariate:\",ts_P.is_univariate)"
   ]
  },
  {
   "cell_type": "code",
   "execution_count": 18,
   "id": "13d170d7-9809-488b-a7cd-aa86823779c1",
   "metadata": {},
   "outputs": [
    {
     "name": "stdout",
     "output_type": "stream",
     "text": [
      "training start: 2021-01-01 00:00:00\n",
      "training end: 2022-08-24 00:00:00\n",
      "training duration: 600 days 00:00:00\n",
      "test start: 2022-08-25 00:00:00\n",
      "test end: 2022-10-31 00:00:00\n",
      "test duration: 67 days 00:00:00\n"
     ]
    }
   ],
   "source": [
    "# train/test split and scaling of target variable\n",
    "ts_train, ts_test = ts_P.split_after(split_point=SPLIT)\n",
    "print(\"training start:\", ts_train.start_time())\n",
    "print(\"training end:\", ts_train.end_time())\n",
    "print(\"training duration:\",ts_train.duration)\n",
    "print(\"test start:\", ts_test.start_time())\n",
    "print(\"test end:\", ts_test.end_time())\n",
    "print(\"test duration:\", ts_test.duration)"
   ]
  },
  {
   "cell_type": "code",
   "execution_count": 19,
   "id": "0c803694-2e47-4cec-b1bb-2aec9e43b9ad",
   "metadata": {},
   "outputs": [
    {
     "name": "stdout",
     "output_type": "stream",
     "text": [
      "first and last row of scaled price time series:\n"
     ]
    },
    {
     "data": {
      "text/html": [
       "<div>\n",
       "<style scoped>\n",
       "    .dataframe tbody tr th:only-of-type {\n",
       "        vertical-align: middle;\n",
       "    }\n",
       "\n",
       "    .dataframe tbody tr th {\n",
       "        vertical-align: top;\n",
       "    }\n",
       "\n",
       "    .dataframe thead th {\n",
       "        text-align: right;\n",
       "    }\n",
       "</style>\n",
       "<table border=\"1\" class=\"dataframe\">\n",
       "  <thead>\n",
       "    <tr style=\"text-align: right;\">\n",
       "      <th>component</th>\n",
       "      <th>ribbed_smoked_sheet</th>\n",
       "    </tr>\n",
       "    <tr>\n",
       "      <th>date</th>\n",
       "      <th></th>\n",
       "    </tr>\n",
       "  </thead>\n",
       "  <tbody>\n",
       "    <tr>\n",
       "      <th>2021-01-01</th>\n",
       "      <td>0.37</td>\n",
       "    </tr>\n",
       "    <tr>\n",
       "      <th>2022-10-31</th>\n",
       "      <td>0.04</td>\n",
       "    </tr>\n",
       "  </tbody>\n",
       "</table>\n",
       "</div>"
      ],
      "text/plain": [
       "component   ribbed_smoked_sheet\n",
       "date                           \n",
       "2021-01-01                 0.37\n",
       "2022-10-31                 0.04"
      ]
     },
     "execution_count": 19,
     "metadata": {},
     "output_type": "execute_result"
    }
   ],
   "source": [
    "# standardize features\n",
    "scalerP = Scaler()\n",
    "scalerP.fit_transform(ts_train)\n",
    "ts_ttrain = scalerP.transform(ts_train)\n",
    "ts_ttest = scalerP.transform(ts_test)    \n",
    "ts_t = scalerP.transform(ts_P)\n",
    "\n",
    "print(\"first and last row of scaled price time series:\")\n",
    "pd.options.display.float_format = '{:,.2f}'.format\n",
    "ts_t.pd_dataframe().iloc[[0,-1]]"
   ]
  },
  {
   "cell_type": "code",
   "execution_count": 20,
   "id": "47a4d10a-7888-4ed4-abd6-ec5b6e2a0a48",
   "metadata": {},
   "outputs": [],
   "source": [
    "# make sure data are of type float\n",
    "ts_t = ts_t.astype(np.float32)\n",
    "ts_ttrain = ts_ttrain.astype(np.float32)\n",
    "ts_ttest = ts_ttest.astype(np.float32)"
   ]
  },
  {
   "cell_type": "markdown",
   "id": "782c9e00-a2c2-4171-8b60-b77741117920",
   "metadata": {},
   "source": [
    "### Covariates"
   ]
  },
  {
   "cell_type": "code",
   "execution_count": 21,
   "id": "4ebdb713-e60c-4cba-b333-f2b83a6e28a6",
   "metadata": {},
   "outputs": [
    {
     "name": "stdout",
     "output_type": "stream",
     "text": [
      "components (columns) of feature time series: Index(['cup_lump', 'rubber_sheet', 'latex', 'fob', 'tocom', 'sicom', 'jpy',\n",
      "       'sgd', 'crude_oil'],\n",
      "      dtype='object', name='component')\n",
      "duration: 668 days 00:00:00\n",
      "frequency: <BusinessDay>\n",
      "frequency: B\n",
      "has date time index? (or else, it must have an integer index): True\n",
      "deterministic: True\n",
      "univariate: False\n"
     ]
    }
   ],
   "source": [
    "# create time series object for the feature columns\n",
    "df_covF = rubber_train.loc[:, rubber_train.columns != \"ribbed_smoked_sheet\"]\n",
    "ts_covF = TimeSeries.from_dataframe(df_covF)\n",
    "\n",
    "# check attributes of the time series\n",
    "print(\"components (columns) of feature time series:\", ts_covF.components)\n",
    "print(\"duration:\",ts_covF.duration)\n",
    "print(\"frequency:\",ts_covF.freq)\n",
    "print(\"frequency:\",ts_covF.freq_str)\n",
    "print(\"has date time index? (or else, it must have an integer index):\",ts_covF.has_datetime_index)\n",
    "print(\"deterministic:\",ts_covF.is_deterministic)\n",
    "print(\"univariate:\",ts_covF.is_univariate)"
   ]
  },
  {
   "cell_type": "code",
   "execution_count": 22,
   "id": "226fda35-a92c-4d96-b589-9c3794c5ea3f",
   "metadata": {},
   "outputs": [
    {
     "name": "stdout",
     "output_type": "stream",
     "text": [
      "first and last row of scaled feature covariates:\n"
     ]
    },
    {
     "data": {
      "text/html": [
       "<div>\n",
       "<style scoped>\n",
       "    .dataframe tbody tr th:only-of-type {\n",
       "        vertical-align: middle;\n",
       "    }\n",
       "\n",
       "    .dataframe tbody tr th {\n",
       "        vertical-align: top;\n",
       "    }\n",
       "\n",
       "    .dataframe thead th {\n",
       "        text-align: right;\n",
       "    }\n",
       "</style>\n",
       "<table border=\"1\" class=\"dataframe\">\n",
       "  <thead>\n",
       "    <tr style=\"text-align: right;\">\n",
       "      <th>component</th>\n",
       "      <th>cup_lump</th>\n",
       "      <th>rubber_sheet</th>\n",
       "      <th>latex</th>\n",
       "      <th>fob</th>\n",
       "      <th>tocom</th>\n",
       "      <th>sicom</th>\n",
       "      <th>jpy</th>\n",
       "      <th>sgd</th>\n",
       "      <th>crude_oil</th>\n",
       "    </tr>\n",
       "    <tr>\n",
       "      <th>date</th>\n",
       "      <th></th>\n",
       "      <th></th>\n",
       "      <th></th>\n",
       "      <th></th>\n",
       "      <th></th>\n",
       "      <th></th>\n",
       "      <th></th>\n",
       "      <th></th>\n",
       "      <th></th>\n",
       "    </tr>\n",
       "  </thead>\n",
       "  <tbody>\n",
       "    <tr>\n",
       "      <th>2021-01-01</th>\n",
       "      <td>0.24</td>\n",
       "      <td>0.84</td>\n",
       "      <td>0.51</td>\n",
       "      <td>0.79</td>\n",
       "      <td>0.51</td>\n",
       "      <td>1.00</td>\n",
       "      <td>0.27</td>\n",
       "      <td>0.05</td>\n",
       "      <td>0.00</td>\n",
       "    </tr>\n",
       "    <tr>\n",
       "      <th>2022-10-31</th>\n",
       "      <td>0.21</td>\n",
       "      <td>-0.09</td>\n",
       "      <td>0.16</td>\n",
       "      <td>0.10</td>\n",
       "      <td>0.27</td>\n",
       "      <td>-0.29</td>\n",
       "      <td>0.89</td>\n",
       "      <td>0.96</td>\n",
       "      <td>0.47</td>\n",
       "    </tr>\n",
       "  </tbody>\n",
       "</table>\n",
       "</div>"
      ],
      "text/plain": [
       "component   cup_lump  rubber_sheet  latex  fob  tocom  sicom  jpy  sgd  \\\n",
       "date                                                                     \n",
       "2021-01-01      0.24          0.84   0.51 0.79   0.51   1.00 0.27 0.05   \n",
       "2022-10-31      0.21         -0.09   0.16 0.10   0.27  -0.29 0.89 0.96   \n",
       "\n",
       "component   crude_oil  \n",
       "date                   \n",
       "2021-01-01       0.00  \n",
       "2022-10-31       0.47  "
      ]
     },
     "execution_count": 22,
     "metadata": {},
     "output_type": "execute_result"
    }
   ],
   "source": [
    "# train/test split and scaling of feature covariates\n",
    "covF_train, covF_test = ts_covF.split_after(SPLIT)\n",
    "\n",
    "scalerF = Scaler()\n",
    "scalerF.fit_transform(covF_train)\n",
    "covF_ttrain = scalerF.transform(covF_train) \n",
    "covF_ttest = scalerF.transform(covF_test)   \n",
    "covF_t = scalerF.transform(ts_covF)  \n",
    "\n",
    "# make sure data are of type float\n",
    "covF_ttrain = covF_ttrain.astype(np.float32)\n",
    "covF_ttest = covF_ttest.astype(np.float32)\n",
    "\n",
    "pd.options.display.float_format = '{:.2f}'.format\n",
    "print(\"first and last row of scaled feature covariates:\")\n",
    "covF_t.pd_dataframe().iloc[[0,-1]]"
   ]
  },
  {
   "cell_type": "code",
   "execution_count": 23,
   "id": "f6cee205-cf52-4c96-9532-a0e59358e6fa",
   "metadata": {},
   "outputs": [
    {
     "name": "stdout",
     "output_type": "stream",
     "text": [
      "first and last row of unscaled time covariates:\n"
     ]
    },
    {
     "data": {
      "text/html": [
       "<div>\n",
       "<style scoped>\n",
       "    .dataframe tbody tr th:only-of-type {\n",
       "        vertical-align: middle;\n",
       "    }\n",
       "\n",
       "    .dataframe tbody tr th {\n",
       "        vertical-align: top;\n",
       "    }\n",
       "\n",
       "    .dataframe thead th {\n",
       "        text-align: right;\n",
       "    }\n",
       "</style>\n",
       "<table border=\"1\" class=\"dataframe\">\n",
       "  <thead>\n",
       "    <tr style=\"text-align: right;\">\n",
       "      <th>component</th>\n",
       "      <th>day_1</th>\n",
       "      <th>day_2</th>\n",
       "      <th>day_3</th>\n",
       "      <th>day_4</th>\n",
       "      <th>day_5</th>\n",
       "      <th>day_6</th>\n",
       "      <th>day_7</th>\n",
       "      <th>day_8</th>\n",
       "      <th>day_9</th>\n",
       "      <th>day_10</th>\n",
       "      <th>...</th>\n",
       "      <th>month_7</th>\n",
       "      <th>month_8</th>\n",
       "      <th>month_9</th>\n",
       "      <th>month_10</th>\n",
       "      <th>month_11</th>\n",
       "      <th>month_12</th>\n",
       "      <th>quarter_1</th>\n",
       "      <th>quarter_2</th>\n",
       "      <th>quarter_3</th>\n",
       "      <th>quarter_4</th>\n",
       "    </tr>\n",
       "    <tr>\n",
       "      <th>time</th>\n",
       "      <th></th>\n",
       "      <th></th>\n",
       "      <th></th>\n",
       "      <th></th>\n",
       "      <th></th>\n",
       "      <th></th>\n",
       "      <th></th>\n",
       "      <th></th>\n",
       "      <th></th>\n",
       "      <th></th>\n",
       "      <th></th>\n",
       "      <th></th>\n",
       "      <th></th>\n",
       "      <th></th>\n",
       "      <th></th>\n",
       "      <th></th>\n",
       "      <th></th>\n",
       "      <th></th>\n",
       "      <th></th>\n",
       "      <th></th>\n",
       "      <th></th>\n",
       "    </tr>\n",
       "  </thead>\n",
       "  <tbody>\n",
       "    <tr>\n",
       "      <th>2021-01-01</th>\n",
       "      <td>1</td>\n",
       "      <td>0</td>\n",
       "      <td>0</td>\n",
       "      <td>0</td>\n",
       "      <td>0</td>\n",
       "      <td>0</td>\n",
       "      <td>0</td>\n",
       "      <td>0</td>\n",
       "      <td>0</td>\n",
       "      <td>0</td>\n",
       "      <td>...</td>\n",
       "      <td>0</td>\n",
       "      <td>0</td>\n",
       "      <td>0</td>\n",
       "      <td>0</td>\n",
       "      <td>0</td>\n",
       "      <td>0</td>\n",
       "      <td>1</td>\n",
       "      <td>0</td>\n",
       "      <td>0</td>\n",
       "      <td>0</td>\n",
       "    </tr>\n",
       "    <tr>\n",
       "      <th>2022-11-30</th>\n",
       "      <td>0</td>\n",
       "      <td>0</td>\n",
       "      <td>0</td>\n",
       "      <td>0</td>\n",
       "      <td>0</td>\n",
       "      <td>0</td>\n",
       "      <td>0</td>\n",
       "      <td>0</td>\n",
       "      <td>0</td>\n",
       "      <td>0</td>\n",
       "      <td>...</td>\n",
       "      <td>0</td>\n",
       "      <td>0</td>\n",
       "      <td>0</td>\n",
       "      <td>0</td>\n",
       "      <td>1</td>\n",
       "      <td>0</td>\n",
       "      <td>0</td>\n",
       "      <td>0</td>\n",
       "      <td>0</td>\n",
       "      <td>1</td>\n",
       "    </tr>\n",
       "  </tbody>\n",
       "</table>\n",
       "<p>2 rows × 47 columns</p>\n",
       "</div>"
      ],
      "text/plain": [
       "component   day_1  day_2  day_3  day_4  day_5  day_6  day_7  day_8  day_9  \\\n",
       "time                                                                        \n",
       "2021-01-01      1      0      0      0      0      0      0      0      0   \n",
       "2022-11-30      0      0      0      0      0      0      0      0      0   \n",
       "\n",
       "component   day_10  ...  month_7  month_8  month_9  month_10  month_11  \\\n",
       "time                ...                                                  \n",
       "2021-01-01       0  ...        0        0        0         0         0   \n",
       "2022-11-30       0  ...        0        0        0         0         1   \n",
       "\n",
       "component   month_12  quarter_1  quarter_2  quarter_3  quarter_4  \n",
       "time                                                              \n",
       "2021-01-01         0          1          0          0          0  \n",
       "2022-11-30         0          0          0          0          1  \n",
       "\n",
       "[2 rows x 47 columns]"
      ]
     },
     "execution_count": 23,
     "metadata": {},
     "output_type": "execute_result"
    }
   ],
   "source": [
    "# feature engineering - create time covariates: hour, weekday, month, quarter, year\n",
    "# 41 days (2 months) beyond end of test set to prepare for out-of-sample forecasting\n",
    "covT = datetime_attribute_timeseries(ts_P.time_index, attribute=\"day\", one_hot=True, add_length=22) \n",
    "covT = covT.stack(  datetime_attribute_timeseries(covT.time_index, one_hot=True, attribute=\"month\")  )\n",
    "covT = covT.stack(  datetime_attribute_timeseries(covT.time_index, one_hot=True, attribute=\"quarter\")  )\n",
    "# covT = covT.stack(  datetime_attribute_timeseries(covT.time_index, one_hot=True, attribute=\"year\")  )\n",
    "\n",
    "covT = covT.astype(np.float32)\n",
    "\n",
    "\n",
    "# train/test split\n",
    "# covT_train, covT_test = covT.split_after(ts_train.end_time())\n",
    "\n",
    "\n",
    "# rescale the covariates: fitting on the training set\n",
    "# scalerT = Scaler()\n",
    "# scalerT.fit(covT_train)\n",
    "# covT_ttrain = scalerT.transform(covT_train)\n",
    "# covT_ttest = scalerT.transform(covT_test)\n",
    "# covT_t = scalerT.transform(covT)\n",
    "\n",
    "covT_t = covT.copy()\n",
    "covT_t = covT_t.astype(np.float32)\n",
    "\n",
    "\n",
    "pd.options.display.float_format = '{:.0f}'.format\n",
    "print(\"first and last row of unscaled time covariates:\")\n",
    "covT.pd_dataframe().iloc[[0,-1]]"
   ]
  },
  {
   "cell_type": "code",
   "execution_count": 24,
   "id": "f553f1e6-3bb0-4aa1-a4f0-3c79c7a0da0e",
   "metadata": {},
   "outputs": [
    {
     "name": "stdout",
     "output_type": "stream",
     "text": [
      "first and last row of unscaled covariates:\n"
     ]
    },
    {
     "data": {
      "text/html": [
       "<div>\n",
       "<style scoped>\n",
       "    .dataframe tbody tr th:only-of-type {\n",
       "        vertical-align: middle;\n",
       "    }\n",
       "\n",
       "    .dataframe tbody tr th {\n",
       "        vertical-align: top;\n",
       "    }\n",
       "\n",
       "    .dataframe thead th {\n",
       "        text-align: right;\n",
       "    }\n",
       "</style>\n",
       "<table border=\"1\" class=\"dataframe\">\n",
       "  <thead>\n",
       "    <tr style=\"text-align: right;\">\n",
       "      <th>component</th>\n",
       "      <th>cup_lump</th>\n",
       "      <th>rubber_sheet</th>\n",
       "      <th>latex</th>\n",
       "      <th>fob</th>\n",
       "      <th>tocom</th>\n",
       "      <th>sicom</th>\n",
       "      <th>jpy</th>\n",
       "      <th>sgd</th>\n",
       "      <th>crude_oil</th>\n",
       "      <th>day_1</th>\n",
       "      <th>...</th>\n",
       "      <th>month_7</th>\n",
       "      <th>month_8</th>\n",
       "      <th>month_9</th>\n",
       "      <th>month_10</th>\n",
       "      <th>month_11</th>\n",
       "      <th>month_12</th>\n",
       "      <th>quarter_1</th>\n",
       "      <th>quarter_2</th>\n",
       "      <th>quarter_3</th>\n",
       "      <th>quarter_4</th>\n",
       "    </tr>\n",
       "    <tr>\n",
       "      <th>date</th>\n",
       "      <th></th>\n",
       "      <th></th>\n",
       "      <th></th>\n",
       "      <th></th>\n",
       "      <th></th>\n",
       "      <th></th>\n",
       "      <th></th>\n",
       "      <th></th>\n",
       "      <th></th>\n",
       "      <th></th>\n",
       "      <th></th>\n",
       "      <th></th>\n",
       "      <th></th>\n",
       "      <th></th>\n",
       "      <th></th>\n",
       "      <th></th>\n",
       "      <th></th>\n",
       "      <th></th>\n",
       "      <th></th>\n",
       "      <th></th>\n",
       "      <th></th>\n",
       "    </tr>\n",
       "  </thead>\n",
       "  <tbody>\n",
       "    <tr>\n",
       "      <th>2021-01-01</th>\n",
       "      <td>42.50</td>\n",
       "      <td>66.67</td>\n",
       "      <td>56.50</td>\n",
       "      <td>76.85</td>\n",
       "      <td>262.90</td>\n",
       "      <td>258.60</td>\n",
       "      <td>3.44</td>\n",
       "      <td>22.62</td>\n",
       "      <td>43.76</td>\n",
       "      <td>1.00</td>\n",
       "      <td>...</td>\n",
       "      <td>0.00</td>\n",
       "      <td>0.00</td>\n",
       "      <td>0.00</td>\n",
       "      <td>0.00</td>\n",
       "      <td>0.00</td>\n",
       "      <td>0.00</td>\n",
       "      <td>1.00</td>\n",
       "      <td>0.00</td>\n",
       "      <td>0.00</td>\n",
       "      <td>0.00</td>\n",
       "    </tr>\n",
       "    <tr>\n",
       "      <th>2022-10-31</th>\n",
       "      <td>42.00</td>\n",
       "      <td>46.51</td>\n",
       "      <td>45.70</td>\n",
       "      <td>59.60</td>\n",
       "      <td>226.00</td>\n",
       "      <td>148.30</td>\n",
       "      <td>3.82</td>\n",
       "      <td>26.31</td>\n",
       "      <td>78.72</td>\n",
       "      <td>0.00</td>\n",
       "      <td>...</td>\n",
       "      <td>0.00</td>\n",
       "      <td>0.00</td>\n",
       "      <td>0.00</td>\n",
       "      <td>1.00</td>\n",
       "      <td>0.00</td>\n",
       "      <td>0.00</td>\n",
       "      <td>0.00</td>\n",
       "      <td>0.00</td>\n",
       "      <td>0.00</td>\n",
       "      <td>1.00</td>\n",
       "    </tr>\n",
       "  </tbody>\n",
       "</table>\n",
       "<p>2 rows × 56 columns</p>\n",
       "</div>"
      ],
      "text/plain": [
       "component   cup_lump  rubber_sheet  latex   fob  tocom  sicom  jpy   sgd  \\\n",
       "date                                                                       \n",
       "2021-01-01     42.50         66.67  56.50 76.85 262.90 258.60 3.44 22.62   \n",
       "2022-10-31     42.00         46.51  45.70 59.60 226.00 148.30 3.82 26.31   \n",
       "\n",
       "component   crude_oil  day_1  ...  month_7  month_8  month_9  month_10  \\\n",
       "date                          ...                                        \n",
       "2021-01-01      43.76   1.00  ...     0.00     0.00     0.00      0.00   \n",
       "2022-10-31      78.72   0.00  ...     0.00     0.00     0.00      1.00   \n",
       "\n",
       "component   month_11  month_12  quarter_1  quarter_2  quarter_3  quarter_4  \n",
       "date                                                                        \n",
       "2021-01-01      0.00      0.00       1.00       0.00       0.00       0.00  \n",
       "2022-10-31      0.00      0.00       0.00       0.00       0.00       1.00  \n",
       "\n",
       "[2 rows x 56 columns]"
      ]
     },
     "execution_count": 24,
     "metadata": {},
     "output_type": "execute_result"
    }
   ],
   "source": [
    "# combine feature and time covariates along component dimension: axis=1\n",
    "ts_cov = ts_covF.concatenate( covT.slice_intersect(ts_covF), axis=1 )                      # unscaled F+T\n",
    "cov_t = covF_t.concatenate( covT_t.slice_intersect(covF_t), axis=1 )                       # scaled F+T\n",
    "# cov_ttrain = covF_ttrain.concatenate( covT_ttrain.slice_intersect(covF_ttrain), axis=1 )   # scaled F+T training set\n",
    "# cov_ttest = covF_ttest.concatenate( covT_ttest.slice_intersect(covF_ttest), axis=1 )       # scaled F+T test set\n",
    "cov_t = cov_t.astype(np.float32)\n",
    "\n",
    "pd.options.display.float_format = '{:.2f}'.format\n",
    "print(\"first and last row of unscaled covariates:\")\n",
    "ts_cov.pd_dataframe().iloc[[0,-1]]"
   ]
  },
  {
   "cell_type": "code",
   "execution_count": 25,
   "id": "042799bd-1b95-46d5-a5af-0259c06fb3a1",
   "metadata": {},
   "outputs": [],
   "source": [
    "# config model\n",
    "model = NBEATSModel(    \n",
    "    input_chunk_length=INLEN,\n",
    "                        output_chunk_length=N_FC, \n",
    "                        num_stacks=BLOCKS,\n",
    "                        layer_widths=LWIDTH,\n",
    "                        batch_size=BATCH,\n",
    "                        n_epochs=EPOCHS,\n",
    "                        nr_epochs_val_period=VALWAIT, \n",
    "                        likelihood=QuantileRegression(QUANTILES), \n",
    "                        optimizer_kwargs={\"lr\": LEARN}, \n",
    "                        model_name=\"NBEATS_RSS\",\n",
    "                        log_tensorboard=True,\n",
    "                        generic_architecture=True, \n",
    "                        random_state=RAND,\n",
    "                        force_reset=True,\n",
    "                        save_checkpoints=True\n",
    "                    )"
   ]
  },
  {
   "cell_type": "code",
   "execution_count": 26,
   "id": "10f01b3f-e3cb-40f6-87c3-d2b0a275565a",
   "metadata": {},
   "outputs": [
    {
     "data": {
      "application/vnd.jupyter.widget-view+json": {
       "model_id": "",
       "version_major": 2,
       "version_minor": 0
      },
      "text/plain": [
       "Sanity Checking: 0it [00:00, ?it/s]"
      ]
     },
     "metadata": {},
     "output_type": "display_data"
    },
    {
     "data": {
      "application/vnd.jupyter.widget-view+json": {
       "model_id": "3616a420807b417a947c73e21f2f3e49",
       "version_major": 2,
       "version_minor": 0
      },
      "text/plain": [
       "Training: 0it [00:00, ?it/s]"
      ]
     },
     "metadata": {},
     "output_type": "display_data"
    },
    {
     "data": {
      "application/vnd.jupyter.widget-view+json": {
       "model_id": "",
       "version_major": 2,
       "version_minor": 0
      },
      "text/plain": [
       "Validation: 0it [00:00, ?it/s]"
      ]
     },
     "metadata": {},
     "output_type": "display_data"
    },
    {
     "data": {
      "application/vnd.jupyter.widget-view+json": {
       "model_id": "",
       "version_major": 2,
       "version_minor": 0
      },
      "text/plain": [
       "Validation: 0it [00:00, ?it/s]"
      ]
     },
     "metadata": {},
     "output_type": "display_data"
    },
    {
     "data": {
      "application/vnd.jupyter.widget-view+json": {
       "model_id": "",
       "version_major": 2,
       "version_minor": 0
      },
      "text/plain": [
       "Validation: 0it [00:00, ?it/s]"
      ]
     },
     "metadata": {},
     "output_type": "display_data"
    },
    {
     "data": {
      "application/vnd.jupyter.widget-view+json": {
       "model_id": "",
       "version_major": 2,
       "version_minor": 0
      },
      "text/plain": [
       "Validation: 0it [00:00, ?it/s]"
      ]
     },
     "metadata": {},
     "output_type": "display_data"
    },
    {
     "data": {
      "application/vnd.jupyter.widget-view+json": {
       "model_id": "",
       "version_major": 2,
       "version_minor": 0
      },
      "text/plain": [
       "Validation: 0it [00:00, ?it/s]"
      ]
     },
     "metadata": {},
     "output_type": "display_data"
    },
    {
     "data": {
      "application/vnd.jupyter.widget-view+json": {
       "model_id": "",
       "version_major": 2,
       "version_minor": 0
      },
      "text/plain": [
       "Validation: 0it [00:00, ?it/s]"
      ]
     },
     "metadata": {},
     "output_type": "display_data"
    },
    {
     "data": {
      "application/vnd.jupyter.widget-view+json": {
       "model_id": "",
       "version_major": 2,
       "version_minor": 0
      },
      "text/plain": [
       "Validation: 0it [00:00, ?it/s]"
      ]
     },
     "metadata": {},
     "output_type": "display_data"
    },
    {
     "data": {
      "application/vnd.jupyter.widget-view+json": {
       "model_id": "",
       "version_major": 2,
       "version_minor": 0
      },
      "text/plain": [
       "Validation: 0it [00:00, ?it/s]"
      ]
     },
     "metadata": {},
     "output_type": "display_data"
    },
    {
     "data": {
      "application/vnd.jupyter.widget-view+json": {
       "model_id": "",
       "version_major": 2,
       "version_minor": 0
      },
      "text/plain": [
       "Validation: 0it [00:00, ?it/s]"
      ]
     },
     "metadata": {},
     "output_type": "display_data"
    },
    {
     "data": {
      "application/vnd.jupyter.widget-view+json": {
       "model_id": "",
       "version_major": 2,
       "version_minor": 0
      },
      "text/plain": [
       "Validation: 0it [00:00, ?it/s]"
      ]
     },
     "metadata": {},
     "output_type": "display_data"
    },
    {
     "data": {
      "application/vnd.jupyter.widget-view+json": {
       "model_id": "",
       "version_major": 2,
       "version_minor": 0
      },
      "text/plain": [
       "Validation: 0it [00:00, ?it/s]"
      ]
     },
     "metadata": {},
     "output_type": "display_data"
    },
    {
     "data": {
      "application/vnd.jupyter.widget-view+json": {
       "model_id": "",
       "version_major": 2,
       "version_minor": 0
      },
      "text/plain": [
       "Validation: 0it [00:00, ?it/s]"
      ]
     },
     "metadata": {},
     "output_type": "display_data"
    },
    {
     "data": {
      "application/vnd.jupyter.widget-view+json": {
       "model_id": "",
       "version_major": 2,
       "version_minor": 0
      },
      "text/plain": [
       "Validation: 0it [00:00, ?it/s]"
      ]
     },
     "metadata": {},
     "output_type": "display_data"
    },
    {
     "data": {
      "application/vnd.jupyter.widget-view+json": {
       "model_id": "",
       "version_major": 2,
       "version_minor": 0
      },
      "text/plain": [
       "Validation: 0it [00:00, ?it/s]"
      ]
     },
     "metadata": {},
     "output_type": "display_data"
    },
    {
     "data": {
      "application/vnd.jupyter.widget-view+json": {
       "model_id": "",
       "version_major": 2,
       "version_minor": 0
      },
      "text/plain": [
       "Validation: 0it [00:00, ?it/s]"
      ]
     },
     "metadata": {},
     "output_type": "display_data"
    },
    {
     "data": {
      "application/vnd.jupyter.widget-view+json": {
       "model_id": "",
       "version_major": 2,
       "version_minor": 0
      },
      "text/plain": [
       "Validation: 0it [00:00, ?it/s]"
      ]
     },
     "metadata": {},
     "output_type": "display_data"
    },
    {
     "data": {
      "application/vnd.jupyter.widget-view+json": {
       "model_id": "",
       "version_major": 2,
       "version_minor": 0
      },
      "text/plain": [
       "Validation: 0it [00:00, ?it/s]"
      ]
     },
     "metadata": {},
     "output_type": "display_data"
    },
    {
     "data": {
      "application/vnd.jupyter.widget-view+json": {
       "model_id": "",
       "version_major": 2,
       "version_minor": 0
      },
      "text/plain": [
       "Validation: 0it [00:00, ?it/s]"
      ]
     },
     "metadata": {},
     "output_type": "display_data"
    },
    {
     "data": {
      "application/vnd.jupyter.widget-view+json": {
       "model_id": "",
       "version_major": 2,
       "version_minor": 0
      },
      "text/plain": [
       "Validation: 0it [00:00, ?it/s]"
      ]
     },
     "metadata": {},
     "output_type": "display_data"
    },
    {
     "data": {
      "application/vnd.jupyter.widget-view+json": {
       "model_id": "",
       "version_major": 2,
       "version_minor": 0
      },
      "text/plain": [
       "Validation: 0it [00:00, ?it/s]"
      ]
     },
     "metadata": {},
     "output_type": "display_data"
    },
    {
     "name": "stdout",
     "output_type": "stream",
     "text": [
      "have saved the model after training: D:\\tda\\dsi\\capstone\\code.\\..\\model\\_NBEATS_rss_model.pth.tar\n"
     ]
    }
   ],
   "source": [
    "# training: load a saved model or (re)train\n",
    "if LOAD:\n",
    "    print(\"have loaded a previously saved model from disk:\" + mpath)\n",
    "    model = NBEATSModel.load_model(mpath)                            # load previously model from disk \n",
    "else:\n",
    "    model.fit(  series=ts_ttrain, \n",
    "                past_covariates=covT_t,\n",
    "                val_series=ts_ttest, \n",
    "                val_past_covariates=covT_t, \n",
    "                verbose=True)\n",
    "    print(\"have saved the model after training:\", mpath)\n",
    "    model.save_model(mpath)"
   ]
  },
  {
   "cell_type": "code",
   "execution_count": 27,
   "id": "b5332805-07d1-4b97-87bc-e9b3f6cbdebe",
   "metadata": {},
   "outputs": [
    {
     "data": {
      "application/vnd.jupyter.widget-view+json": {
       "model_id": "24c38b33864b4e61841b900a7471ff16",
       "version_major": 2,
       "version_minor": 0
      },
      "text/plain": [
       "Predicting: 104it [00:00, ?it/s]"
      ]
     },
     "metadata": {},
     "output_type": "display_data"
    },
    {
     "data": {
      "text/html": [
       "<div>\n",
       "<style scoped>\n",
       "    .dataframe tbody tr th:only-of-type {\n",
       "        vertical-align: middle;\n",
       "    }\n",
       "\n",
       "    .dataframe tbody tr th {\n",
       "        vertical-align: top;\n",
       "    }\n",
       "\n",
       "    .dataframe thead th {\n",
       "        text-align: right;\n",
       "    }\n",
       "</style>\n",
       "<table border=\"1\" class=\"dataframe\">\n",
       "  <thead>\n",
       "    <tr style=\"text-align: right;\">\n",
       "      <th></th>\n",
       "      <th>Actual</th>\n",
       "      <th>Q50</th>\n",
       "      <th>Q01</th>\n",
       "      <th>Q10</th>\n",
       "      <th>Q20</th>\n",
       "      <th>Q80</th>\n",
       "      <th>Q90</th>\n",
       "      <th>Q99</th>\n",
       "    </tr>\n",
       "    <tr>\n",
       "      <th>date</th>\n",
       "      <th></th>\n",
       "      <th></th>\n",
       "      <th></th>\n",
       "      <th></th>\n",
       "      <th></th>\n",
       "      <th></th>\n",
       "      <th></th>\n",
       "      <th></th>\n",
       "    </tr>\n",
       "  </thead>\n",
       "  <tbody>\n",
       "    <tr>\n",
       "      <th>2022-08-25</th>\n",
       "      <td>50.50</td>\n",
       "      <td>54.31</td>\n",
       "      <td>49.64</td>\n",
       "      <td>51.78</td>\n",
       "      <td>52.80</td>\n",
       "      <td>55.51</td>\n",
       "      <td>56.96</td>\n",
       "      <td>57.86</td>\n",
       "    </tr>\n",
       "    <tr>\n",
       "      <th>2022-08-26</th>\n",
       "      <td>50.40</td>\n",
       "      <td>54.43</td>\n",
       "      <td>49.49</td>\n",
       "      <td>51.17</td>\n",
       "      <td>53.16</td>\n",
       "      <td>55.46</td>\n",
       "      <td>56.41</td>\n",
       "      <td>58.51</td>\n",
       "    </tr>\n",
       "    <tr>\n",
       "      <th>2022-10-28</th>\n",
       "      <td>49.76</td>\n",
       "      <td>55.53</td>\n",
       "      <td>51.06</td>\n",
       "      <td>53.29</td>\n",
       "      <td>55.13</td>\n",
       "      <td>56.29</td>\n",
       "      <td>57.37</td>\n",
       "      <td>58.46</td>\n",
       "    </tr>\n",
       "    <tr>\n",
       "      <th>2022-10-31</th>\n",
       "      <td>49.47</td>\n",
       "      <td>55.70</td>\n",
       "      <td>51.02</td>\n",
       "      <td>54.82</td>\n",
       "      <td>55.17</td>\n",
       "      <td>57.05</td>\n",
       "      <td>57.83</td>\n",
       "      <td>59.05</td>\n",
       "    </tr>\n",
       "  </tbody>\n",
       "</table>\n",
       "</div>"
      ],
      "text/plain": [
       "            Actual   Q50   Q01   Q10   Q20   Q80   Q90   Q99\n",
       "date                                                        \n",
       "2022-08-25   50.50 54.31 49.64 51.78 52.80 55.51 56.96 57.86\n",
       "2022-08-26   50.40 54.43 49.49 51.17 53.16 55.46 56.41 58.51\n",
       "2022-10-28   49.76 55.53 51.06 53.29 55.13 56.29 57.37 58.46\n",
       "2022-10-31   49.47 55.70 51.02 54.82 55.17 57.05 57.83 59.05"
      ]
     },
     "execution_count": 27,
     "metadata": {},
     "output_type": "execute_result"
    }
   ],
   "source": [
    "# testing: generate predictions\n",
    "ts_tpred = model.predict(   n=len(ts_ttest),  \n",
    "                            past_covariates=covT_t,\n",
    "                            num_samples=N_SAMPLES,   \n",
    "                            n_jobs=N_JOBS, \n",
    "                            verbose=True)\n",
    "                            \n",
    "                            \n",
    "                            \n",
    "# retrieve forecast series for chosen quantiles, \n",
    "# inverse-transform each series,\n",
    "# insert them as columns in a new dataframe dfY\n",
    "q50_RMSE = np.inf\n",
    "q50_MAPE = np.inf\n",
    "ts_q50 = None\n",
    "pd.options.display.float_format = '{:,.2f}'.format\n",
    "dfY = pd.DataFrame()\n",
    "dfY[\"Actual\"] = TimeSeries.pd_series(ts_test['ribbed_smoked_sheet'])\n",
    "\n",
    "\n",
    "# helper function: get forecast values for selected quantile q and insert them in dataframe dfY\n",
    "def predQ(ts_t, q):\n",
    "    ts_tq = ts_t.quantile_timeseries(q)\n",
    "    ts_q = scalerP.inverse_transform(ts_tq)\n",
    "    s = TimeSeries.pd_series(ts_q)\n",
    "    header = \"Q\" + format(int(q*100), \"02d\")\n",
    "    dfY[header] = s\n",
    "  \n",
    "# call helper function predQ, once for every quantile\n",
    "_ = [predQ(ts_tpred['ribbed_smoked_sheet'], q) for q in QUANTILES]\n",
    "\n",
    "# move Q50 column to the left of the Actual column\n",
    "col = dfY.pop(\"Q50\")\n",
    "dfY.insert(1, col.name, col)\n",
    "dfY.iloc[np.r_[0:2, -2:0]]"
   ]
  },
  {
   "cell_type": "code",
   "execution_count": 28,
   "id": "45b2f564-2c30-4387-812c-e3051465a234",
   "metadata": {},
   "outputs": [
    {
     "name": "stdout",
     "output_type": "stream",
     "text": [
      "mape Actual 0.0\n",
      "mape Q50 6.754667531024154\n",
      "mape Q01 2.7985795368938313\n",
      "mape Q10 3.957835895600602\n",
      "mape Q20 5.05807316107354\n",
      "mape Q80 9.319904414171088\n",
      "mape Q90 11.148822458182885\n",
      "mape Q99 14.270004727762428\n"
     ]
    }
   ],
   "source": [
    "# check MAPE scores from all quantile range\n",
    "for col in dfY.columns:\n",
    "    print(f\"mape {col} {mape(TimeSeries.from_series(dfY['Actual'], freq='B'), TimeSeries.from_series(dfY[col], freq='B'))}\")"
   ]
  },
  {
   "cell_type": "code",
   "execution_count": 29,
   "id": "60a89131-9bbc-489d-95fc-20820a13bafa",
   "metadata": {},
   "outputs": [
    {
     "data": {
      "image/png": "[encoded data removed]",
      "text/plain": [
       "<Figure size 1440x504 with 1 Axes>"
      ]
     },
     "metadata": {
      "needs_background": "light"
     },
     "output_type": "display_data"
    }
   ],
   "source": [
    "# plot the forecast\n",
    "plt.figure(100, figsize=(20, 7))\n",
    "sns.set(font_scale=1.3)\n",
    "p = sns.lineplot(x = \"date\", y = \"Q50\", data = dfY, palette=\"coolwarm\")\n",
    "sns.lineplot(x = \"date\", y = \"Actual\", data = dfY, palette=\"coolwarm\")\n",
    "plt.legend(labels=[\"forecast median price Q50\", \"actual price\"])\n",
    "p.set_ylabel(\"price\")\n",
    "p.set_xlabel(\"\")\n",
    "p.set_title(\"energy price (test set)\");"
   ]
  },
  {
   "cell_type": "code",
   "execution_count": 30,
   "id": "88c0d052-4d4d-4874-b6d4-28fe8a0c1538",
   "metadata": {},
   "outputs": [
    {
     "name": "stdout",
     "output_type": "stream",
     "text": [
      "forecast beyond end of training set: 70 days beyond 2022-08-24 00:00:00\n"
     ]
    },
    {
     "data": {
      "text/html": [
       "<div>\n",
       "<style scoped>\n",
       "    .dataframe tbody tr th:only-of-type {\n",
       "        vertical-align: middle;\n",
       "    }\n",
       "\n",
       "    .dataframe tbody tr th {\n",
       "        vertical-align: top;\n",
       "    }\n",
       "\n",
       "    .dataframe thead th {\n",
       "        text-align: right;\n",
       "    }\n",
       "</style>\n",
       "<table border=\"1\" class=\"dataframe\">\n",
       "  <thead>\n",
       "    <tr style=\"text-align: right;\">\n",
       "      <th>component</th>\n",
       "      <th>cup_lump</th>\n",
       "      <th>rubber_sheet</th>\n",
       "      <th>latex</th>\n",
       "      <th>fob</th>\n",
       "      <th>tocom</th>\n",
       "      <th>sicom</th>\n",
       "      <th>jpy</th>\n",
       "      <th>sgd</th>\n",
       "      <th>crude_oil</th>\n",
       "      <th>day_1</th>\n",
       "      <th>...</th>\n",
       "      <th>month_7</th>\n",
       "      <th>month_8</th>\n",
       "      <th>month_9</th>\n",
       "      <th>month_10</th>\n",
       "      <th>month_11</th>\n",
       "      <th>month_12</th>\n",
       "      <th>quarter_1</th>\n",
       "      <th>quarter_2</th>\n",
       "      <th>quarter_3</th>\n",
       "      <th>quarter_4</th>\n",
       "    </tr>\n",
       "    <tr>\n",
       "      <th>date</th>\n",
       "      <th></th>\n",
       "      <th></th>\n",
       "      <th></th>\n",
       "      <th></th>\n",
       "      <th></th>\n",
       "      <th></th>\n",
       "      <th></th>\n",
       "      <th></th>\n",
       "      <th></th>\n",
       "      <th></th>\n",
       "      <th></th>\n",
       "      <th></th>\n",
       "      <th></th>\n",
       "      <th></th>\n",
       "      <th></th>\n",
       "      <th></th>\n",
       "      <th></th>\n",
       "      <th></th>\n",
       "      <th></th>\n",
       "      <th></th>\n",
       "      <th></th>\n",
       "    </tr>\n",
       "  </thead>\n",
       "  <tbody>\n",
       "    <tr>\n",
       "      <th>2021-01-01</th>\n",
       "      <td>0.24</td>\n",
       "      <td>0.84</td>\n",
       "      <td>0.51</td>\n",
       "      <td>0.79</td>\n",
       "      <td>0.51</td>\n",
       "      <td>1.00</td>\n",
       "      <td>0.27</td>\n",
       "      <td>0.05</td>\n",
       "      <td>0.00</td>\n",
       "      <td>1.00</td>\n",
       "      <td>...</td>\n",
       "      <td>0.00</td>\n",
       "      <td>0.00</td>\n",
       "      <td>0.00</td>\n",
       "      <td>0.00</td>\n",
       "      <td>0.00</td>\n",
       "      <td>0.00</td>\n",
       "      <td>1.00</td>\n",
       "      <td>0.00</td>\n",
       "      <td>0.00</td>\n",
       "      <td>0.00</td>\n",
       "    </tr>\n",
       "    <tr>\n",
       "      <th>2022-10-31</th>\n",
       "      <td>0.21</td>\n",
       "      <td>-0.09</td>\n",
       "      <td>0.16</td>\n",
       "      <td>0.10</td>\n",
       "      <td>0.27</td>\n",
       "      <td>-0.29</td>\n",
       "      <td>0.89</td>\n",
       "      <td>0.96</td>\n",
       "      <td>0.47</td>\n",
       "      <td>0.00</td>\n",
       "      <td>...</td>\n",
       "      <td>0.00</td>\n",
       "      <td>0.00</td>\n",
       "      <td>0.00</td>\n",
       "      <td>1.00</td>\n",
       "      <td>0.00</td>\n",
       "      <td>0.00</td>\n",
       "      <td>0.00</td>\n",
       "      <td>0.00</td>\n",
       "      <td>0.00</td>\n",
       "      <td>1.00</td>\n",
       "    </tr>\n",
       "  </tbody>\n",
       "</table>\n",
       "<p>2 rows × 56 columns</p>\n",
       "</div>"
      ],
      "text/plain": [
       "component   cup_lump  rubber_sheet  latex  fob  tocom  sicom  jpy  sgd  \\\n",
       "date                                                                     \n",
       "2021-01-01      0.24          0.84   0.51 0.79   0.51   1.00 0.27 0.05   \n",
       "2022-10-31      0.21         -0.09   0.16 0.10   0.27  -0.29 0.89 0.96   \n",
       "\n",
       "component   crude_oil  day_1  ...  month_7  month_8  month_9  month_10  \\\n",
       "date                          ...                                        \n",
       "2021-01-01       0.00   1.00  ...     0.00     0.00     0.00      0.00   \n",
       "2022-10-31       0.47   0.00  ...     0.00     0.00     0.00      1.00   \n",
       "\n",
       "component   month_11  month_12  quarter_1  quarter_2  quarter_3  quarter_4  \n",
       "date                                                                        \n",
       "2021-01-01      0.00      0.00       1.00       0.00       0.00       0.00  \n",
       "2022-10-31      0.00      0.00       0.00       0.00       0.00       1.00  \n",
       "\n",
       "[2 rows x 56 columns]"
      ]
     },
     "execution_count": 30,
     "metadata": {},
     "output_type": "execute_result"
    }
   ],
   "source": [
    "# choose forecast horizon: 1 months(november) beyond end of test set\n",
    "k = 22   \n",
    "\n",
    "n_FC = k + len(ts_ttest)   # length of test set + k hours\n",
    "print(\"forecast beyond end of training set:\", n_FC, \n",
    "      \"days beyond\", ts_ttrain.end_time())\n",
    "\n",
    "# last 22 days of feature covariates available => copy them to future 22 days:\n",
    "covF_t_fut = covF_t.concatenate(    other=covF_t.tail(size=22), \n",
    "                                    ignore_time_axis=True)\n",
    "\n",
    "# pull covariates in month october for predict november\n",
    "df_covF_fut = rubber.loc[:, rubber.columns != \"ribbed_smoked_sheet\"]\n",
    "df_covF_fut = df_covF_fut.shift(22).dropna()\n",
    "ts_covF_fut = TimeSeries.from_dataframe(df_covF_fut)\n",
    "covF_t_fut = scalerF.transform(ts_covF)  \n",
    "\n",
    "\n",
    "# combine feature and time covariates:\n",
    "cov_t_fut = covF_t_fut.concatenate(covT_t.slice_intersect(covF_t_fut), axis=1) \n",
    "cov_t_fut.pd_dataframe().iloc[[0,-1]]"
   ]
  },
  {
   "cell_type": "code",
   "execution_count": 31,
   "id": "7a2351d5-2924-41f8-8c30-c375fba7ddbc",
   "metadata": {},
   "outputs": [
    {
     "data": {
      "application/vnd.jupyter.widget-view+json": {
       "model_id": "8d872adcf91c464ab51afd2918b1004e",
       "version_major": 2,
       "version_minor": 0
      },
      "text/plain": [
       "Predicting: 104it [00:00, ?it/s]"
      ]
     },
     "metadata": {},
     "output_type": "display_data"
    },
    {
     "name": "stdout",
     "output_type": "stream",
     "text": [
      "start: 2022-08-25 00:00:00 ; end: 2022-11-30 00:00:00\n"
     ]
    }
   ],
   "source": [
    "# forecast next 2 months\n",
    "ts_tpred = model.predict(   n=n_FC, \n",
    "                            past_covariates=covT_t, \n",
    "                            num_samples=N_SAMPLES, \n",
    "                            verbose=True, \n",
    "                            n_jobs=N_JOBS)\n",
    "print(\"start:\", ts_tpred.start_time(), \"; end:\",ts_tpred.end_time())"
   ]
  },
  {
   "cell_type": "code",
   "execution_count": 32,
   "id": "d00149b5-9e73-46e1-85a9-4adb04ea106d",
   "metadata": {},
   "outputs": [
    {
     "data": {
      "text/html": [
       "<div>\n",
       "<style scoped>\n",
       "    .dataframe tbody tr th:only-of-type {\n",
       "        vertical-align: middle;\n",
       "    }\n",
       "\n",
       "    .dataframe tbody tr th {\n",
       "        vertical-align: top;\n",
       "    }\n",
       "\n",
       "    .dataframe thead th {\n",
       "        text-align: right;\n",
       "    }\n",
       "</style>\n",
       "<table border=\"1\" class=\"dataframe\">\n",
       "  <thead>\n",
       "    <tr style=\"text-align: right;\">\n",
       "      <th></th>\n",
       "      <th>Actual</th>\n",
       "      <th>Q50</th>\n",
       "      <th>Q01</th>\n",
       "      <th>Q10</th>\n",
       "      <th>Q20</th>\n",
       "      <th>Q80</th>\n",
       "      <th>Q90</th>\n",
       "      <th>Q99</th>\n",
       "    </tr>\n",
       "    <tr>\n",
       "      <th>date</th>\n",
       "      <th></th>\n",
       "      <th></th>\n",
       "      <th></th>\n",
       "      <th></th>\n",
       "      <th></th>\n",
       "      <th></th>\n",
       "      <th></th>\n",
       "      <th></th>\n",
       "    </tr>\n",
       "  </thead>\n",
       "  <tbody>\n",
       "    <tr>\n",
       "      <th>2022-08-25</th>\n",
       "      <td>50.50</td>\n",
       "      <td>54.07</td>\n",
       "      <td>48.97</td>\n",
       "      <td>51.40</td>\n",
       "      <td>52.63</td>\n",
       "      <td>55.54</td>\n",
       "      <td>56.16</td>\n",
       "      <td>57.93</td>\n",
       "    </tr>\n",
       "    <tr>\n",
       "      <th>2022-11-14</th>\n",
       "      <td>NaN</td>\n",
       "      <td>56.03</td>\n",
       "      <td>51.71</td>\n",
       "      <td>55.19</td>\n",
       "      <td>55.49</td>\n",
       "      <td>57.39</td>\n",
       "      <td>58.85</td>\n",
       "      <td>60.16</td>\n",
       "    </tr>\n",
       "    <tr>\n",
       "      <th>2022-11-15</th>\n",
       "      <td>NaN</td>\n",
       "      <td>55.93</td>\n",
       "      <td>51.73</td>\n",
       "      <td>54.96</td>\n",
       "      <td>55.45</td>\n",
       "      <td>56.93</td>\n",
       "      <td>57.75</td>\n",
       "      <td>60.23</td>\n",
       "    </tr>\n",
       "    <tr>\n",
       "      <th>2022-11-16</th>\n",
       "      <td>NaN</td>\n",
       "      <td>56.27</td>\n",
       "      <td>52.95</td>\n",
       "      <td>55.40</td>\n",
       "      <td>55.72</td>\n",
       "      <td>57.04</td>\n",
       "      <td>58.09</td>\n",
       "      <td>59.56</td>\n",
       "    </tr>\n",
       "    <tr>\n",
       "      <th>2022-11-17</th>\n",
       "      <td>NaN</td>\n",
       "      <td>56.63</td>\n",
       "      <td>53.48</td>\n",
       "      <td>55.79</td>\n",
       "      <td>56.10</td>\n",
       "      <td>57.49</td>\n",
       "      <td>58.81</td>\n",
       "      <td>60.02</td>\n",
       "    </tr>\n",
       "    <tr>\n",
       "      <th>2022-11-18</th>\n",
       "      <td>NaN</td>\n",
       "      <td>56.62</td>\n",
       "      <td>53.88</td>\n",
       "      <td>55.11</td>\n",
       "      <td>56.27</td>\n",
       "      <td>57.45</td>\n",
       "      <td>58.54</td>\n",
       "      <td>59.95</td>\n",
       "    </tr>\n",
       "    <tr>\n",
       "      <th>2022-11-21</th>\n",
       "      <td>NaN</td>\n",
       "      <td>56.46</td>\n",
       "      <td>54.07</td>\n",
       "      <td>55.32</td>\n",
       "      <td>56.04</td>\n",
       "      <td>57.50</td>\n",
       "      <td>58.79</td>\n",
       "      <td>60.11</td>\n",
       "    </tr>\n",
       "    <tr>\n",
       "      <th>2022-11-22</th>\n",
       "      <td>NaN</td>\n",
       "      <td>57.65</td>\n",
       "      <td>54.81</td>\n",
       "      <td>56.59</td>\n",
       "      <td>57.06</td>\n",
       "      <td>59.34</td>\n",
       "      <td>60.30</td>\n",
       "      <td>61.49</td>\n",
       "    </tr>\n",
       "    <tr>\n",
       "      <th>2022-11-23</th>\n",
       "      <td>NaN</td>\n",
       "      <td>58.60</td>\n",
       "      <td>56.34</td>\n",
       "      <td>57.69</td>\n",
       "      <td>58.12</td>\n",
       "      <td>59.81</td>\n",
       "      <td>60.25</td>\n",
       "      <td>61.70</td>\n",
       "    </tr>\n",
       "    <tr>\n",
       "      <th>2022-11-24</th>\n",
       "      <td>NaN</td>\n",
       "      <td>58.94</td>\n",
       "      <td>56.66</td>\n",
       "      <td>58.12</td>\n",
       "      <td>58.40</td>\n",
       "      <td>60.01</td>\n",
       "      <td>60.46</td>\n",
       "      <td>61.83</td>\n",
       "    </tr>\n",
       "    <tr>\n",
       "      <th>2022-11-25</th>\n",
       "      <td>NaN</td>\n",
       "      <td>59.75</td>\n",
       "      <td>57.38</td>\n",
       "      <td>58.94</td>\n",
       "      <td>59.44</td>\n",
       "      <td>61.20</td>\n",
       "      <td>62.02</td>\n",
       "      <td>63.02</td>\n",
       "    </tr>\n",
       "    <tr>\n",
       "      <th>2022-11-28</th>\n",
       "      <td>NaN</td>\n",
       "      <td>60.39</td>\n",
       "      <td>58.03</td>\n",
       "      <td>59.04</td>\n",
       "      <td>59.65</td>\n",
       "      <td>61.97</td>\n",
       "      <td>62.48</td>\n",
       "      <td>63.42</td>\n",
       "    </tr>\n",
       "    <tr>\n",
       "      <th>2022-11-29</th>\n",
       "      <td>NaN</td>\n",
       "      <td>60.29</td>\n",
       "      <td>57.47</td>\n",
       "      <td>58.60</td>\n",
       "      <td>59.38</td>\n",
       "      <td>61.53</td>\n",
       "      <td>62.66</td>\n",
       "      <td>63.02</td>\n",
       "    </tr>\n",
       "    <tr>\n",
       "      <th>2022-11-30</th>\n",
       "      <td>NaN</td>\n",
       "      <td>60.05</td>\n",
       "      <td>56.98</td>\n",
       "      <td>58.39</td>\n",
       "      <td>59.19</td>\n",
       "      <td>61.10</td>\n",
       "      <td>61.59</td>\n",
       "      <td>63.03</td>\n",
       "    </tr>\n",
       "  </tbody>\n",
       "</table>\n",
       "</div>"
      ],
      "text/plain": [
       "            Actual   Q50   Q01   Q10   Q20   Q80   Q90   Q99\n",
       "date                                                        \n",
       "2022-08-25   50.50 54.07 48.97 51.40 52.63 55.54 56.16 57.93\n",
       "2022-11-14     NaN 56.03 51.71 55.19 55.49 57.39 58.85 60.16\n",
       "2022-11-15     NaN 55.93 51.73 54.96 55.45 56.93 57.75 60.23\n",
       "2022-11-16     NaN 56.27 52.95 55.40 55.72 57.04 58.09 59.56\n",
       "2022-11-17     NaN 56.63 53.48 55.79 56.10 57.49 58.81 60.02\n",
       "2022-11-18     NaN 56.62 53.88 55.11 56.27 57.45 58.54 59.95\n",
       "2022-11-21     NaN 56.46 54.07 55.32 56.04 57.50 58.79 60.11\n",
       "2022-11-22     NaN 57.65 54.81 56.59 57.06 59.34 60.30 61.49\n",
       "2022-11-23     NaN 58.60 56.34 57.69 58.12 59.81 60.25 61.70\n",
       "2022-11-24     NaN 58.94 56.66 58.12 58.40 60.01 60.46 61.83\n",
       "2022-11-25     NaN 59.75 57.38 58.94 59.44 61.20 62.02 63.02\n",
       "2022-11-28     NaN 60.39 58.03 59.04 59.65 61.97 62.48 63.42\n",
       "2022-11-29     NaN 60.29 57.47 58.60 59.38 61.53 62.66 63.02\n",
       "2022-11-30     NaN 60.05 56.98 58.39 59.19 61.10 61.59 63.03"
      ]
     },
     "execution_count": 32,
     "metadata": {},
     "output_type": "execute_result"
    }
   ],
   "source": [
    "# retrieve forecast series for chosen quantiles, \n",
    "# inverse-transform each series,\n",
    "# insert them as columns in a new dataframe dfY\n",
    "q50_RMSE = np.inf\n",
    "q50_MAPE = np.inf\n",
    "ts_q50 = None\n",
    "pd.options.display.float_format = '{:,.2f}'.format\n",
    "dfY = pd.DataFrame()\n",
    " \n",
    "# call helper function predQ, once for every quantile\n",
    "_ = [predQ(ts_tpred, q) for q in QUANTILES]\n",
    "\n",
    "# move Q50 column to the left, then insert Actual column\n",
    "col = dfY.pop(\"Q50\")\n",
    "dfY.insert(0, col.name, col)\n",
    "dfY.insert(0, \"Actual\", TimeSeries.pd_series(ts_test))\n",
    "\n",
    "# show first and last 13 timestamps of forecast\n",
    "dfY.iloc[np.r_[0:1, -13:0]]  "
   ]
  },
  {
   "cell_type": "code",
   "execution_count": 33,
   "id": "66efa962-cf89-4cdf-b867-cd06380b01bb",
   "metadata": {},
   "outputs": [
    {
     "data": {
      "image/png": "[encoded data removed]",
      "text/plain": [
       "<Figure size 1440x504 with 1 Axes>"
      ]
     },
     "metadata": {},
     "output_type": "display_data"
    }
   ],
   "source": [
    "# plot the forecast\n",
    "plt.figure(100, figsize=(20, 7))\n",
    "sns.set(font_scale=1.3)\n",
    "p = sns.lineplot(x = \"date\", y = \"Q50\", data = dfY, palette=\"coolwarm\")\n",
    "sns.lineplot(x = \"date\", y = \"Actual\", data = dfY, palette=\"coolwarm\")\n",
    "plt.legend(labels=[\"forecast median price Q50\", \"actual price\"])\n",
    "p.set_ylabel(\"price\")\n",
    "p.set_xlabel(\"\")\n",
    "p.set_title(\"energy price (test set)\");"
   ]
  },
  {
   "cell_type": "markdown",
   "id": "3d0751ff-44a4-45a5-8080-1872480596bb",
   "metadata": {},
   "source": [
    "---"
   ]
  },
  {
   "cell_type": "markdown",
   "id": "e201bbad-e307-4b70-aa4f-0c759d0e6fe7",
   "metadata": {},
   "source": [
    "## Part 6: Conclusion"
   ]
  },
  {
   "cell_type": "code",
   "execution_count": null,
   "id": "35913978-ed95-4117-88bc-27da5ad751a8",
   "metadata": {},
   "outputs": [],
   "source": []
  }
 ],
 "metadata": {
  "kernelspec": {
   "display_name": "Python 3 (ipykernel)",
   "language": "python",
   "name": "python3"
  },
  "language_info": {
   "codemirror_mode": {
    "name": "ipython",
    "version": 3
   },
   "file_extension": ".py",
   "mimetype": "text/x-python",
   "name": "python",
   "nbconvert_exporter": "python",
   "pygments_lexer": "ipython3",
   "version": "3.9.12"
  }
 },
 "nbformat": 4,
 "nbformat_minor": 5
}
