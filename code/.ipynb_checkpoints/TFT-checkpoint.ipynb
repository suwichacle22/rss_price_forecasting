{
 "cells": [
  {
   "cell_type": "code",
   "execution_count": 1,
   "id": "17c217da-4877-4d92-a038-c550a9587a0c",
   "metadata": {},
   "outputs": [],
   "source": [
    "%matplotlib inline\n",
    "import numpy as np\n",
    "import pandas as pd\n",
    "import matplotlib.pyplot as plt\n",
    "import seaborn as sns\n",
    "import os\n",
    "import sys\n",
    "import missingno as mno\n",
    "\n",
    "import warnings\n",
    "warnings.filterwarnings(\"ignore\")\n",
    "import logging\n",
    "logging.disable(logging.CRITICAL)\n",
    "\n",
    "\n",
    "from darts import TimeSeries, concatenate\n",
    "from darts.dataprocessing.transformers import Scaler\n",
    "from darts.models import NBEATSModel\n",
    "from darts.metrics import mape, rmse\n",
    "from darts.utils.timeseries_generation import datetime_attribute_timeseries\n",
    "from darts.utils.likelihood_models import QuantileRegression\n",
    "\n",
    "\n",
    "pd.set_option(\"display.precision\",2)\n",
    "np.set_printoptions(precision=2, suppress=True)\n",
    "pd.options.display.float_format = '{:,.2f}'.format"
   ]
  },
  {
   "cell_type": "code",
   "execution_count": 255,
   "id": "a96bcbdb-1513-4005-9728-52faff8a1515",
   "metadata": {},
   "outputs": [],
   "source": [
    "LOAD = False         # True = load previously saved model from disk?  False = (re)train the model\n",
    "SAVE = \"\\_NBEATS_model_03.pth.tar\"   # file name to save the model under\n",
    "\n",
    "EPOCHS = 20\n",
    "INLEN = 5        # input size\n",
    "BLOCKS = 16         \n",
    "LWIDTH = 32\n",
    "BATCH = 4          # batch size\n",
    "LEARN = 1e-3        # learning rate\n",
    "VALWAIT = 1         # epochs to wait before evaluating the loss on the test/validation set\n",
    "N_FC = 1            # output size\n",
    "\n",
    "RAND = 42           # random seed\n",
    "N_SAMPLES = 21     # number of times a prediction is sampled from a probabilistic model\n",
    "N_JOBS = -1          # parallel processors to use;  -1 = all processors\n",
    "\n",
    "# default quantiles for QuantileRegression\n",
    "QUANTILES = [0.1, 0.2, 0.3, 0.4, 0.5, 0.6, 0.7, 0.8, 0.9]\n",
    "\n",
    "SPLIT = pd.to_datetime('2022-09-30')         # train/test %\n",
    "\n",
    "FIGSIZE = (9, 6)\n",
    "\n",
    "\n",
    "qL1, qL2 = 0.01, 0.10        # percentiles of predictions: lower bounds\n",
    "qU1, qU2 = 1-qL1, 1-qL2,     # upper bounds derived from lower bounds\n",
    "label_q1 = f'{int(qU1 * 100)} / {int(qL1 * 100)} percentile band'\n",
    "label_q2 = f'{int(qU2 * 100)} / {int(qL2 * 100)} percentile band'\n",
    "\n",
    "mpath = os.path.abspath(os.getcwd()) + SAVE     # path and file name to save the model"
   ]
  },
  {
   "cell_type": "code",
   "execution_count": 256,
   "id": "a0309bba-4edc-42cb-af7f-11a82a9aea34",
   "metadata": {},
   "outputs": [],
   "source": [
    "def import_csv_dateindex(csv_file):\n",
    "    df = pd.read_csv(f'../data/{csv_file}')\n",
    "    df['date'] = pd.to_datetime(df['date'])\n",
    "    df = df.set_index('date').asfreq('B')\n",
    "    return df"
   ]
  },
  {
   "cell_type": "code",
   "execution_count": 257,
   "id": "d660df11-a0c4-44d0-8e93-d6104d29d94c",
   "metadata": {},
   "outputs": [],
   "source": [
    "rubber = import_csv_dateindex('../data/rubber.csv')\n",
    "rubber = rubber.loc['2022'].copy()"
   ]
  },
  {
   "cell_type": "code",
   "execution_count": 258,
   "id": "f056a398-309a-45a2-bca0-55a417c9557a",
   "metadata": {},
   "outputs": [
    {
     "data": {
      "text/html": [
       "<div>\n",
       "<style scoped>\n",
       "    .dataframe tbody tr th:only-of-type {\n",
       "        vertical-align: middle;\n",
       "    }\n",
       "\n",
       "    .dataframe tbody tr th {\n",
       "        vertical-align: top;\n",
       "    }\n",
       "\n",
       "    .dataframe thead th {\n",
       "        text-align: right;\n",
       "    }\n",
       "</style>\n",
       "<table border=\"1\" class=\"dataframe\">\n",
       "  <thead>\n",
       "    <tr style=\"text-align: right;\">\n",
       "      <th></th>\n",
       "      <th>cup_lump</th>\n",
       "      <th>rubber_sheet</th>\n",
       "      <th>ribbed_smoked_sheet</th>\n",
       "      <th>latex</th>\n",
       "      <th>fob</th>\n",
       "      <th>tocom</th>\n",
       "      <th>sicom</th>\n",
       "      <th>jpy</th>\n",
       "      <th>sgd</th>\n",
       "      <th>usd</th>\n",
       "      <th>crude_oil</th>\n",
       "    </tr>\n",
       "    <tr>\n",
       "      <th>date</th>\n",
       "      <th></th>\n",
       "      <th></th>\n",
       "      <th></th>\n",
       "      <th></th>\n",
       "      <th></th>\n",
       "      <th></th>\n",
       "      <th></th>\n",
       "      <th></th>\n",
       "      <th></th>\n",
       "      <th></th>\n",
       "      <th></th>\n",
       "    </tr>\n",
       "  </thead>\n",
       "  <tbody>\n",
       "    <tr>\n",
       "      <th>2022-01-03</th>\n",
       "      <td>46.50</td>\n",
       "      <td>53.88</td>\n",
       "      <td>56.13</td>\n",
       "      <td>48.00</td>\n",
       "      <td>63.90</td>\n",
       "      <td>222.80</td>\n",
       "      <td>196.50</td>\n",
       "      <td>3.47</td>\n",
       "      <td>24.55</td>\n",
       "      <td>0.03</td>\n",
       "      <td>71.11</td>\n",
       "    </tr>\n",
       "    <tr>\n",
       "      <th>2022-01-04</th>\n",
       "      <td>46.50</td>\n",
       "      <td>53.88</td>\n",
       "      <td>57.15</td>\n",
       "      <td>49.00</td>\n",
       "      <td>64.20</td>\n",
       "      <td>224.70</td>\n",
       "      <td>196.70</td>\n",
       "      <td>3.49</td>\n",
       "      <td>24.52</td>\n",
       "      <td>0.03</td>\n",
       "      <td>72.11</td>\n",
       "    </tr>\n",
       "    <tr>\n",
       "      <th>2022-01-05</th>\n",
       "      <td>47.00</td>\n",
       "      <td>53.64</td>\n",
       "      <td>57.56</td>\n",
       "      <td>51.50</td>\n",
       "      <td>64.75</td>\n",
       "      <td>229.00</td>\n",
       "      <td>197.50</td>\n",
       "      <td>3.50</td>\n",
       "      <td>24.44</td>\n",
       "      <td>0.03</td>\n",
       "      <td>72.23</td>\n",
       "    </tr>\n",
       "    <tr>\n",
       "      <th>2022-01-06</th>\n",
       "      <td>47.50</td>\n",
       "      <td>54.40</td>\n",
       "      <td>58.20</td>\n",
       "      <td>52.80</td>\n",
       "      <td>64.40</td>\n",
       "      <td>224.00</td>\n",
       "      <td>193.50</td>\n",
       "      <td>3.45</td>\n",
       "      <td>24.65</td>\n",
       "      <td>0.03</td>\n",
       "      <td>72.97</td>\n",
       "    </tr>\n",
       "    <tr>\n",
       "      <th>2022-01-07</th>\n",
       "      <td>47.50</td>\n",
       "      <td>54.64</td>\n",
       "      <td>57.82</td>\n",
       "      <td>53.00</td>\n",
       "      <td>64.50</td>\n",
       "      <td>226.00</td>\n",
       "      <td>196.40</td>\n",
       "      <td>3.43</td>\n",
       "      <td>24.79</td>\n",
       "      <td>0.03</td>\n",
       "      <td>72.66</td>\n",
       "    </tr>\n",
       "    <tr>\n",
       "      <th>...</th>\n",
       "      <td>...</td>\n",
       "      <td>...</td>\n",
       "      <td>...</td>\n",
       "      <td>...</td>\n",
       "      <td>...</td>\n",
       "      <td>...</td>\n",
       "      <td>...</td>\n",
       "      <td>...</td>\n",
       "      <td>...</td>\n",
       "      <td>...</td>\n",
       "      <td>...</td>\n",
       "    </tr>\n",
       "    <tr>\n",
       "      <th>2022-10-25</th>\n",
       "      <td>41.35</td>\n",
       "      <td>48.58</td>\n",
       "      <td>51.00</td>\n",
       "      <td>47.10</td>\n",
       "      <td>60.40</td>\n",
       "      <td>224.10</td>\n",
       "      <td>147.80</td>\n",
       "      <td>3.89</td>\n",
       "      <td>26.79</td>\n",
       "      <td>0.03</td>\n",
       "      <td>85.32</td>\n",
       "    </tr>\n",
       "    <tr>\n",
       "      <th>2022-10-26</th>\n",
       "      <td>41.05</td>\n",
       "      <td>48.72</td>\n",
       "      <td>50.12</td>\n",
       "      <td>47.30</td>\n",
       "      <td>60.00</td>\n",
       "      <td>225.30</td>\n",
       "      <td>147.50</td>\n",
       "      <td>3.87</td>\n",
       "      <td>26.88</td>\n",
       "      <td>0.03</td>\n",
       "      <td>87.91</td>\n",
       "    </tr>\n",
       "    <tr>\n",
       "      <th>2022-10-27</th>\n",
       "      <td>41.00</td>\n",
       "      <td>48.20</td>\n",
       "      <td>49.82</td>\n",
       "      <td>47.30</td>\n",
       "      <td>59.85</td>\n",
       "      <td>220.50</td>\n",
       "      <td>149.90</td>\n",
       "      <td>3.87</td>\n",
       "      <td>26.80</td>\n",
       "      <td>0.03</td>\n",
       "      <td>89.08</td>\n",
       "    </tr>\n",
       "    <tr>\n",
       "      <th>2022-10-28</th>\n",
       "      <td>41.00</td>\n",
       "      <td>47.69</td>\n",
       "      <td>49.76</td>\n",
       "      <td>47.30</td>\n",
       "      <td>59.60</td>\n",
       "      <td>214.40</td>\n",
       "      <td>149.90</td>\n",
       "      <td>3.88</td>\n",
       "      <td>26.86</td>\n",
       "      <td>0.03</td>\n",
       "      <td>87.90</td>\n",
       "    </tr>\n",
       "    <tr>\n",
       "      <th>2022-10-31</th>\n",
       "      <td>40.75</td>\n",
       "      <td>47.03</td>\n",
       "      <td>49.47</td>\n",
       "      <td>47.00</td>\n",
       "      <td>58.15</td>\n",
       "      <td>215.70</td>\n",
       "      <td>149.90</td>\n",
       "      <td>3.91</td>\n",
       "      <td>26.87</td>\n",
       "      <td>0.03</td>\n",
       "      <td>86.53</td>\n",
       "    </tr>\n",
       "  </tbody>\n",
       "</table>\n",
       "<p>216 rows × 11 columns</p>\n",
       "</div>"
      ],
      "text/plain": [
       "            cup_lump  rubber_sheet  ribbed_smoked_sheet  latex   fob  tocom  \\\n",
       "date                                                                          \n",
       "2022-01-03     46.50         53.88                56.13  48.00 63.90 222.80   \n",
       "2022-01-04     46.50         53.88                57.15  49.00 64.20 224.70   \n",
       "2022-01-05     47.00         53.64                57.56  51.50 64.75 229.00   \n",
       "2022-01-06     47.50         54.40                58.20  52.80 64.40 224.00   \n",
       "2022-01-07     47.50         54.64                57.82  53.00 64.50 226.00   \n",
       "...              ...           ...                  ...    ...   ...    ...   \n",
       "2022-10-25     41.35         48.58                51.00  47.10 60.40 224.10   \n",
       "2022-10-26     41.05         48.72                50.12  47.30 60.00 225.30   \n",
       "2022-10-27     41.00         48.20                49.82  47.30 59.85 220.50   \n",
       "2022-10-28     41.00         47.69                49.76  47.30 59.60 214.40   \n",
       "2022-10-31     40.75         47.03                49.47  47.00 58.15 215.70   \n",
       "\n",
       "            sicom  jpy   sgd  usd  crude_oil  \n",
       "date                                          \n",
       "2022-01-03 196.50 3.47 24.55 0.03      71.11  \n",
       "2022-01-04 196.70 3.49 24.52 0.03      72.11  \n",
       "2022-01-05 197.50 3.50 24.44 0.03      72.23  \n",
       "2022-01-06 193.50 3.45 24.65 0.03      72.97  \n",
       "2022-01-07 196.40 3.43 24.79 0.03      72.66  \n",
       "...           ...  ...   ...  ...        ...  \n",
       "2022-10-25 147.80 3.89 26.79 0.03      85.32  \n",
       "2022-10-26 147.50 3.87 26.88 0.03      87.91  \n",
       "2022-10-27 149.90 3.87 26.80 0.03      89.08  \n",
       "2022-10-28 149.90 3.88 26.86 0.03      87.90  \n",
       "2022-10-31 149.90 3.91 26.87 0.03      86.53  \n",
       "\n",
       "[216 rows x 11 columns]"
      ]
     },
     "execution_count": 258,
     "metadata": {},
     "output_type": "execute_result"
    }
   ],
   "source": [
    "rubber"
   ]
  },
  {
   "cell_type": "code",
   "execution_count": 259,
   "id": "95c0a867-658c-4123-aace-fcbd1488cb38",
   "metadata": {},
   "outputs": [],
   "source": [
    "rubber.drop(['cup_lump', 'usd'], axis=1, inplace=True)"
   ]
  },
  {
   "cell_type": "code",
   "execution_count": 260,
   "id": "30b0c769-2b14-4e8f-ac70-ad704edc118c",
   "metadata": {},
   "outputs": [],
   "source": [
    "def df_lagged(df, endog, exog:'list', shift=21):\n",
    "    df_lag = df[[endog]].copy()\n",
    "    for col in exog:\n",
    "        df_lag[col] = df[col].shift(shift, freq='B').copy()\n",
    "    df_lag.dropna(inplace=True)\n",
    "    return df_lag\n",
    "\n",
    "rubber = df_lagged(rubber, 'ribbed_smoked_sheet', rubber.drop('ribbed_smoked_sheet', axis=1).columns)"
   ]
  },
  {
   "cell_type": "code",
   "execution_count": 264,
   "id": "94fdb5ea-7c03-4991-b22c-539b988335b3",
   "metadata": {},
   "outputs": [],
   "source": [
    "rubber = rubber['2022-07':'2022-10']"
   ]
  },
  {
   "cell_type": "code",
   "execution_count": 265,
   "id": "409ce474-fe96-483b-8334-18523241a356",
   "metadata": {},
   "outputs": [
    {
     "name": "stdout",
     "output_type": "stream",
     "text": [
      "components: Index(['ribbed_smoked_sheet'], dtype='object', name='component')\n",
      "duration: 122 days 00:00:00\n",
      "frequency: <BusinessDay>\n",
      "frequency: B\n",
      "has date time index? (or else, it must have an integer index): True\n",
      "deterministic: True\n",
      "univariate: True\n"
     ]
    }
   ],
   "source": [
    "# create time series object for target variable\n",
    "ts_P = TimeSeries.from_series(rubber[\"ribbed_smoked_sheet\"], freq='B') \n",
    "\n",
    "# check attributes of the time series\n",
    "print(\"components:\", ts_P.components)\n",
    "print(\"duration:\",ts_P.duration)\n",
    "print(\"frequency:\",ts_P.freq)\n",
    "print(\"frequency:\",ts_P.freq_str)\n",
    "print(\"has date time index? (or else, it must have an integer index):\",ts_P.has_datetime_index)\n",
    "print(\"deterministic:\",ts_P.is_deterministic)\n",
    "print(\"univariate:\",ts_P.is_univariate)"
   ]
  },
  {
   "cell_type": "code",
   "execution_count": 266,
   "id": "18f4a233-2557-4a3c-873c-b53fe12d5bce",
   "metadata": {},
   "outputs": [
    {
     "name": "stdout",
     "output_type": "stream",
     "text": [
      "components (columns) of feature time series: Index(['rubber_sheet', 'latex', 'fob', 'tocom', 'sicom', 'jpy', 'sgd',\n",
      "       'crude_oil'],\n",
      "      dtype='object', name='component')\n",
      "duration: 122 days 00:00:00\n",
      "frequency: <BusinessDay>\n",
      "frequency: B\n",
      "has date time index? (or else, it must have an integer index): True\n",
      "deterministic: True\n",
      "univariate: False\n"
     ]
    }
   ],
   "source": [
    "# create time series object for the feature columns\n",
    "df_covF = rubber.loc[:, rubber.columns != \"ribbed_smoked_sheet\"]\n",
    "ts_covF = TimeSeries.from_dataframe(df_covF)\n",
    "\n",
    "# check attributes of the time series\n",
    "print(\"components (columns) of feature time series:\", ts_covF.components)\n",
    "print(\"duration:\",ts_covF.duration)\n",
    "print(\"frequency:\",ts_covF.freq)\n",
    "print(\"frequency:\",ts_covF.freq_str)\n",
    "print(\"has date time index? (or else, it must have an integer index):\",ts_covF.has_datetime_index)\n",
    "print(\"deterministic:\",ts_covF.is_deterministic)\n",
    "print(\"univariate:\",ts_covF.is_univariate)"
   ]
  },
  {
   "cell_type": "code",
   "execution_count": 267,
   "id": "13d170d7-9809-488b-a7cd-aa86823779c1",
   "metadata": {},
   "outputs": [
    {
     "name": "stdout",
     "output_type": "stream",
     "text": [
      "training start: 2022-07-01 00:00:00\n",
      "training end: 2022-09-30 00:00:00\n",
      "training duration: 91 days 00:00:00\n",
      "test start: 2022-10-03 00:00:00\n",
      "test end: 2022-10-31 00:00:00\n",
      "test duration: 28 days 00:00:00\n",
      "first and last row of scaled price time series:\n"
     ]
    },
    {
     "data": {
      "text/html": [
       "<div>\n",
       "<style scoped>\n",
       "    .dataframe tbody tr th:only-of-type {\n",
       "        vertical-align: middle;\n",
       "    }\n",
       "\n",
       "    .dataframe tbody tr th {\n",
       "        vertical-align: top;\n",
       "    }\n",
       "\n",
       "    .dataframe thead th {\n",
       "        text-align: right;\n",
       "    }\n",
       "</style>\n",
       "<table border=\"1\" class=\"dataframe\">\n",
       "  <thead>\n",
       "    <tr style=\"text-align: right;\">\n",
       "      <th>component</th>\n",
       "      <th>ribbed_smoked_sheet</th>\n",
       "    </tr>\n",
       "    <tr>\n",
       "      <th>date</th>\n",
       "      <th></th>\n",
       "    </tr>\n",
       "  </thead>\n",
       "  <tbody>\n",
       "    <tr>\n",
       "      <th>2022-07-01</th>\n",
       "      <td>1.00</td>\n",
       "    </tr>\n",
       "    <tr>\n",
       "      <th>2022-10-31</th>\n",
       "      <td>0.16</td>\n",
       "    </tr>\n",
       "  </tbody>\n",
       "</table>\n",
       "</div>"
      ],
      "text/plain": [
       "component   ribbed_smoked_sheet\n",
       "date                           \n",
       "2022-07-01                 1.00\n",
       "2022-10-31                 0.16"
      ]
     },
     "execution_count": 267,
     "metadata": {},
     "output_type": "execute_result"
    }
   ],
   "source": [
    "# train/test split and scaling of target variable\n",
    "ts_train, ts_test = ts_P.split_after(split_point=SPLIT)\n",
    "print(\"training start:\", ts_train.start_time())\n",
    "print(\"training end:\", ts_train.end_time())\n",
    "print(\"training duration:\",ts_train.duration)\n",
    "print(\"test start:\", ts_test.start_time())\n",
    "print(\"test end:\", ts_test.end_time())\n",
    "print(\"test duration:\", ts_test.duration)\n",
    "\n",
    "\n",
    "scalerP = Scaler()\n",
    "scalerP.fit_transform(ts_train)\n",
    "ts_ttrain = scalerP.transform(ts_train)\n",
    "ts_ttest = scalerP.transform(ts_test)    \n",
    "ts_t = scalerP.transform(ts_P)\n",
    "\n",
    "# make sure data are of type float\n",
    "ts_t = ts_t.astype(np.float32)\n",
    "ts_ttrain = ts_ttrain.astype(np.float32)\n",
    "ts_ttest = ts_ttest.astype(np.float32)\n",
    "\n",
    "print(\"first and last row of scaled price time series:\")\n",
    "pd.options.display.float_format = '{:,.2f}'.format\n",
    "ts_t.pd_dataframe().iloc[[0,-1]]"
   ]
  },
  {
   "cell_type": "code",
   "execution_count": 268,
   "id": "1962d40f-df5c-4061-9fe0-39b4a7c5f4bc",
   "metadata": {},
   "outputs": [
    {
     "name": "stdout",
     "output_type": "stream",
     "text": [
      "first and last row of scaled feature covariates:\n"
     ]
    },
    {
     "data": {
      "text/html": [
       "<div>\n",
       "<style scoped>\n",
       "    .dataframe tbody tr th:only-of-type {\n",
       "        vertical-align: middle;\n",
       "    }\n",
       "\n",
       "    .dataframe tbody tr th {\n",
       "        vertical-align: top;\n",
       "    }\n",
       "\n",
       "    .dataframe thead th {\n",
       "        text-align: right;\n",
       "    }\n",
       "</style>\n",
       "<table border=\"1\" class=\"dataframe\">\n",
       "  <thead>\n",
       "    <tr style=\"text-align: right;\">\n",
       "      <th>component</th>\n",
       "      <th>rubber_sheet</th>\n",
       "      <th>latex</th>\n",
       "      <th>fob</th>\n",
       "      <th>tocom</th>\n",
       "      <th>sicom</th>\n",
       "      <th>jpy</th>\n",
       "      <th>sgd</th>\n",
       "      <th>crude_oil</th>\n",
       "    </tr>\n",
       "    <tr>\n",
       "      <th>date</th>\n",
       "      <th></th>\n",
       "      <th></th>\n",
       "      <th></th>\n",
       "      <th></th>\n",
       "      <th></th>\n",
       "      <th></th>\n",
       "      <th></th>\n",
       "      <th></th>\n",
       "    </tr>\n",
       "  </thead>\n",
       "  <tbody>\n",
       "    <tr>\n",
       "      <th>2022-07-01</th>\n",
       "      <td>0.92</td>\n",
       "      <td>1.00</td>\n",
       "      <td>0.99</td>\n",
       "      <td>0.69</td>\n",
       "      <td>0.99</td>\n",
       "      <td>0.60</td>\n",
       "      <td>0.02</td>\n",
       "      <td>0.75</td>\n",
       "    </tr>\n",
       "    <tr>\n",
       "      <th>2022-10-31</th>\n",
       "      <td>-0.05</td>\n",
       "      <td>-0.04</td>\n",
       "      <td>0.09</td>\n",
       "      <td>0.13</td>\n",
       "      <td>-0.02</td>\n",
       "      <td>0.73</td>\n",
       "      <td>0.87</td>\n",
       "      <td>-0.27</td>\n",
       "    </tr>\n",
       "  </tbody>\n",
       "</table>\n",
       "</div>"
      ],
      "text/plain": [
       "component   rubber_sheet  latex  fob  tocom  sicom  jpy  sgd  crude_oil\n",
       "date                                                                   \n",
       "2022-07-01          0.92   1.00 0.99   0.69   0.99 0.60 0.02       0.75\n",
       "2022-10-31         -0.05  -0.04 0.09   0.13  -0.02 0.73 0.87      -0.27"
      ]
     },
     "execution_count": 268,
     "metadata": {},
     "output_type": "execute_result"
    }
   ],
   "source": [
    "# train/test split and scaling of feature covariates\n",
    "covF_train, covF_test = ts_covF.split_after(SPLIT)\n",
    "\n",
    "scalerF = Scaler()\n",
    "scalerF.fit_transform(covF_train)\n",
    "covF_ttrain = scalerF.transform(covF_train) \n",
    "covF_ttest = scalerF.transform(covF_test)   \n",
    "covF_t = scalerF.transform(ts_covF)  \n",
    "\n",
    "# make sure data are of type float\n",
    "covF_ttrain = covF_ttrain.astype(np.float32)\n",
    "covF_ttest = covF_ttest.astype(np.float32)\n",
    "\n",
    "pd.options.display.float_format = '{:.2f}'.format\n",
    "print(\"first and last row of scaled feature covariates:\")\n",
    "covF_t.pd_dataframe().iloc[[0,-1]]"
   ]
  },
  {
   "cell_type": "code",
   "execution_count": 269,
   "id": "f6cee205-cf52-4c96-9532-a0e59358e6fa",
   "metadata": {},
   "outputs": [
    {
     "name": "stdout",
     "output_type": "stream",
     "text": [
      "first and last row of unscaled time covariates:\n"
     ]
    },
    {
     "data": {
      "text/html": [
       "<div>\n",
       "<style scoped>\n",
       "    .dataframe tbody tr th:only-of-type {\n",
       "        vertical-align: middle;\n",
       "    }\n",
       "\n",
       "    .dataframe tbody tr th {\n",
       "        vertical-align: top;\n",
       "    }\n",
       "\n",
       "    .dataframe thead th {\n",
       "        text-align: right;\n",
       "    }\n",
       "</style>\n",
       "<table border=\"1\" class=\"dataframe\">\n",
       "  <thead>\n",
       "    <tr style=\"text-align: right;\">\n",
       "      <th>component</th>\n",
       "      <th>month</th>\n",
       "      <th>quarter</th>\n",
       "    </tr>\n",
       "    <tr>\n",
       "      <th>date</th>\n",
       "      <th></th>\n",
       "      <th></th>\n",
       "    </tr>\n",
       "  </thead>\n",
       "  <tbody>\n",
       "    <tr>\n",
       "      <th>2022-07-01</th>\n",
       "      <td>7</td>\n",
       "      <td>3</td>\n",
       "    </tr>\n",
       "    <tr>\n",
       "      <th>2022-10-31</th>\n",
       "      <td>10</td>\n",
       "      <td>4</td>\n",
       "    </tr>\n",
       "  </tbody>\n",
       "</table>\n",
       "</div>"
      ],
      "text/plain": [
       "component   month  quarter\n",
       "date                      \n",
       "2022-07-01      7        3\n",
       "2022-10-31     10        4"
      ]
     },
     "execution_count": 269,
     "metadata": {},
     "output_type": "execute_result"
    }
   ],
   "source": [
    "# feature engineering - create time covariates: hour, weekday, month, year, country-specific holidays\n",
    "covT = datetime_attribute_timeseries( ts_P.time_index, attribute=\"month\")   # 48 hours beyond end of test set to prepare for out-of-sample forecasting\n",
    "# covT = covT.stack(  datetime_attribute_timeseries(covT.time_index, attribute=\"day_of_week\")  )\n",
    "# covT = covT.stack(  datetime_attribute_timeseries(covT.time_index, attribute=\"month\")  )\n",
    "covT = covT.stack(  datetime_attribute_timeseries(covT.time_index, attribute=\"quarter\")  )\n",
    "# covT = covT.stack(  datetime_attribute_timeseries(covT.time_index, attribute=\"year\")  )\n",
    "\n",
    "covT = covT.astype(np.float32)\n",
    "\n",
    "\n",
    "# train/test split\n",
    "covT_train, covT_test = covT.split_after(ts_train.end_time())\n",
    "\n",
    "\n",
    "# rescale the covariates: fitting on the training set\n",
    "scalerT = Scaler()\n",
    "scalerT.fit(covT_train)\n",
    "covT_ttrain = scalerT.transform(covT_train)\n",
    "covT_ttest = scalerT.transform(covT_test)\n",
    "covT_t = scalerT.transform(covT)\n",
    "\n",
    "covT_t = covT_t.astype(np.float32)\n",
    "\n",
    "\n",
    "pd.options.display.float_format = '{:.0f}'.format\n",
    "print(\"first and last row of unscaled time covariates:\")\n",
    "covT.pd_dataframe().iloc[[0,-1]]"
   ]
  },
  {
   "cell_type": "code",
   "execution_count": 270,
   "id": "2dbc07c6-078c-4c77-8e01-3cfc6508e7a7",
   "metadata": {},
   "outputs": [
    {
     "name": "stdout",
     "output_type": "stream",
     "text": [
      "first and last row of unscaled covariates:\n"
     ]
    },
    {
     "data": {
      "text/html": [
       "<div>\n",
       "<style scoped>\n",
       "    .dataframe tbody tr th:only-of-type {\n",
       "        vertical-align: middle;\n",
       "    }\n",
       "\n",
       "    .dataframe tbody tr th {\n",
       "        vertical-align: top;\n",
       "    }\n",
       "\n",
       "    .dataframe thead th {\n",
       "        text-align: right;\n",
       "    }\n",
       "</style>\n",
       "<table border=\"1\" class=\"dataframe\">\n",
       "  <thead>\n",
       "    <tr style=\"text-align: right;\">\n",
       "      <th>component</th>\n",
       "      <th>rubber_sheet</th>\n",
       "      <th>latex</th>\n",
       "      <th>fob</th>\n",
       "      <th>tocom</th>\n",
       "      <th>sicom</th>\n",
       "      <th>jpy</th>\n",
       "      <th>sgd</th>\n",
       "      <th>crude_oil</th>\n",
       "      <th>month</th>\n",
       "      <th>quarter</th>\n",
       "    </tr>\n",
       "    <tr>\n",
       "      <th>date</th>\n",
       "      <th></th>\n",
       "      <th></th>\n",
       "      <th></th>\n",
       "      <th></th>\n",
       "      <th></th>\n",
       "      <th></th>\n",
       "      <th></th>\n",
       "      <th></th>\n",
       "      <th></th>\n",
       "      <th></th>\n",
       "    </tr>\n",
       "  </thead>\n",
       "  <tbody>\n",
       "    <tr>\n",
       "      <th>2022-07-01</th>\n",
       "      <td>65.87</td>\n",
       "      <td>67.30</td>\n",
       "      <td>76.90</td>\n",
       "      <td>254.40</td>\n",
       "      <td>216.30</td>\n",
       "      <td>3.79</td>\n",
       "      <td>24.99</td>\n",
       "      <td>104.21</td>\n",
       "      <td>7.00</td>\n",
       "      <td>3.00</td>\n",
       "    </tr>\n",
       "    <tr>\n",
       "      <th>2022-10-31</th>\n",
       "      <td>46.51</td>\n",
       "      <td>45.70</td>\n",
       "      <td>59.60</td>\n",
       "      <td>226.00</td>\n",
       "      <td>148.30</td>\n",
       "      <td>3.82</td>\n",
       "      <td>26.31</td>\n",
       "      <td>78.72</td>\n",
       "      <td>10.00</td>\n",
       "      <td>4.00</td>\n",
       "    </tr>\n",
       "  </tbody>\n",
       "</table>\n",
       "</div>"
      ],
      "text/plain": [
       "component   rubber_sheet  latex   fob  tocom  sicom  jpy   sgd  crude_oil  \\\n",
       "date                                                                        \n",
       "2022-07-01         65.87  67.30 76.90 254.40 216.30 3.79 24.99     104.21   \n",
       "2022-10-31         46.51  45.70 59.60 226.00 148.30 3.82 26.31      78.72   \n",
       "\n",
       "component   month  quarter  \n",
       "date                        \n",
       "2022-07-01   7.00     3.00  \n",
       "2022-10-31  10.00     4.00  "
      ]
     },
     "execution_count": 270,
     "metadata": {},
     "output_type": "execute_result"
    }
   ],
   "source": [
    "# combine feature and time covariates along component dimension: axis=1\n",
    "ts_cov = ts_covF.concatenate( covT.slice_intersect(ts_covF), axis=1 )                      # unscaled F+T\n",
    "cov_t = covF_t.concatenate( covT_t.slice_intersect(covF_t), axis=1 )                       # scaled F+T\n",
    "cov_ttrain = covF_ttrain.concatenate( covT_ttrain.slice_intersect(covF_ttrain), axis=1 )   # scaled F+T training set\n",
    "cov_ttest = covF_ttest.concatenate( covT_ttest.slice_intersect(covF_ttest), axis=1 )       # scaled F+T test set\n",
    "cov_t = cov_t.astype(np.float32)\n",
    "\n",
    "pd.options.display.float_format = '{:.2f}'.format\n",
    "print(\"first and last row of unscaled covariates:\")\n",
    "ts_cov.pd_dataframe().iloc[[0,-1]]"
   ]
  },
  {
   "cell_type": "code",
   "execution_count": 271,
   "id": "042799bd-1b95-46d5-a5af-0259c06fb3a1",
   "metadata": {},
   "outputs": [],
   "source": [
    "\n",
    "model = NBEATSModel(    \n",
    "    input_chunk_length=INLEN,\n",
    "                        output_chunk_length=N_FC, \n",
    "                        num_stacks=BLOCKS,\n",
    "                        layer_widths=LWIDTH,\n",
    "                        batch_size=BATCH,\n",
    "                        n_epochs=EPOCHS,\n",
    "                        nr_epochs_val_period=VALWAIT, \n",
    "                        likelihood=QuantileRegression(QUANTILES), \n",
    "                        optimizer_kwargs={\"lr\": LEARN}, \n",
    "                        model_name=\"NBEATS_EnergyES\",\n",
    "                        log_tensorboard=True,\n",
    "                        generic_architecture=True, \n",
    "                        random_state=RAND,\n",
    "                        force_reset=True,\n",
    "                        save_checkpoints=True\n",
    "                    )"
   ]
  },
  {
   "cell_type": "code",
   "execution_count": 272,
   "id": "10f01b3f-e3cb-40f6-87c3-d2b0a275565a",
   "metadata": {},
   "outputs": [
    {
     "data": {
      "application/vnd.jupyter.widget-view+json": {
       "model_id": "",
       "version_major": 2,
       "version_minor": 0
      },
      "text/plain": [
       "Sanity Checking: 0it [00:00, ?it/s]"
      ]
     },
     "metadata": {},
     "output_type": "display_data"
    },
    {
     "data": {
      "application/vnd.jupyter.widget-view+json": {
       "model_id": "005ee02e0ddc411ea1e1bf1c53b895db",
       "version_major": 2,
       "version_minor": 0
      },
      "text/plain": [
       "Training: 0it [00:00, ?it/s]"
      ]
     },
     "metadata": {},
     "output_type": "display_data"
    },
    {
     "data": {
      "application/vnd.jupyter.widget-view+json": {
       "model_id": "",
       "version_major": 2,
       "version_minor": 0
      },
      "text/plain": [
       "Validation: 0it [00:00, ?it/s]"
      ]
     },
     "metadata": {},
     "output_type": "display_data"
    },
    {
     "data": {
      "application/vnd.jupyter.widget-view+json": {
       "model_id": "",
       "version_major": 2,
       "version_minor": 0
      },
      "text/plain": [
       "Validation: 0it [00:00, ?it/s]"
      ]
     },
     "metadata": {},
     "output_type": "display_data"
    },
    {
     "data": {
      "application/vnd.jupyter.widget-view+json": {
       "model_id": "",
       "version_major": 2,
       "version_minor": 0
      },
      "text/plain": [
       "Validation: 0it [00:00, ?it/s]"
      ]
     },
     "metadata": {},
     "output_type": "display_data"
    },
    {
     "data": {
      "application/vnd.jupyter.widget-view+json": {
       "model_id": "",
       "version_major": 2,
       "version_minor": 0
      },
      "text/plain": [
       "Validation: 0it [00:00, ?it/s]"
      ]
     },
     "metadata": {},
     "output_type": "display_data"
    },
    {
     "data": {
      "application/vnd.jupyter.widget-view+json": {
       "model_id": "",
       "version_major": 2,
       "version_minor": 0
      },
      "text/plain": [
       "Validation: 0it [00:00, ?it/s]"
      ]
     },
     "metadata": {},
     "output_type": "display_data"
    },
    {
     "data": {
      "application/vnd.jupyter.widget-view+json": {
       "model_id": "",
       "version_major": 2,
       "version_minor": 0
      },
      "text/plain": [
       "Validation: 0it [00:00, ?it/s]"
      ]
     },
     "metadata": {},
     "output_type": "display_data"
    },
    {
     "data": {
      "application/vnd.jupyter.widget-view+json": {
       "model_id": "",
       "version_major": 2,
       "version_minor": 0
      },
      "text/plain": [
       "Validation: 0it [00:00, ?it/s]"
      ]
     },
     "metadata": {},
     "output_type": "display_data"
    },
    {
     "data": {
      "application/vnd.jupyter.widget-view+json": {
       "model_id": "",
       "version_major": 2,
       "version_minor": 0
      },
      "text/plain": [
       "Validation: 0it [00:00, ?it/s]"
      ]
     },
     "metadata": {},
     "output_type": "display_data"
    },
    {
     "data": {
      "application/vnd.jupyter.widget-view+json": {
       "model_id": "",
       "version_major": 2,
       "version_minor": 0
      },
      "text/plain": [
       "Validation: 0it [00:00, ?it/s]"
      ]
     },
     "metadata": {},
     "output_type": "display_data"
    },
    {
     "data": {
      "application/vnd.jupyter.widget-view+json": {
       "model_id": "",
       "version_major": 2,
       "version_minor": 0
      },
      "text/plain": [
       "Validation: 0it [00:00, ?it/s]"
      ]
     },
     "metadata": {},
     "output_type": "display_data"
    },
    {
     "data": {
      "application/vnd.jupyter.widget-view+json": {
       "model_id": "",
       "version_major": 2,
       "version_minor": 0
      },
      "text/plain": [
       "Validation: 0it [00:00, ?it/s]"
      ]
     },
     "metadata": {},
     "output_type": "display_data"
    },
    {
     "data": {
      "application/vnd.jupyter.widget-view+json": {
       "model_id": "",
       "version_major": 2,
       "version_minor": 0
      },
      "text/plain": [
       "Validation: 0it [00:00, ?it/s]"
      ]
     },
     "metadata": {},
     "output_type": "display_data"
    },
    {
     "data": {
      "application/vnd.jupyter.widget-view+json": {
       "model_id": "",
       "version_major": 2,
       "version_minor": 0
      },
      "text/plain": [
       "Validation: 0it [00:00, ?it/s]"
      ]
     },
     "metadata": {},
     "output_type": "display_data"
    },
    {
     "data": {
      "application/vnd.jupyter.widget-view+json": {
       "model_id": "",
       "version_major": 2,
       "version_minor": 0
      },
      "text/plain": [
       "Validation: 0it [00:00, ?it/s]"
      ]
     },
     "metadata": {},
     "output_type": "display_data"
    },
    {
     "data": {
      "application/vnd.jupyter.widget-view+json": {
       "model_id": "",
       "version_major": 2,
       "version_minor": 0
      },
      "text/plain": [
       "Validation: 0it [00:00, ?it/s]"
      ]
     },
     "metadata": {},
     "output_type": "display_data"
    },
    {
     "data": {
      "application/vnd.jupyter.widget-view+json": {
       "model_id": "",
       "version_major": 2,
       "version_minor": 0
      },
      "text/plain": [
       "Validation: 0it [00:00, ?it/s]"
      ]
     },
     "metadata": {},
     "output_type": "display_data"
    },
    {
     "data": {
      "application/vnd.jupyter.widget-view+json": {
       "model_id": "",
       "version_major": 2,
       "version_minor": 0
      },
      "text/plain": [
       "Validation: 0it [00:00, ?it/s]"
      ]
     },
     "metadata": {},
     "output_type": "display_data"
    },
    {
     "data": {
      "application/vnd.jupyter.widget-view+json": {
       "model_id": "",
       "version_major": 2,
       "version_minor": 0
      },
      "text/plain": [
       "Validation: 0it [00:00, ?it/s]"
      ]
     },
     "metadata": {},
     "output_type": "display_data"
    },
    {
     "data": {
      "application/vnd.jupyter.widget-view+json": {
       "model_id": "",
       "version_major": 2,
       "version_minor": 0
      },
      "text/plain": [
       "Validation: 0it [00:00, ?it/s]"
      ]
     },
     "metadata": {},
     "output_type": "display_data"
    },
    {
     "data": {
      "application/vnd.jupyter.widget-view+json": {
       "model_id": "",
       "version_major": 2,
       "version_minor": 0
      },
      "text/plain": [
       "Validation: 0it [00:00, ?it/s]"
      ]
     },
     "metadata": {},
     "output_type": "display_data"
    },
    {
     "name": "stdout",
     "output_type": "stream",
     "text": [
      "have saved the model after training: D:\\tda\\dsi\\capstone\\code\\_NBEATS_model_03.pth.tar\n"
     ]
    }
   ],
   "source": [
    "# training: load a saved model or (re)train\n",
    "if LOAD:\n",
    "    print(\"have loaded a previously saved model from disk:\" + mpath)\n",
    "    model = NBEATSModel.load_model(mpath)                            # load previously model from disk \n",
    "else:\n",
    "    model.fit(  series=ts_ttrain, \n",
    "                past_covariates=cov_t, \n",
    "                val_series=ts_ttest, \n",
    "                val_past_covariates=cov_t, \n",
    "                verbose=True)\n",
    "    print(\"have saved the model after training:\", mpath)\n",
    "    model.save_model(mpath)"
   ]
  },
  {
   "cell_type": "code",
   "execution_count": 273,
   "id": "b5332805-07d1-4b97-87bc-e9b3f6cbdebe",
   "metadata": {},
   "outputs": [
    {
     "data": {
      "application/vnd.jupyter.widget-view+json": {
       "model_id": "b24fd9e479744d97908f91b8481fabcc",
       "version_major": 2,
       "version_minor": 0
      },
      "text/plain": [
       "Predicting: 16it [00:00, ?it/s]"
      ]
     },
     "metadata": {},
     "output_type": "display_data"
    },
    {
     "name": "stdout",
     "output_type": "stream",
     "text": [
      "RMSE: 5.41\n",
      "MAPE: 10.15\n"
     ]
    },
    {
     "data": {
      "text/html": [
       "<div>\n",
       "<style scoped>\n",
       "    .dataframe tbody tr th:only-of-type {\n",
       "        vertical-align: middle;\n",
       "    }\n",
       "\n",
       "    .dataframe tbody tr th {\n",
       "        vertical-align: top;\n",
       "    }\n",
       "\n",
       "    .dataframe thead th {\n",
       "        text-align: right;\n",
       "    }\n",
       "</style>\n",
       "<table border=\"1\" class=\"dataframe\">\n",
       "  <thead>\n",
       "    <tr style=\"text-align: right;\">\n",
       "      <th></th>\n",
       "      <th>Actual</th>\n",
       "      <th>Q50</th>\n",
       "      <th>Q10</th>\n",
       "      <th>Q20</th>\n",
       "      <th>Q30</th>\n",
       "      <th>Q40</th>\n",
       "      <th>Q60</th>\n",
       "      <th>Q70</th>\n",
       "      <th>Q80</th>\n",
       "      <th>Q90</th>\n",
       "    </tr>\n",
       "    <tr>\n",
       "      <th>date</th>\n",
       "      <th></th>\n",
       "      <th></th>\n",
       "      <th></th>\n",
       "      <th></th>\n",
       "      <th></th>\n",
       "      <th></th>\n",
       "      <th></th>\n",
       "      <th></th>\n",
       "      <th></th>\n",
       "      <th></th>\n",
       "    </tr>\n",
       "  </thead>\n",
       "  <tbody>\n",
       "    <tr>\n",
       "      <th>2022-10-03</th>\n",
       "      <td>49.44</td>\n",
       "      <td>46.99</td>\n",
       "      <td>46.72</td>\n",
       "      <td>46.77</td>\n",
       "      <td>46.79</td>\n",
       "      <td>46.89</td>\n",
       "      <td>47.32</td>\n",
       "      <td>47.74</td>\n",
       "      <td>47.74</td>\n",
       "      <td>47.78</td>\n",
       "    </tr>\n",
       "    <tr>\n",
       "      <th>2022-10-04</th>\n",
       "      <td>49.90</td>\n",
       "      <td>46.98</td>\n",
       "      <td>46.12</td>\n",
       "      <td>46.38</td>\n",
       "      <td>46.48</td>\n",
       "      <td>46.67</td>\n",
       "      <td>47.26</td>\n",
       "      <td>47.66</td>\n",
       "      <td>47.69</td>\n",
       "      <td>48.12</td>\n",
       "    </tr>\n",
       "    <tr>\n",
       "      <th>2022-10-28</th>\n",
       "      <td>49.76</td>\n",
       "      <td>45.26</td>\n",
       "      <td>43.72</td>\n",
       "      <td>44.31</td>\n",
       "      <td>44.59</td>\n",
       "      <td>44.98</td>\n",
       "      <td>45.43</td>\n",
       "      <td>45.52</td>\n",
       "      <td>45.63</td>\n",
       "      <td>45.75</td>\n",
       "    </tr>\n",
       "    <tr>\n",
       "      <th>2022-10-31</th>\n",
       "      <td>49.47</td>\n",
       "      <td>45.47</td>\n",
       "      <td>44.50</td>\n",
       "      <td>44.66</td>\n",
       "      <td>45.20</td>\n",
       "      <td>45.35</td>\n",
       "      <td>45.52</td>\n",
       "      <td>45.60</td>\n",
       "      <td>45.76</td>\n",
       "      <td>46.92</td>\n",
       "    </tr>\n",
       "  </tbody>\n",
       "</table>\n",
       "</div>"
      ],
      "text/plain": [
       "            Actual   Q50   Q10   Q20   Q30   Q40   Q60   Q70   Q80   Q90\n",
       "date                                                                    \n",
       "2022-10-03   49.44 46.99 46.72 46.77 46.79 46.89 47.32 47.74 47.74 47.78\n",
       "2022-10-04   49.90 46.98 46.12 46.38 46.48 46.67 47.26 47.66 47.69 48.12\n",
       "2022-10-28   49.76 45.26 43.72 44.31 44.59 44.98 45.43 45.52 45.63 45.75\n",
       "2022-10-31   49.47 45.47 44.50 44.66 45.20 45.35 45.52 45.60 45.76 46.92"
      ]
     },
     "execution_count": 273,
     "metadata": {},
     "output_type": "execute_result"
    }
   ],
   "source": [
    "# testing: generate predictions\n",
    "ts_tpred = model.predict(   n=len(ts_ttest),  \n",
    "                            past_covariates=cov_t,\n",
    "                            num_samples=20,   \n",
    "                            n_jobs=N_JOBS, \n",
    "                            verbose=True)\n",
    "                            \n",
    "                            \n",
    "                            \n",
    "# retrieve forecast series for chosen quantiles, \n",
    "# inverse-transform each series,\n",
    "# insert them as columns in a new dataframe dfY\n",
    "q50_RMSE = np.inf\n",
    "q50_MAPE = np.inf\n",
    "ts_q50 = None\n",
    "pd.options.display.float_format = '{:,.2f}'.format\n",
    "dfY = pd.DataFrame()\n",
    "dfY[\"Actual\"] = TimeSeries.pd_series(ts_test)\n",
    "\n",
    "\n",
    "# helper function: get forecast values for selected quantile q and insert them in dataframe dfY\n",
    "def predQ(ts_t, q):\n",
    "    ts_tq = ts_t.quantile_timeseries(q)\n",
    "    ts_q = scalerP.inverse_transform(ts_tq)\n",
    "    s = TimeSeries.pd_series(ts_q)\n",
    "    header = \"Q\" + format(int(q*100), \"02d\")\n",
    "    dfY[header] = s\n",
    "    if q==0.5:\n",
    "        ts_q50 = ts_q\n",
    "        q50_RMSE = rmse(ts_q50, ts_test)\n",
    "        q50_MAPE = mape(ts_test, ts_q50) \n",
    "        print(\"RMSE:\", f'{q50_RMSE:.2f}')\n",
    "        print(\"MAPE:\", f'{q50_MAPE:.2f}')\n",
    "  \n",
    "    \n",
    "# call helper function predQ, once for every quantile\n",
    "_ = [predQ(ts_tpred, q) for q in QUANTILES]\n",
    "\n",
    "# move Q50 column to the left of the Actual column\n",
    "col = dfY.pop(\"Q50\")\n",
    "dfY.insert(1, col.name, col)\n",
    "dfY.iloc[np.r_[0:2, -2:0]]"
   ]
  },
  {
   "cell_type": "code",
   "execution_count": 274,
   "id": "45b2f564-2c30-4387-812c-e3051465a234",
   "metadata": {},
   "outputs": [
    {
     "name": "stdout",
     "output_type": "stream",
     "text": [
      "mape Actual 0.0\n",
      "mape Q50 10.148666260836052\n",
      "mape Q10 12.320568324605729\n",
      "mape Q20 11.469673546643364\n",
      "mape Q30 11.005714816541042\n",
      "mape Q40 10.544371242874595\n",
      "mape Q60 9.87002993022117\n",
      "mape Q70 9.584296429619437\n",
      "mape Q80 9.290906223531117\n",
      "mape Q90 8.621178869953303\n"
     ]
    }
   ],
   "source": [
    "for col in dfY.columns:\n",
    "    print(f\"mape {col} {mape(TimeSeries.from_series(dfY['Actual'], freq='W'), TimeSeries.from_series(dfY[col], freq='W'))}\")"
   ]
  },
  {
   "cell_type": "code",
   "execution_count": 275,
   "id": "60a89131-9bbc-489d-95fc-20820a13bafa",
   "metadata": {},
   "outputs": [
    {
     "data": {
      "image/png": "[encoded data removed]",
      "text/plain": [
       "<Figure size 1440x504 with 1 Axes>"
      ]
     },
     "metadata": {},
     "output_type": "display_data"
    }
   ],
   "source": [
    "# plot the forecast\n",
    "plt.figure(100, figsize=(20, 7))\n",
    "sns.set(font_scale=1.3)\n",
    "p = sns.lineplot(x = \"date\", y = \"Q10\", data = dfY, palette=\"coolwarm\")\n",
    "sns.lineplot(x = \"date\", y = \"Actual\", data = dfY, palette=\"coolwarm\")\n",
    "plt.legend(labels=[\"forecast median price Q50\", \"actual price\"])\n",
    "p.set_ylabel(\"price\")\n",
    "p.set_xlabel(\"\")\n",
    "p.set_title(\"energy price (test set)\");"
   ]
  },
  {
   "cell_type": "code",
   "execution_count": null,
   "id": "1067fda1-3880-43db-8e3e-0b6757355432",
   "metadata": {},
   "outputs": [],
   "source": []
  },
  {
   "cell_type": "code",
   "execution_count": null,
   "id": "88c0d052-4d4d-4874-b6d4-28fe8a0c1538",
   "metadata": {},
   "outputs": [],
   "source": []
  },
  {
   "cell_type": "code",
   "execution_count": null,
   "id": "7a2351d5-2924-41f8-8c30-c375fba7ddbc",
   "metadata": {},
   "outputs": [],
   "source": []
  }
 ],
 "metadata": {
  "kernelspec": {
   "display_name": "Python 3 (ipykernel)",
   "language": "python",
   "name": "python3"
  },
  "language_info": {
   "codemirror_mode": {
    "name": "ipython",
    "version": 3
   },
   "file_extension": ".py",
   "mimetype": "text/x-python",
   "name": "python",
   "nbconvert_exporter": "python",
   "pygments_lexer": "ipython3",
   "version": "3.9.12"
  }
 },
 "nbformat": 4,
 "nbformat_minor": 5
}
