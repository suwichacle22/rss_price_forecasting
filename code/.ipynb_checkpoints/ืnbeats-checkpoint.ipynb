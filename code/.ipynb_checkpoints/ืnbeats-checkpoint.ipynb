{
 "cells": [
  {
   "cell_type": "code",
   "execution_count": 1,
   "id": "17c217da-4877-4d92-a038-c550a9587a0c",
   "metadata": {},
   "outputs": [],
   "source": [
    "%matplotlib inline\n",
    "import numpy as np\n",
    "import pandas as pd\n",
    "import matplotlib.pyplot as plt\n",
    "import seaborn as sns\n",
    "import os\n",
    "import sys\n",
    "import missingno as mno\n",
    "\n",
    "import warnings\n",
    "warnings.filterwarnings(\"ignore\")\n",
    "import logging\n",
    "logging.disable(logging.CRITICAL)\n",
    "\n",
    "\n",
    "from darts import TimeSeries, concatenate\n",
    "from darts.dataprocessing.transformers import Scaler\n",
    "from darts.models import NBEATSModel\n",
    "from darts.metrics import mape, rmse\n",
    "from darts.utils.timeseries_generation import datetime_attribute_timeseries\n",
    "from darts.utils.likelihood_models import QuantileRegression\n",
    "\n",
    "\n",
    "pd.set_option(\"display.precision\",2)\n",
    "np.set_printoptions(precision=2, suppress=True)\n",
    "pd.options.display.float_format = '{:,.2f}'.format"
   ]
  },
  {
   "cell_type": "code",
   "execution_count": 41,
   "id": "a96bcbdb-1513-4005-9728-52faff8a1515",
   "metadata": {},
   "outputs": [],
   "source": [
    "LOAD = False         # True = load previously saved model from disk?  False = (re)train the model\n",
    "SAVE = \"\\_NBEATS_model_03.pth.tar\"   # file name to save the model under\n",
    "\n",
    "EPOCHS = 20\n",
    "INLEN = 5        # input size\n",
    "BLOCKS = 64         \n",
    "LWIDTH = 32\n",
    "BATCH = 16          # batch size\n",
    "LEARN = 1e-3        # learning rate\n",
    "VALWAIT = 1         # epochs to wait before evaluating the loss on the test/validation set\n",
    "N_FC = 1            # output size\n",
    "\n",
    "RAND = 42           # random seed\n",
    "N_SAMPLES = 21     # number of times a prediction is sampled from a probabilistic model\n",
    "N_JOBS = -1          # parallel processors to use;  -1 = all processors\n",
    "\n",
    "# default quantiles for QuantileRegression\n",
    "QUANTILES = [0.1, 0.2, 0.3, 0.4, 0.5, 0.6, 0.7, 0.8, 0.9]\n",
    "\n",
    "SPLIT = pd.to_datetime('2022-07-31')         # train/test %\n",
    "\n",
    "FIGSIZE = (9, 6)\n",
    "\n",
    "\n",
    "qL1, qL2 = 0.01, 0.10        # percentiles of predictions: lower bounds\n",
    "qU1, qU2 = 1-qL1, 1-qL2,     # upper bounds derived from lower bounds\n",
    "label_q1 = f'{int(qU1 * 100)} / {int(qL1 * 100)} percentile band'\n",
    "label_q2 = f'{int(qU2 * 100)} / {int(qL2 * 100)} percentile band'\n",
    "\n",
    "mpath = os.path.abspath(os.getcwd()) + SAVE     # path and file name to save the model"
   ]
  },
  {
   "cell_type": "code",
   "execution_count": 42,
   "id": "a0309bba-4edc-42cb-af7f-11a82a9aea34",
   "metadata": {},
   "outputs": [],
   "source": [
    "def import_csv_dateindex(csv_file):\n",
    "    df = pd.read_csv(f'../data/{csv_file}')\n",
    "    df['date'] = pd.to_datetime(df['date'])\n",
    "    df = df.set_index('date').asfreq('B')\n",
    "    return df"
   ]
  },
  {
   "cell_type": "code",
   "execution_count": 43,
   "id": "2112a029-c2b1-4f18-96cd-ce0982cfccda",
   "metadata": {},
   "outputs": [],
   "source": [
    "rubber = pd.read_csv('../data/raw/fob.csv')"
   ]
  },
  {
   "cell_type": "code",
   "execution_count": 44,
   "id": "4bf106a2-e547-43c3-bcbe-9d02ac881041",
   "metadata": {},
   "outputs": [],
   "source": [
    "rubber.drop_duplicates('date', inplace=True)"
   ]
  },
  {
   "cell_type": "code",
   "execution_count": 7,
   "id": "d660df11-a0c4-44d0-8e93-d6104d29d94c",
   "metadata": {},
   "outputs": [],
   "source": [
    "# rubber = import_csv_dateindex('../data/raw/fob.csv')\n",
    "# rubber = rubber.loc['2022'].copy()"
   ]
  },
  {
   "cell_type": "code",
   "execution_count": 19,
   "id": "f056a398-309a-45a2-bca0-55a417c9557a",
   "metadata": {},
   "outputs": [
    {
     "data": {
      "text/html": [
       "<div>\n",
       "<style scoped>\n",
       "    .dataframe tbody tr th:only-of-type {\n",
       "        vertical-align: middle;\n",
       "    }\n",
       "\n",
       "    .dataframe tbody tr th {\n",
       "        vertical-align: top;\n",
       "    }\n",
       "\n",
       "    .dataframe thead th {\n",
       "        text-align: right;\n",
       "    }\n",
       "</style>\n",
       "<table border=\"1\" class=\"dataframe\">\n",
       "  <thead>\n",
       "    <tr style=\"text-align: right;\">\n",
       "      <th></th>\n",
       "      <th>date</th>\n",
       "      <th>ยางแผ่นดิบ</th>\n",
       "      <th>น้ำยางสด</th>\n",
       "      <th>ยางแผ่นดิบ.1</th>\n",
       "      <th>ยางแผ่นรมควัน ชั้น3</th>\n",
       "      <th>น้ำยางสด.1</th>\n",
       "      <th>FOB</th>\n",
       "    </tr>\n",
       "  </thead>\n",
       "  <tbody>\n",
       "    <tr>\n",
       "      <th>0</th>\n",
       "      <td>2001-01-03</td>\n",
       "      <td>22.30</td>\n",
       "      <td>20.00</td>\n",
       "      <td>23.55</td>\n",
       "      <td>24.26</td>\n",
       "      <td>NaN</td>\n",
       "      <td>26.70</td>\n",
       "    </tr>\n",
       "    <tr>\n",
       "      <th>1</th>\n",
       "      <td>2001-01-04</td>\n",
       "      <td>22.30</td>\n",
       "      <td>19.50</td>\n",
       "      <td>23.25</td>\n",
       "      <td>24.30</td>\n",
       "      <td>NaN</td>\n",
       "      <td>26.25</td>\n",
       "    </tr>\n",
       "    <tr>\n",
       "      <th>2</th>\n",
       "      <td>2001-01-05</td>\n",
       "      <td>22.30</td>\n",
       "      <td>19.25</td>\n",
       "      <td>23.26</td>\n",
       "      <td>24.16</td>\n",
       "      <td>NaN</td>\n",
       "      <td>26.25</td>\n",
       "    </tr>\n",
       "    <tr>\n",
       "      <th>3</th>\n",
       "      <td>2001-01-08</td>\n",
       "      <td>22.30</td>\n",
       "      <td>19.25</td>\n",
       "      <td>23.45</td>\n",
       "      <td>24.20</td>\n",
       "      <td>NaN</td>\n",
       "      <td>25.85</td>\n",
       "    </tr>\n",
       "    <tr>\n",
       "      <th>4</th>\n",
       "      <td>2001-01-09</td>\n",
       "      <td>22.20</td>\n",
       "      <td>19.25</td>\n",
       "      <td>23.26</td>\n",
       "      <td>24.26</td>\n",
       "      <td>NaN</td>\n",
       "      <td>25.90</td>\n",
       "    </tr>\n",
       "    <tr>\n",
       "      <th>...</th>\n",
       "      <td>...</td>\n",
       "      <td>...</td>\n",
       "      <td>...</td>\n",
       "      <td>...</td>\n",
       "      <td>...</td>\n",
       "      <td>...</td>\n",
       "      <td>...</td>\n",
       "    </tr>\n",
       "    <tr>\n",
       "      <th>5255</th>\n",
       "      <td>2022-10-25</td>\n",
       "      <td>46.35</td>\n",
       "      <td>47.10</td>\n",
       "      <td>NaN</td>\n",
       "      <td>50.88</td>\n",
       "      <td>NaN</td>\n",
       "      <td>60.40</td>\n",
       "    </tr>\n",
       "    <tr>\n",
       "      <th>5256</th>\n",
       "      <td>2022-10-26</td>\n",
       "      <td>46.25</td>\n",
       "      <td>47.30</td>\n",
       "      <td>NaN</td>\n",
       "      <td>50.10</td>\n",
       "      <td>50.10</td>\n",
       "      <td>60.00</td>\n",
       "    </tr>\n",
       "    <tr>\n",
       "      <th>5257</th>\n",
       "      <td>2022-10-27</td>\n",
       "      <td>45.80</td>\n",
       "      <td>47.30</td>\n",
       "      <td>0.00</td>\n",
       "      <td>49.67</td>\n",
       "      <td>NaN</td>\n",
       "      <td>59.85</td>\n",
       "    </tr>\n",
       "    <tr>\n",
       "      <th>5258</th>\n",
       "      <td>2022-10-28</td>\n",
       "      <td>45.60</td>\n",
       "      <td>47.30</td>\n",
       "      <td>0.00</td>\n",
       "      <td>49.37</td>\n",
       "      <td>NaN</td>\n",
       "      <td>59.60</td>\n",
       "    </tr>\n",
       "    <tr>\n",
       "      <th>5259</th>\n",
       "      <td>2022-10-31</td>\n",
       "      <td>44.90</td>\n",
       "      <td>47.00</td>\n",
       "      <td>46.39</td>\n",
       "      <td>48.15</td>\n",
       "      <td>NaN</td>\n",
       "      <td>58.15</td>\n",
       "    </tr>\n",
       "  </tbody>\n",
       "</table>\n",
       "<p>5251 rows × 7 columns</p>\n",
       "</div>"
      ],
      "text/plain": [
       "            date  ยางแผ่นดิบ  น้ำยางสด  ยางแผ่นดิบ.1  ยางแผ่นรมควัน ชั้น3  \\\n",
       "0     2001-01-03       22.30     20.00         23.55                24.26   \n",
       "1     2001-01-04       22.30     19.50         23.25                24.30   \n",
       "2     2001-01-05       22.30     19.25         23.26                24.16   \n",
       "3     2001-01-08       22.30     19.25         23.45                24.20   \n",
       "4     2001-01-09       22.20     19.25         23.26                24.26   \n",
       "...          ...         ...       ...           ...                  ...   \n",
       "5255  2022-10-25       46.35     47.10           NaN                50.88   \n",
       "5256  2022-10-26       46.25     47.30           NaN                50.10   \n",
       "5257  2022-10-27       45.80     47.30          0.00                49.67   \n",
       "5258  2022-10-28       45.60     47.30          0.00                49.37   \n",
       "5259  2022-10-31       44.90     47.00         46.39                48.15   \n",
       "\n",
       "      น้ำยางสด.1   FOB  \n",
       "0            NaN 26.70  \n",
       "1            NaN 26.25  \n",
       "2            NaN 26.25  \n",
       "3            NaN 25.85  \n",
       "4            NaN 25.90  \n",
       "...          ...   ...  \n",
       "5255         NaN 60.40  \n",
       "5256       50.10 60.00  \n",
       "5257         NaN 59.85  \n",
       "5258         NaN 59.60  \n",
       "5259         NaN 58.15  \n",
       "\n",
       "[5251 rows x 7 columns]"
      ]
     },
     "execution_count": 19,
     "metadata": {},
     "output_type": "execute_result"
    }
   ],
   "source": [
    "rubber"
   ]
  },
  {
   "cell_type": "code",
   "execution_count": 45,
   "id": "812fc4d1-bdf1-43f5-b34b-5572b3553ccf",
   "metadata": {},
   "outputs": [
    {
     "data": {
      "text/plain": [
       "Index(['rubber_sheet', 'latex', 'bid_rubber_sheet', 'bid_rss', 'bid_latex',\n",
       "       'fob'],\n",
       "      dtype='object')"
      ]
     },
     "execution_count": 45,
     "metadata": {},
     "output_type": "execute_result"
    }
   ],
   "source": [
    "rubber.columns = ['date', 'rubber_sheet', 'latex', 'bid_rubber_sheet', 'bid_rss', 'bid_latex', 'fob']\n",
    "rubber['date'] = pd.to_datetime(rubber['date'])\n",
    "rubber = rubber.set_index(['date']).asfreq('B')\n",
    "rubber.fillna(method='ffill', inplace=True)\n",
    "rubber.columns"
   ]
  },
  {
   "cell_type": "code",
   "execution_count": 316,
   "id": "95c0a867-658c-4123-aace-fcbd1488cb38",
   "metadata": {},
   "outputs": [],
   "source": [
    "rubber.drop(['cup_lump', 'usd'], axis=1, inplace=True)"
   ]
  },
  {
   "cell_type": "code",
   "execution_count": 46,
   "id": "30b0c769-2b14-4e8f-ac70-ad704edc118c",
   "metadata": {},
   "outputs": [],
   "source": [
    "def train_test_lagged(df, endog, exog:'li', shift=21):\n",
    "    df_lag = df[[endog]].copy()\n",
    "    for col in exog:\n",
    "        df_lag[col] = df[col].shift(shift, freq='B').copy()\n",
    "    df_lag.dropna(inplace=True)\n",
    "    return df_lag\n",
    "\n",
    "rubber = train_test_lagged(rubber, 'rubber_sheet', rubber.drop('rubber_sheet', axis=1).columns)"
   ]
  },
  {
   "cell_type": "code",
   "execution_count": 47,
   "id": "409ce474-fe96-483b-8334-18523241a356",
   "metadata": {},
   "outputs": [
    {
     "name": "stdout",
     "output_type": "stream",
     "text": [
      "components: Index(['rubber_sheet'], dtype='object', name='component')\n",
      "duration: 6697 days 00:00:00\n",
      "frequency: <BusinessDay>\n",
      "frequency: B\n",
      "has date time index? (or else, it must have an integer index): True\n",
      "deterministic: True\n",
      "univariate: True\n"
     ]
    }
   ],
   "source": [
    "# create time series object for target variable\n",
    "ts_P = TimeSeries.from_series(rubber[\"rubber_sheet\"], freq='B') \n",
    "\n",
    "# check attributes of the time series\n",
    "print(\"components:\", ts_P.components)\n",
    "print(\"duration:\",ts_P.duration)\n",
    "print(\"frequency:\",ts_P.freq)\n",
    "print(\"frequency:\",ts_P.freq_str)\n",
    "print(\"has date time index? (or else, it must have an integer index):\",ts_P.has_datetime_index)\n",
    "print(\"deterministic:\",ts_P.is_deterministic)\n",
    "print(\"univariate:\",ts_P.is_univariate)"
   ]
  },
  {
   "cell_type": "code",
   "execution_count": 48,
   "id": "18f4a233-2557-4a3c-873c-b53fe12d5bce",
   "metadata": {},
   "outputs": [
    {
     "name": "stdout",
     "output_type": "stream",
     "text": [
      "components (columns) of feature time series: Index(['latex', 'bid_rubber_sheet', 'bid_rss', 'bid_latex', 'fob'], dtype='object', name='component')\n",
      "duration: 6697 days 00:00:00\n",
      "frequency: <BusinessDay>\n",
      "frequency: B\n",
      "has date time index? (or else, it must have an integer index): True\n",
      "deterministic: True\n",
      "univariate: False\n"
     ]
    }
   ],
   "source": [
    "# create time series object for the feature columns\n",
    "df_covF = rubber.loc[:, rubber.columns != \"rubber_sheet\"]\n",
    "ts_covF = TimeSeries.from_dataframe(df_covF)\n",
    "\n",
    "# check attributes of the time series\n",
    "print(\"components (columns) of feature time series:\", ts_covF.components)\n",
    "print(\"duration:\",ts_covF.duration)\n",
    "print(\"frequency:\",ts_covF.freq)\n",
    "print(\"frequency:\",ts_covF.freq_str)\n",
    "print(\"has date time index? (or else, it must have an integer index):\",ts_covF.has_datetime_index)\n",
    "print(\"deterministic:\",ts_covF.is_deterministic)\n",
    "print(\"univariate:\",ts_covF.is_univariate)"
   ]
  },
  {
   "cell_type": "code",
   "execution_count": 49,
   "id": "13d170d7-9809-488b-a7cd-aa86823779c1",
   "metadata": {},
   "outputs": [
    {
     "name": "stdout",
     "output_type": "stream",
     "text": [
      "training start: 2004-06-30 00:00:00\n",
      "training end: 2022-08-01 00:00:00\n",
      "training duration: 6606 days 00:00:00\n",
      "test start: 2022-08-02 00:00:00\n",
      "test end: 2022-10-31 00:00:00\n",
      "test duration: 90 days 00:00:00\n",
      "first and last row of scaled price time series:\n"
     ]
    },
    {
     "data": {
      "text/html": [
       "<div>\n",
       "<style scoped>\n",
       "    .dataframe tbody tr th:only-of-type {\n",
       "        vertical-align: middle;\n",
       "    }\n",
       "\n",
       "    .dataframe tbody tr th {\n",
       "        vertical-align: top;\n",
       "    }\n",
       "\n",
       "    .dataframe thead th {\n",
       "        text-align: right;\n",
       "    }\n",
       "</style>\n",
       "<table border=\"1\" class=\"dataframe\">\n",
       "  <thead>\n",
       "    <tr style=\"text-align: right;\">\n",
       "      <th>component</th>\n",
       "      <th>rubber_sheet</th>\n",
       "    </tr>\n",
       "    <tr>\n",
       "      <th>date</th>\n",
       "      <th></th>\n",
       "    </tr>\n",
       "  </thead>\n",
       "  <tbody>\n",
       "    <tr>\n",
       "      <th>2004-06-30</th>\n",
       "      <td>0.14</td>\n",
       "    </tr>\n",
       "    <tr>\n",
       "      <th>2022-10-31</th>\n",
       "      <td>0.10</td>\n",
       "    </tr>\n",
       "  </tbody>\n",
       "</table>\n",
       "</div>"
      ],
      "text/plain": [
       "component   rubber_sheet\n",
       "date                    \n",
       "2004-06-30          0.14\n",
       "2022-10-31          0.10"
      ]
     },
     "execution_count": 49,
     "metadata": {},
     "output_type": "execute_result"
    }
   ],
   "source": [
    "# train/test split and scaling of target variable\n",
    "ts_train, ts_test = ts_P.split_after(split_point=SPLIT)\n",
    "print(\"training start:\", ts_train.start_time())\n",
    "print(\"training end:\", ts_train.end_time())\n",
    "print(\"training duration:\",ts_train.duration)\n",
    "print(\"test start:\", ts_test.start_time())\n",
    "print(\"test end:\", ts_test.end_time())\n",
    "print(\"test duration:\", ts_test.duration)\n",
    "\n",
    "\n",
    "scalerP = Scaler()\n",
    "scalerP.fit_transform(ts_train)\n",
    "ts_ttrain = scalerP.transform(ts_train)\n",
    "ts_ttest = scalerP.transform(ts_test)    \n",
    "ts_t = scalerP.transform(ts_P)\n",
    "\n",
    "# make sure data are of type float\n",
    "ts_t = ts_t.astype(np.float32)\n",
    "ts_ttrain = ts_ttrain.astype(np.float32)\n",
    "ts_ttest = ts_ttest.astype(np.float32)\n",
    "\n",
    "print(\"first and last row of scaled price time series:\")\n",
    "pd.options.display.float_format = '{:,.2f}'.format\n",
    "ts_t.pd_dataframe().iloc[[0,-1]]"
   ]
  },
  {
   "cell_type": "code",
   "execution_count": 50,
   "id": "1962d40f-df5c-4061-9fe0-39b4a7c5f4bc",
   "metadata": {},
   "outputs": [
    {
     "name": "stdout",
     "output_type": "stream",
     "text": [
      "first and last row of scaled feature covariates:\n"
     ]
    },
    {
     "data": {
      "text/html": [
       "<div>\n",
       "<style scoped>\n",
       "    .dataframe tbody tr th:only-of-type {\n",
       "        vertical-align: middle;\n",
       "    }\n",
       "\n",
       "    .dataframe tbody tr th {\n",
       "        vertical-align: top;\n",
       "    }\n",
       "\n",
       "    .dataframe thead th {\n",
       "        text-align: right;\n",
       "    }\n",
       "</style>\n",
       "<table border=\"1\" class=\"dataframe\">\n",
       "  <thead>\n",
       "    <tr style=\"text-align: right;\">\n",
       "      <th>component</th>\n",
       "      <th>latex</th>\n",
       "      <th>bid_rubber_sheet</th>\n",
       "      <th>bid_rss</th>\n",
       "      <th>bid_latex</th>\n",
       "      <th>fob</th>\n",
       "    </tr>\n",
       "    <tr>\n",
       "      <th>date</th>\n",
       "      <th></th>\n",
       "      <th></th>\n",
       "      <th></th>\n",
       "      <th></th>\n",
       "      <th></th>\n",
       "    </tr>\n",
       "  </thead>\n",
       "  <tbody>\n",
       "    <tr>\n",
       "      <th>2004-06-30</th>\n",
       "      <td>0.17</td>\n",
       "      <td>0.14</td>\n",
       "      <td>0.13</td>\n",
       "      <td>0.16</td>\n",
       "      <td>0.10</td>\n",
       "    </tr>\n",
       "    <tr>\n",
       "      <th>2022-10-31</th>\n",
       "      <td>0.14</td>\n",
       "      <td>0.10</td>\n",
       "      <td>0.10</td>\n",
       "      <td>0.08</td>\n",
       "      <td>0.13</td>\n",
       "    </tr>\n",
       "  </tbody>\n",
       "</table>\n",
       "</div>"
      ],
      "text/plain": [
       "component   latex  bid_rubber_sheet  bid_rss  bid_latex  fob\n",
       "date                                                        \n",
       "2004-06-30   0.17              0.14     0.13       0.16 0.10\n",
       "2022-10-31   0.14              0.10     0.10       0.08 0.13"
      ]
     },
     "execution_count": 50,
     "metadata": {},
     "output_type": "execute_result"
    }
   ],
   "source": [
    "# train/test split and scaling of feature covariates\n",
    "covF_train, covF_test = ts_covF.split_after(SPLIT)\n",
    "\n",
    "scalerF = Scaler()\n",
    "scalerF.fit_transform(covF_train)\n",
    "covF_ttrain = scalerF.transform(covF_train) \n",
    "covF_ttest = scalerF.transform(covF_test)   \n",
    "covF_t = scalerF.transform(ts_covF)  \n",
    "\n",
    "# make sure data are of type float\n",
    "covF_ttrain = covF_ttrain.astype(np.float32)\n",
    "covF_ttest = covF_ttest.astype(np.float32)\n",
    "\n",
    "pd.options.display.float_format = '{:.2f}'.format\n",
    "print(\"first and last row of scaled feature covariates:\")\n",
    "covF_t.pd_dataframe().iloc[[0,-1]]"
   ]
  },
  {
   "cell_type": "code",
   "execution_count": 51,
   "id": "f6cee205-cf52-4c96-9532-a0e59358e6fa",
   "metadata": {},
   "outputs": [
    {
     "name": "stdout",
     "output_type": "stream",
     "text": [
      "first and last row of unscaled time covariates:\n"
     ]
    },
    {
     "data": {
      "text/html": [
       "<div>\n",
       "<style scoped>\n",
       "    .dataframe tbody tr th:only-of-type {\n",
       "        vertical-align: middle;\n",
       "    }\n",
       "\n",
       "    .dataframe tbody tr th {\n",
       "        vertical-align: top;\n",
       "    }\n",
       "\n",
       "    .dataframe thead th {\n",
       "        text-align: right;\n",
       "    }\n",
       "</style>\n",
       "<table border=\"1\" class=\"dataframe\">\n",
       "  <thead>\n",
       "    <tr style=\"text-align: right;\">\n",
       "      <th>component</th>\n",
       "      <th>day</th>\n",
       "      <th>day_of_week</th>\n",
       "      <th>month</th>\n",
       "      <th>quarter</th>\n",
       "    </tr>\n",
       "    <tr>\n",
       "      <th>date</th>\n",
       "      <th></th>\n",
       "      <th></th>\n",
       "      <th></th>\n",
       "      <th></th>\n",
       "    </tr>\n",
       "  </thead>\n",
       "  <tbody>\n",
       "    <tr>\n",
       "      <th>2004-06-30</th>\n",
       "      <td>30</td>\n",
       "      <td>2</td>\n",
       "      <td>6</td>\n",
       "      <td>2</td>\n",
       "    </tr>\n",
       "    <tr>\n",
       "      <th>2022-10-31</th>\n",
       "      <td>31</td>\n",
       "      <td>0</td>\n",
       "      <td>10</td>\n",
       "      <td>4</td>\n",
       "    </tr>\n",
       "  </tbody>\n",
       "</table>\n",
       "</div>"
      ],
      "text/plain": [
       "component   day  day_of_week  month  quarter\n",
       "date                                        \n",
       "2004-06-30   30            2      6        2\n",
       "2022-10-31   31            0     10        4"
      ]
     },
     "execution_count": 51,
     "metadata": {},
     "output_type": "execute_result"
    }
   ],
   "source": [
    "# feature engineering - create time covariates: hour, weekday, month, year, country-specific holidays\n",
    "covT = datetime_attribute_timeseries( ts_P.time_index, attribute=\"day\")   # 48 hours beyond end of test set to prepare for out-of-sample forecasting\n",
    "covT = covT.stack(  datetime_attribute_timeseries(covT.time_index, attribute=\"day_of_week\")  )\n",
    "covT = covT.stack(  datetime_attribute_timeseries(covT.time_index, attribute=\"month\")  )\n",
    "covT = covT.stack(  datetime_attribute_timeseries(covT.time_index, attribute=\"quarter\")  )\n",
    "# covT = covT.stack(  datetime_attribute_timeseries(covT.time_index, attribute=\"year\")  )\n",
    "\n",
    "covT = covT.astype(np.float32)\n",
    "\n",
    "\n",
    "# train/test split\n",
    "covT_train, covT_test = covT.split_after(ts_train.end_time())\n",
    "\n",
    "\n",
    "# rescale the covariates: fitting on the training set\n",
    "scalerT = Scaler()\n",
    "scalerT.fit(covT_train)\n",
    "covT_ttrain = scalerT.transform(covT_train)\n",
    "covT_ttest = scalerT.transform(covT_test)\n",
    "covT_t = scalerT.transform(covT)\n",
    "\n",
    "covT_t = covT_t.astype(np.float32)\n",
    "\n",
    "\n",
    "pd.options.display.float_format = '{:.0f}'.format\n",
    "print(\"first and last row of unscaled time covariates:\")\n",
    "covT.pd_dataframe().iloc[[0,-1]]"
   ]
  },
  {
   "cell_type": "code",
   "execution_count": 52,
   "id": "2dbc07c6-078c-4c77-8e01-3cfc6508e7a7",
   "metadata": {},
   "outputs": [
    {
     "name": "stdout",
     "output_type": "stream",
     "text": [
      "first and last row of unscaled covariates:\n"
     ]
    },
    {
     "data": {
      "text/html": [
       "<div>\n",
       "<style scoped>\n",
       "    .dataframe tbody tr th:only-of-type {\n",
       "        vertical-align: middle;\n",
       "    }\n",
       "\n",
       "    .dataframe tbody tr th {\n",
       "        vertical-align: top;\n",
       "    }\n",
       "\n",
       "    .dataframe thead th {\n",
       "        text-align: right;\n",
       "    }\n",
       "</style>\n",
       "<table border=\"1\" class=\"dataframe\">\n",
       "  <thead>\n",
       "    <tr style=\"text-align: right;\">\n",
       "      <th>component</th>\n",
       "      <th>latex</th>\n",
       "      <th>bid_rubber_sheet</th>\n",
       "      <th>bid_rss</th>\n",
       "      <th>bid_latex</th>\n",
       "      <th>fob</th>\n",
       "      <th>day</th>\n",
       "      <th>day_of_week</th>\n",
       "      <th>month</th>\n",
       "      <th>quarter</th>\n",
       "    </tr>\n",
       "    <tr>\n",
       "      <th>date</th>\n",
       "      <th></th>\n",
       "      <th></th>\n",
       "      <th></th>\n",
       "      <th></th>\n",
       "      <th></th>\n",
       "      <th></th>\n",
       "      <th></th>\n",
       "      <th></th>\n",
       "      <th></th>\n",
       "    </tr>\n",
       "  </thead>\n",
       "  <tbody>\n",
       "    <tr>\n",
       "      <th>2004-06-30</th>\n",
       "      <td>49.50</td>\n",
       "      <td>52.20</td>\n",
       "      <td>53.90</td>\n",
       "      <td>49.81</td>\n",
       "      <td>55.50</td>\n",
       "      <td>30.00</td>\n",
       "      <td>2.00</td>\n",
       "      <td>6.00</td>\n",
       "      <td>2.00</td>\n",
       "    </tr>\n",
       "    <tr>\n",
       "      <th>2022-10-31</th>\n",
       "      <td>45.70</td>\n",
       "      <td>46.49</td>\n",
       "      <td>49.44</td>\n",
       "      <td>38.07</td>\n",
       "      <td>59.60</td>\n",
       "      <td>31.00</td>\n",
       "      <td>0.00</td>\n",
       "      <td>10.00</td>\n",
       "      <td>4.00</td>\n",
       "    </tr>\n",
       "  </tbody>\n",
       "</table>\n",
       "</div>"
      ],
      "text/plain": [
       "component   latex  bid_rubber_sheet  bid_rss  bid_latex   fob   day  \\\n",
       "date                                                                  \n",
       "2004-06-30  49.50             52.20    53.90      49.81 55.50 30.00   \n",
       "2022-10-31  45.70             46.49    49.44      38.07 59.60 31.00   \n",
       "\n",
       "component   day_of_week  month  quarter  \n",
       "date                                     \n",
       "2004-06-30         2.00   6.00     2.00  \n",
       "2022-10-31         0.00  10.00     4.00  "
      ]
     },
     "execution_count": 52,
     "metadata": {},
     "output_type": "execute_result"
    }
   ],
   "source": [
    "# combine feature and time covariates along component dimension: axis=1\n",
    "ts_cov = ts_covF.concatenate( covT.slice_intersect(ts_covF), axis=1 )                      # unscaled F+T\n",
    "cov_t = covF_t.concatenate( covT_t.slice_intersect(covF_t), axis=1 )                       # scaled F+T\n",
    "cov_ttrain = covF_ttrain.concatenate( covT_ttrain.slice_intersect(covF_ttrain), axis=1 )   # scaled F+T training set\n",
    "cov_ttest = covF_ttest.concatenate( covT_ttest.slice_intersect(covF_ttest), axis=1 )       # scaled F+T test set\n",
    "cov_t = cov_t.astype(np.float32)\n",
    "\n",
    "pd.options.display.float_format = '{:.2f}'.format\n",
    "print(\"first and last row of unscaled covariates:\")\n",
    "ts_cov.pd_dataframe().iloc[[0,-1]]"
   ]
  },
  {
   "cell_type": "code",
   "execution_count": 53,
   "id": "042799bd-1b95-46d5-a5af-0259c06fb3a1",
   "metadata": {},
   "outputs": [],
   "source": [
    "\n",
    "model = NBEATSModel(    \n",
    "    input_chunk_length=INLEN,\n",
    "                        output_chunk_length=N_FC, \n",
    "                        num_stacks=BLOCKS,\n",
    "                        layer_widths=LWIDTH,\n",
    "                        batch_size=BATCH,\n",
    "                        n_epochs=EPOCHS,\n",
    "                        nr_epochs_val_period=VALWAIT, \n",
    "                        likelihood=QuantileRegression(QUANTILES), \n",
    "                        optimizer_kwargs={\"lr\": LEARN}, \n",
    "                        model_name=\"NBEATS_EnergyES\",\n",
    "                        log_tensorboard=True,\n",
    "                        generic_architecture=True, \n",
    "                        random_state=RAND,\n",
    "                        force_reset=True,\n",
    "                        save_checkpoints=True\n",
    "                    )"
   ]
  },
  {
   "cell_type": "code",
   "execution_count": null,
   "id": "10f01b3f-e3cb-40f6-87c3-d2b0a275565a",
   "metadata": {},
   "outputs": [
    {
     "data": {
      "application/vnd.jupyter.widget-view+json": {
       "model_id": "",
       "version_major": 2,
       "version_minor": 0
      },
      "text/plain": [
       "Sanity Checking: 0it [00:00, ?it/s]"
      ]
     },
     "metadata": {},
     "output_type": "display_data"
    },
    {
     "data": {
      "application/vnd.jupyter.widget-view+json": {
       "model_id": "de76c0a5cba14af391df13bd3f587413",
       "version_major": 2,
       "version_minor": 0
      },
      "text/plain": [
       "Training: 0it [00:00, ?it/s]"
      ]
     },
     "metadata": {},
     "output_type": "display_data"
    },
    {
     "data": {
      "application/vnd.jupyter.widget-view+json": {
       "model_id": "",
       "version_major": 2,
       "version_minor": 0
      },
      "text/plain": [
       "Validation: 0it [00:00, ?it/s]"
      ]
     },
     "metadata": {},
     "output_type": "display_data"
    },
    {
     "data": {
      "application/vnd.jupyter.widget-view+json": {
       "model_id": "",
       "version_major": 2,
       "version_minor": 0
      },
      "text/plain": [
       "Validation: 0it [00:00, ?it/s]"
      ]
     },
     "metadata": {},
     "output_type": "display_data"
    },
    {
     "data": {
      "application/vnd.jupyter.widget-view+json": {
       "model_id": "",
       "version_major": 2,
       "version_minor": 0
      },
      "text/plain": [
       "Validation: 0it [00:00, ?it/s]"
      ]
     },
     "metadata": {},
     "output_type": "display_data"
    },
    {
     "data": {
      "application/vnd.jupyter.widget-view+json": {
       "model_id": "",
       "version_major": 2,
       "version_minor": 0
      },
      "text/plain": [
       "Validation: 0it [00:00, ?it/s]"
      ]
     },
     "metadata": {},
     "output_type": "display_data"
    },
    {
     "data": {
      "application/vnd.jupyter.widget-view+json": {
       "model_id": "",
       "version_major": 2,
       "version_minor": 0
      },
      "text/plain": [
       "Validation: 0it [00:00, ?it/s]"
      ]
     },
     "metadata": {},
     "output_type": "display_data"
    },
    {
     "data": {
      "application/vnd.jupyter.widget-view+json": {
       "model_id": "",
       "version_major": 2,
       "version_minor": 0
      },
      "text/plain": [
       "Validation: 0it [00:00, ?it/s]"
      ]
     },
     "metadata": {},
     "output_type": "display_data"
    },
    {
     "data": {
      "application/vnd.jupyter.widget-view+json": {
       "model_id": "",
       "version_major": 2,
       "version_minor": 0
      },
      "text/plain": [
       "Validation: 0it [00:00, ?it/s]"
      ]
     },
     "metadata": {},
     "output_type": "display_data"
    },
    {
     "data": {
      "application/vnd.jupyter.widget-view+json": {
       "model_id": "",
       "version_major": 2,
       "version_minor": 0
      },
      "text/plain": [
       "Validation: 0it [00:00, ?it/s]"
      ]
     },
     "metadata": {},
     "output_type": "display_data"
    },
    {
     "data": {
      "application/vnd.jupyter.widget-view+json": {
       "model_id": "",
       "version_major": 2,
       "version_minor": 0
      },
      "text/plain": [
       "Validation: 0it [00:00, ?it/s]"
      ]
     },
     "metadata": {},
     "output_type": "display_data"
    },
    {
     "data": {
      "application/vnd.jupyter.widget-view+json": {
       "model_id": "",
       "version_major": 2,
       "version_minor": 0
      },
      "text/plain": [
       "Validation: 0it [00:00, ?it/s]"
      ]
     },
     "metadata": {},
     "output_type": "display_data"
    },
    {
     "data": {
      "application/vnd.jupyter.widget-view+json": {
       "model_id": "",
       "version_major": 2,
       "version_minor": 0
      },
      "text/plain": [
       "Validation: 0it [00:00, ?it/s]"
      ]
     },
     "metadata": {},
     "output_type": "display_data"
    },
    {
     "data": {
      "application/vnd.jupyter.widget-view+json": {
       "model_id": "",
       "version_major": 2,
       "version_minor": 0
      },
      "text/plain": [
       "Validation: 0it [00:00, ?it/s]"
      ]
     },
     "metadata": {},
     "output_type": "display_data"
    },
    {
     "data": {
      "application/vnd.jupyter.widget-view+json": {
       "model_id": "",
       "version_major": 2,
       "version_minor": 0
      },
      "text/plain": [
       "Validation: 0it [00:00, ?it/s]"
      ]
     },
     "metadata": {},
     "output_type": "display_data"
    },
    {
     "data": {
      "application/vnd.jupyter.widget-view+json": {
       "model_id": "",
       "version_major": 2,
       "version_minor": 0
      },
      "text/plain": [
       "Validation: 0it [00:00, ?it/s]"
      ]
     },
     "metadata": {},
     "output_type": "display_data"
    },
    {
     "data": {
      "application/vnd.jupyter.widget-view+json": {
       "model_id": "",
       "version_major": 2,
       "version_minor": 0
      },
      "text/plain": [
       "Validation: 0it [00:00, ?it/s]"
      ]
     },
     "metadata": {},
     "output_type": "display_data"
    },
    {
     "data": {
      "application/vnd.jupyter.widget-view+json": {
       "model_id": "",
       "version_major": 2,
       "version_minor": 0
      },
      "text/plain": [
       "Validation: 0it [00:00, ?it/s]"
      ]
     },
     "metadata": {},
     "output_type": "display_data"
    },
    {
     "data": {
      "application/vnd.jupyter.widget-view+json": {
       "model_id": "",
       "version_major": 2,
       "version_minor": 0
      },
      "text/plain": [
       "Validation: 0it [00:00, ?it/s]"
      ]
     },
     "metadata": {},
     "output_type": "display_data"
    },
    {
     "data": {
      "application/vnd.jupyter.widget-view+json": {
       "model_id": "",
       "version_major": 2,
       "version_minor": 0
      },
      "text/plain": [
       "Validation: 0it [00:00, ?it/s]"
      ]
     },
     "metadata": {},
     "output_type": "display_data"
    },
    {
     "data": {
      "application/vnd.jupyter.widget-view+json": {
       "model_id": "",
       "version_major": 2,
       "version_minor": 0
      },
      "text/plain": [
       "Validation: 0it [00:00, ?it/s]"
      ]
     },
     "metadata": {},
     "output_type": "display_data"
    },
    {
     "data": {
      "application/vnd.jupyter.widget-view+json": {
       "model_id": "",
       "version_major": 2,
       "version_minor": 0
      },
      "text/plain": [
       "Validation: 0it [00:00, ?it/s]"
      ]
     },
     "metadata": {},
     "output_type": "display_data"
    },
    {
     "name": "stdout",
     "output_type": "stream",
     "text": [
      "have saved the model after training: D:\\tda\\dsi\\capstone\\code\\_NBEATS_model_03.pth.tar\n"
     ]
    }
   ],
   "source": [
    "# training: load a saved model or (re)train\n",
    "if LOAD:\n",
    "    print(\"have loaded a previously saved model from disk:\" + mpath)\n",
    "    model = NBEATSModel.load_model(mpath)                            # load previously model from disk \n",
    "else:\n",
    "    model.fit(  series=ts_ttrain, \n",
    "                past_covariates=cov_t, \n",
    "                val_series=ts_ttest, \n",
    "                val_past_covariates=cov_t, \n",
    "                verbose=True)\n",
    "    print(\"have saved the model after training:\", mpath)\n",
    "    model.save_model(mpath)"
   ]
  },
  {
   "cell_type": "code",
   "execution_count": 56,
   "id": "b5332805-07d1-4b97-87bc-e9b3f6cbdebe",
   "metadata": {},
   "outputs": [
    {
     "data": {
      "application/vnd.jupyter.widget-view+json": {
       "model_id": "3aa3e1ed54d74d61b9f07d3cce4d3eca",
       "version_major": 2,
       "version_minor": 0
      },
      "text/plain": [
       "Predicting: 295it [00:00, ?it/s]"
      ]
     },
     "metadata": {},
     "output_type": "display_data"
    },
    {
     "name": "stdout",
     "output_type": "stream",
     "text": [
      "RMSE: 5.81\n",
      "MAPE: 10.47\n"
     ]
    },
    {
     "data": {
      "text/html": [
       "<div>\n",
       "<style scoped>\n",
       "    .dataframe tbody tr th:only-of-type {\n",
       "        vertical-align: middle;\n",
       "    }\n",
       "\n",
       "    .dataframe tbody tr th {\n",
       "        vertical-align: top;\n",
       "    }\n",
       "\n",
       "    .dataframe thead th {\n",
       "        text-align: right;\n",
       "    }\n",
       "</style>\n",
       "<table border=\"1\" class=\"dataframe\">\n",
       "  <thead>\n",
       "    <tr style=\"text-align: right;\">\n",
       "      <th></th>\n",
       "      <th>Actual</th>\n",
       "      <th>Q50</th>\n",
       "      <th>Q10</th>\n",
       "      <th>Q20</th>\n",
       "      <th>Q30</th>\n",
       "      <th>Q40</th>\n",
       "      <th>Q60</th>\n",
       "      <th>Q70</th>\n",
       "      <th>Q80</th>\n",
       "      <th>Q90</th>\n",
       "    </tr>\n",
       "    <tr>\n",
       "      <th>date</th>\n",
       "      <th></th>\n",
       "      <th></th>\n",
       "      <th></th>\n",
       "      <th></th>\n",
       "      <th></th>\n",
       "      <th></th>\n",
       "      <th></th>\n",
       "      <th></th>\n",
       "      <th></th>\n",
       "      <th></th>\n",
       "    </tr>\n",
       "  </thead>\n",
       "  <tbody>\n",
       "    <tr>\n",
       "      <th>2022-08-02</th>\n",
       "      <td>52.75</td>\n",
       "      <td>54.53</td>\n",
       "      <td>43.93</td>\n",
       "      <td>52.77</td>\n",
       "      <td>53.70</td>\n",
       "      <td>54.23</td>\n",
       "      <td>54.76</td>\n",
       "      <td>54.82</td>\n",
       "      <td>55.57</td>\n",
       "      <td>56.20</td>\n",
       "    </tr>\n",
       "    <tr>\n",
       "      <th>2022-08-03</th>\n",
       "      <td>52.30</td>\n",
       "      <td>54.26</td>\n",
       "      <td>48.20</td>\n",
       "      <td>50.52</td>\n",
       "      <td>52.71</td>\n",
       "      <td>53.36</td>\n",
       "      <td>54.45</td>\n",
       "      <td>54.75</td>\n",
       "      <td>55.19</td>\n",
       "      <td>56.02</td>\n",
       "    </tr>\n",
       "    <tr>\n",
       "      <th>2022-10-28</th>\n",
       "      <td>45.60</td>\n",
       "      <td>37.32</td>\n",
       "      <td>32.91</td>\n",
       "      <td>34.54</td>\n",
       "      <td>35.22</td>\n",
       "      <td>36.11</td>\n",
       "      <td>39.27</td>\n",
       "      <td>41.52</td>\n",
       "      <td>52.88</td>\n",
       "      <td>59.61</td>\n",
       "    </tr>\n",
       "    <tr>\n",
       "      <th>2022-10-31</th>\n",
       "      <td>44.90</td>\n",
       "      <td>37.51</td>\n",
       "      <td>30.31</td>\n",
       "      <td>34.86</td>\n",
       "      <td>36.04</td>\n",
       "      <td>36.63</td>\n",
       "      <td>40.07</td>\n",
       "      <td>42.10</td>\n",
       "      <td>51.05</td>\n",
       "      <td>61.44</td>\n",
       "    </tr>\n",
       "  </tbody>\n",
       "</table>\n",
       "</div>"
      ],
      "text/plain": [
       "            Actual   Q50   Q10   Q20   Q30   Q40   Q60   Q70   Q80   Q90\n",
       "date                                                                    \n",
       "2022-08-02   52.75 54.53 43.93 52.77 53.70 54.23 54.76 54.82 55.57 56.20\n",
       "2022-08-03   52.30 54.26 48.20 50.52 52.71 53.36 54.45 54.75 55.19 56.02\n",
       "2022-10-28   45.60 37.32 32.91 34.54 35.22 36.11 39.27 41.52 52.88 59.61\n",
       "2022-10-31   44.90 37.51 30.31 34.86 36.04 36.63 40.07 42.10 51.05 61.44"
      ]
     },
     "execution_count": 56,
     "metadata": {},
     "output_type": "execute_result"
    }
   ],
   "source": [
    "# testing: generate predictions\n",
    "ts_tpred = model.predict(   n=len(ts_ttest),  \n",
    "                            past_covariates=cov_t,\n",
    "                            num_samples=62,   \n",
    "                            n_jobs=N_JOBS, \n",
    "                            verbose=True)\n",
    "                            \n",
    "                            \n",
    "                            \n",
    "# retrieve forecast series for chosen quantiles, \n",
    "# inverse-transform each series,\n",
    "# insert them as columns in a new dataframe dfY\n",
    "q50_RMSE = np.inf\n",
    "q50_MAPE = np.inf\n",
    "ts_q50 = None\n",
    "pd.options.display.float_format = '{:,.2f}'.format\n",
    "dfY = pd.DataFrame()\n",
    "dfY[\"Actual\"] = TimeSeries.pd_series(ts_test)\n",
    "\n",
    "\n",
    "# helper function: get forecast values for selected quantile q and insert them in dataframe dfY\n",
    "def predQ(ts_t, q):\n",
    "    ts_tq = ts_t.quantile_timeseries(q)\n",
    "    ts_q = scalerP.inverse_transform(ts_tq)\n",
    "    s = TimeSeries.pd_series(ts_q)\n",
    "    header = \"Q\" + format(int(q*100), \"02d\")\n",
    "    dfY[header] = s\n",
    "    if q==0.5:\n",
    "        ts_q50 = ts_q\n",
    "        q50_RMSE = rmse(ts_q50, ts_test)\n",
    "        q50_MAPE = mape(ts_test, ts_q50) \n",
    "        print(\"RMSE:\", f'{q50_RMSE:.2f}')\n",
    "        print(\"MAPE:\", f'{q50_MAPE:.2f}')\n",
    "  \n",
    "    \n",
    "# call helper function predQ, once for every quantile\n",
    "_ = [predQ(ts_tpred, q) for q in QUANTILES]\n",
    "\n",
    "# move Q50 column to the left of the Actual column\n",
    "col = dfY.pop(\"Q50\")\n",
    "dfY.insert(1, col.name, col)\n",
    "dfY.iloc[np.r_[0:2, -2:0]]"
   ]
  },
  {
   "cell_type": "code",
   "execution_count": 57,
   "id": "45b2f564-2c30-4387-812c-e3051465a234",
   "metadata": {},
   "outputs": [
    {
     "name": "stdout",
     "output_type": "stream",
     "text": [
      "mape Actual 0.0\n",
      "mape Q50 10.471523078864697\n",
      "mape Q10 26.034501432608813\n",
      "mape Q20 18.71526550893007\n",
      "mape Q30 14.973961557400498\n",
      "mape Q40 11.822035718076071\n",
      "mape Q60 9.226936076348204\n",
      "mape Q70 9.199983886100727\n",
      "mape Q80 14.942183719063115\n",
      "mape Q90 23.640840090245806\n"
     ]
    }
   ],
   "source": [
    "for col in dfY.columns:\n",
    "    print(f\"mape {col} {mape(TimeSeries.from_series(dfY['Actual'], freq='B'), TimeSeries.from_series(dfY[col], freq='B'))}\")"
   ]
  },
  {
   "cell_type": "code",
   "execution_count": 61,
   "id": "60a89131-9bbc-489d-95fc-20820a13bafa",
   "metadata": {},
   "outputs": [
    {
     "data": {
      "image/png": "[encoded data removed]",
      "text/plain": [
       "<Figure size 1440x504 with 1 Axes>"
      ]
     },
     "metadata": {},
     "output_type": "display_data"
    }
   ],
   "source": [
    "# plot the forecast\n",
    "plt.figure(100, figsize=(20, 7))\n",
    "sns.set(font_scale=1.3)\n",
    "p = sns.lineplot(x = \"date\", y = \"Q60\", data = dfY, palette=\"coolwarm\")\n",
    "sns.lineplot(x = \"date\", y = \"Actual\", data = dfY, palette=\"coolwarm\")\n",
    "plt.legend(labels=[\"forecast median price Q50\", \"actual price\"])\n",
    "p.set_ylabel(\"price\")\n",
    "p.set_xlabel(\"\")\n",
    "p.set_title(\"energy price (test set)\");"
   ]
  },
  {
   "cell_type": "code",
   "execution_count": null,
   "id": "1067fda1-3880-43db-8e3e-0b6757355432",
   "metadata": {},
   "outputs": [],
   "source": []
  },
  {
   "cell_type": "markdown",
   "id": "c7a2d38a-0051-4e61-b8f8-66b0df63a426",
   "metadata": {},
   "source": [
    "## Glutons"
   ]
  },
  {
   "cell_type": "code",
   "execution_count": 317,
   "id": "ea766879-fdc8-4d9b-a665-fa3fc4846ff5",
   "metadata": {},
   "outputs": [
    {
     "ename": "ModuleNotFoundError",
     "evalue": "No module named 'mxnet'",
     "output_type": "error",
     "traceback": [
      "\u001b[1;31m---------------------------------------------------------------------------\u001b[0m",
      "\u001b[1;31mModuleNotFoundError\u001b[0m                       Traceback (most recent call last)",
      "Input \u001b[1;32mIn [317]\u001b[0m, in \u001b[0;36m<cell line: 4>\u001b[1;34m()\u001b[0m\n\u001b[0;32m      1\u001b[0m \u001b[38;5;28;01mfrom\u001b[39;00m \u001b[38;5;21;01mgluonts\u001b[39;00m\u001b[38;5;21;01m.\u001b[39;00m\u001b[38;5;21;01mdataset\u001b[39;00m\u001b[38;5;21;01m.\u001b[39;00m\u001b[38;5;21;01mcommon\u001b[39;00m \u001b[38;5;28;01mimport\u001b[39;00m ListDataset\n\u001b[0;32m      2\u001b[0m \u001b[38;5;28;01mfrom\u001b[39;00m \u001b[38;5;21;01mgluonts\u001b[39;00m\u001b[38;5;21;01m.\u001b[39;00m\u001b[38;5;21;01mdataset\u001b[39;00m\u001b[38;5;21;01m.\u001b[39;00m\u001b[38;5;21;01mutil\u001b[39;00m \u001b[38;5;28;01mimport\u001b[39;00m to_pandas\n\u001b[1;32m----> 4\u001b[0m \u001b[38;5;28;01mfrom\u001b[39;00m \u001b[38;5;21;01mgluonts\u001b[39;00m\u001b[38;5;21;01m.\u001b[39;00m\u001b[38;5;21;01mmodel\u001b[39;00m\u001b[38;5;21;01m.\u001b[39;00m\u001b[38;5;21;01mdeepar\u001b[39;00m \u001b[38;5;28;01mimport\u001b[39;00m DeepAREstimator\n\u001b[0;32m      5\u001b[0m \u001b[38;5;28;01mfrom\u001b[39;00m \u001b[38;5;21;01mgluonts\u001b[39;00m\u001b[38;5;21;01m.\u001b[39;00m\u001b[38;5;21;01mmx\u001b[39;00m\u001b[38;5;21;01m.\u001b[39;00m\u001b[38;5;21;01mdistribution\u001b[39;00m \u001b[38;5;28;01mimport\u001b[39;00m ZeroInflatedNegativeBinomialOutput, StudentTOutput \u001b[38;5;66;03m#likelihood\u001b[39;00m\n\u001b[0;32m      6\u001b[0m \u001b[38;5;28;01mfrom\u001b[39;00m \u001b[38;5;21;01mgluonts\u001b[39;00m\u001b[38;5;21;01m.\u001b[39;00m\u001b[38;5;21;01mmx\u001b[39;00m\u001b[38;5;21;01m.\u001b[39;00m\u001b[38;5;21;01mtrainer\u001b[39;00m\u001b[38;5;21;01m.\u001b[39;00m\u001b[38;5;21;01mlearning_rate_scheduler\u001b[39;00m \u001b[38;5;28;01mimport\u001b[39;00m LearningRateReduction\n",
      "File \u001b[1;32mD:\\anaconda3\\lib\\site-packages\\gluonts\\model\\deepar\\__init__.py:16\u001b[0m, in \u001b[0;36m<module>\u001b[1;34m\u001b[0m\n\u001b[0;32m      1\u001b[0m \u001b[38;5;66;03m# Copyright 2018 Amazon.com, Inc. or its affiliates. All Rights Reserved.\u001b[39;00m\n\u001b[0;32m      2\u001b[0m \u001b[38;5;66;03m#\u001b[39;00m\n\u001b[0;32m      3\u001b[0m \u001b[38;5;66;03m# Licensed under the Apache License, Version 2.0 (the \"License\").\u001b[39;00m\n\u001b[1;32m   (...)\u001b[0m\n\u001b[0;32m     11\u001b[0m \u001b[38;5;66;03m# express or implied. See the License for the specific language governing\u001b[39;00m\n\u001b[0;32m     12\u001b[0m \u001b[38;5;66;03m# permissions and limitations under the License.\u001b[39;00m\n\u001b[0;32m     14\u001b[0m \u001b[38;5;28;01mimport\u001b[39;00m \u001b[38;5;21;01mwarnings\u001b[39;00m\n\u001b[1;32m---> 16\u001b[0m \u001b[38;5;28;01mfrom\u001b[39;00m \u001b[38;5;21;01mgluonts\u001b[39;00m\u001b[38;5;21;01m.\u001b[39;00m\u001b[38;5;21;01mmx\u001b[39;00m\u001b[38;5;21;01m.\u001b[39;00m\u001b[38;5;21;01mmodel\u001b[39;00m\u001b[38;5;21;01m.\u001b[39;00m\u001b[38;5;21;01mdeepar\u001b[39;00m \u001b[38;5;28;01mimport\u001b[39;00m DeepAREstimator\n\u001b[0;32m     18\u001b[0m warnings\u001b[38;5;241m.\u001b[39mwarn(\n\u001b[0;32m     19\u001b[0m     \u001b[38;5;124m\"\u001b[39m\u001b[38;5;124mThe module gluonts.model.deepar has been moved to \u001b[39m\u001b[38;5;124m\"\u001b[39m\n\u001b[0;32m     20\u001b[0m     \u001b[38;5;124m\"\u001b[39m\u001b[38;5;124mgluonts.mx.model.deepar. In GluonTS v0.12 it will be no longer \u001b[39m\u001b[38;5;124m\"\u001b[39m\n\u001b[1;32m   (...)\u001b[0m\n\u001b[0;32m     23\u001b[0m     \u001b[38;5;167;01mFutureWarning\u001b[39;00m,\n\u001b[0;32m     24\u001b[0m )\n\u001b[0;32m     26\u001b[0m __all__ \u001b[38;5;241m=\u001b[39m [\u001b[38;5;124m\"\u001b[39m\u001b[38;5;124mDeepAREstimator\u001b[39m\u001b[38;5;124m\"\u001b[39m]\n",
      "File \u001b[1;32mD:\\anaconda3\\lib\\site-packages\\gluonts\\mx\\__init__.py:21\u001b[0m, in \u001b[0;36m<module>\u001b[1;34m\u001b[0m\n\u001b[0;32m     18\u001b[0m \u001b[38;5;28;01mimport\u001b[39;00m \u001b[38;5;21;01mtyping\u001b[39;00m\n\u001b[0;32m     19\u001b[0m \u001b[38;5;28;01mfrom\u001b[39;00m \u001b[38;5;21;01mpkgutil\u001b[39;00m \u001b[38;5;28;01mimport\u001b[39;00m extend_path\n\u001b[1;32m---> 21\u001b[0m \u001b[38;5;28;01mimport\u001b[39;00m \u001b[38;5;21;01mmxnet\u001b[39;00m \u001b[38;5;28;01mas\u001b[39;00m \u001b[38;5;21;01mmx\u001b[39;00m\n\u001b[0;32m     23\u001b[0m __path__ \u001b[38;5;241m=\u001b[39m extend_path(__path__, \u001b[38;5;18m__name__\u001b[39m)  \u001b[38;5;66;03m# type: ignore\u001b[39;00m\n\u001b[0;32m     25\u001b[0m \u001b[38;5;66;03m# Tensor type for HybridBlocks in Gluon\u001b[39;00m\n",
      "\u001b[1;31mModuleNotFoundError\u001b[0m: No module named 'mxnet'"
     ]
    }
   ],
   "source": [
    "from gluonts.dataset.common import ListDataset\n",
    "from gluonts.dataset.util import to_pandas\n",
    "\n",
    "from gluonts.model.deepar import DeepAREstimator\n",
    "from gluonts.mx.distribution import ZeroInflatedNegativeBinomialOutput, StudentTOutput #likelihood\n",
    "from gluonts.mx.trainer.learning_rate_scheduler import LearningRateReduction\n",
    "from gluonts.mx.trainer import Trainer\n",
    "from gluonts.mx.trainer.model_averaging import ModelAveraging, SelectNBestSoftmax, SelectNBestMean\n",
    "\n",
    "from gluonts.evaluation import Evaluator\n",
    "from gluonts.evaluation.backtest import make_evaluation_predictions"
   ]
  },
  {
   "cell_type": "code",
   "execution_count": 302,
   "id": "0f7dd3e1-4078-488a-83ee-cb3fb5741bd8",
   "metadata": {},
   "outputs": [],
   "source": [
    "df = rubber.copy()"
   ]
  },
  {
   "cell_type": "code",
   "execution_count": null,
   "id": "15c28be3-18d2-4a13-9a3f-cce006a74e3e",
   "metadata": {},
   "outputs": [],
   "source": [
    "training_data = ListDataset(\n",
    "    [{\"start\": df.index[0], \"target\": df.ribbed_smoked_sheet.loc[:\"2022-08\"], }],\n",
    "    freq = \"B\"\n",
    ")"
   ]
  }
 ],
 "metadata": {
  "kernelspec": {
   "display_name": "Python 3 (ipykernel)",
   "language": "python",
   "name": "python3"
  },
  "language_info": {
   "codemirror_mode": {
    "name": "ipython",
    "version": 3
   },
   "file_extension": ".py",
   "mimetype": "text/x-python",
   "name": "python",
   "nbconvert_exporter": "python",
   "pygments_lexer": "ipython3",
   "version": "3.9.12"
  }
 },
 "nbformat": 4,
 "nbformat_minor": 5
}
